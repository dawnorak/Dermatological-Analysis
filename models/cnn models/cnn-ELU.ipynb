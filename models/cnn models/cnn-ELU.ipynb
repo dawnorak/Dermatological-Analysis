{
 "cells": [
  {
   "cell_type": "code",
   "execution_count": 52,
   "id": "b7d73b7d",
   "metadata": {},
   "outputs": [],
   "source": [
    "import os\n",
    "import numpy as np\n",
    "import torch\n",
    "import glob\n",
    "import torch.nn as nn\n",
    "from torchvision.transforms import transforms\n",
    "from torch.utils.data import DataLoader\n",
    "from torch.optim import NAdam\n",
    "from torch.optim import SGD\n",
    "from torch.autograd import Variable\n",
    "import torchvision\n",
    "import pathlib"
   ]
  },
  {
   "cell_type": "code",
   "execution_count": 5,
   "id": "63342a21",
   "metadata": {},
   "outputs": [],
   "source": [
    "device=torch.device('cuda' if torch.cuda.is_available() else 'cpu')"
   ]
  },
  {
   "cell_type": "code",
   "execution_count": 6,
   "id": "74f481bb",
   "metadata": {},
   "outputs": [],
   "source": [
    "transformer=transforms.Compose([\n",
    "    transforms.Resize((150,150)),\n",
    "    transforms.RandomHorizontalFlip(),\n",
    "    transforms.ToTensor(),  #0-255 to 0-1, numpy to tensors\n",
    "    transforms.Normalize([0.5,0.5,0.5], # 0-1 to [-1,1] , formula (x-mean)/std\n",
    "                        [0.5,0.5,0.5])\n",
    "])"
   ]
  },
  {
   "cell_type": "code",
   "execution_count": 7,
   "id": "79a5cb74",
   "metadata": {},
   "outputs": [],
   "source": [
    "train_path= r'C:\\Users\\DAWN\\Documents\\Python Scripts\\python\\data\\train'\n",
    "test_path= r'C:\\Users\\DAWN\\Documents\\Python Scripts\\python\\data\\test'\n",
    "\n",
    "train_loader=DataLoader(\n",
    "    torchvision.datasets.ImageFolder(train_path,transform=transformer),\n",
    "    batch_size=128, shuffle=True\n",
    ")\n",
    "test_loader=DataLoader(\n",
    "    torchvision.datasets.ImageFolder(test_path,transform=transformer),\n",
    "    batch_size=64, shuffle=True\n",
    ")"
   ]
  },
  {
   "cell_type": "code",
   "execution_count": 8,
   "id": "a0694293",
   "metadata": {},
   "outputs": [
    {
     "name": "stdout",
     "output_type": "stream",
     "text": [
      "['benign', 'malignant']\n"
     ]
    }
   ],
   "source": [
    "root=pathlib.Path(train_path)\n",
    "classes=sorted([j.name.split('/')[-1] for j in root.iterdir()])\n",
    "print(classes)"
   ]
  },
  {
   "cell_type": "code",
   "execution_count": 17,
   "id": "724ffc79",
   "metadata": {},
   "outputs": [],
   "source": [
    "class ConvNet(nn.Module):\n",
    "    def __init__(self,num_classes=2):\n",
    "        super(ConvNet,self).__init__()\n",
    "        \n",
    "        #Output size after convolution filter\n",
    "        #Input shape= (256,3,150,150)\n",
    "        \n",
    "        self.conv1=nn.Conv2d(in_channels=3,out_channels=12,kernel_size=5,stride=1,padding=2)\n",
    "        #Shape= (256,12,150,150)\n",
    "        self.bn1=nn.BatchNorm2d(num_features=12)\n",
    "        #Shape= (256,12,150,150)\n",
    "        self.relu1=nn.ELU()\n",
    "        #Shape= (256,12,150,150)\n",
    "        \n",
    "        self.pool=nn.MaxPool2d(kernel_size=2)\n",
    "        #Reduce the image size be factor 2\n",
    "        #Shape= (256,12,75,75)\n",
    "        \n",
    "        self.conv2=nn.Conv2d(in_channels=12,out_channels=20,kernel_size=5,stride=1,padding=2)\n",
    "        #Shape= (256,20,75,75)\n",
    "        self.relu2=nn.ELU()\n",
    "        #Shape= (256,20,75,75)\n",
    "        \n",
    "        self.conv3=nn.Conv2d(in_channels=20,out_channels=32,kernel_size=5,stride=1,padding=2)\n",
    "        #Shape= (256,20,75,75)\n",
    "        self.relu3=nn.ELU()\n",
    "        #Shape= (256,20,75,75)\n",
    "        \n",
    "        self.conv4=nn.Conv2d(in_channels=32,out_channels=48,kernel_size=5,stride=1,padding=2)\n",
    "        #Shape= (256,32,75,75)\n",
    "        self.bn4=nn.BatchNorm2d(num_features=48)\n",
    "        #Shape= (256,32,75,75)\n",
    "        self.relu4=nn.ELU()\n",
    "        #Shape= (256,32,75,75)\n",
    "        \n",
    "        self.fc=nn.Linear(in_features=75 * 75 * 48,out_features=num_classes)\n",
    "        \n",
    "    def forward(self,input):\n",
    "        output=self.conv1(input)\n",
    "        output=self.bn1(output)\n",
    "        output=self.relu1(output)\n",
    "            \n",
    "        output=self.pool(output)\n",
    "            \n",
    "        output=self.conv2(output)\n",
    "        output=self.relu2(output)\n",
    "        \n",
    "        output=self.conv3(output)\n",
    "        output=self.relu3(output)\n",
    "        \n",
    "        output=self.conv4(output)\n",
    "        output=self.bn4(output)\n",
    "        output=self.relu4(output)\n",
    "            \n",
    "            #Above output will be in matrix form, with shape (256,32,75,75)\n",
    "            \n",
    "        output=output.view(-1,48*75*75)\n",
    "        output=self.fc(output)            \n",
    "        return output"
   ]
  },
  {
   "cell_type": "code",
   "execution_count": 18,
   "id": "1db3b67f",
   "metadata": {},
   "outputs": [],
   "source": [
    "model=ConvNet(num_classes=2).to(device)"
   ]
  },
  {
   "cell_type": "code",
   "execution_count": 19,
   "id": "1d997e0d",
   "metadata": {},
   "outputs": [],
   "source": [
    "optimizer=NAdam(model.parameters(),lr=0.0001,weight_decay=0.0001)\n",
    "loss_function=nn.CrossEntropyLoss()"
   ]
  },
  {
   "cell_type": "code",
   "execution_count": 36,
   "id": "916b622f",
   "metadata": {},
   "outputs": [],
   "source": [
    "num_epochs=100"
   ]
  },
  {
   "cell_type": "code",
   "execution_count": 37,
   "id": "3888ac6e",
   "metadata": {},
   "outputs": [],
   "source": [
    "train_count=len(glob.glob(train_path+'/**/*.jpg'))\n",
    "test_count=len(glob.glob(test_path+'/**/*.jpg'))"
   ]
  },
  {
   "cell_type": "code",
   "execution_count": 38,
   "id": "58b95219",
   "metadata": {},
   "outputs": [],
   "source": [
    "ta = [0]*100\n",
    "tl = [0]*100\n",
    "tea = [0]*100\n",
    "tel = [0]*100"
   ]
  },
  {
   "cell_type": "code",
   "execution_count": 20,
   "id": "79aa498c",
   "metadata": {},
   "outputs": [
    {
     "name": "stdout",
     "output_type": "stream",
     "text": [
      "Epoch: 0 Train Loss: tensor(1.1897) Train Accuracy: 0.7364429275692075 Test Accuracy: 0.693939393939394\n",
      "Epoch: 1 Train Loss: tensor(3.3383) Train Accuracy: 0.7447857413727721 Test Accuracy: 0.703030303030303\n",
      "Epoch: 2 Train Loss: tensor(2.1802) Train Accuracy: 0.7834660599165718 Test Accuracy: 0.7666666666666667\n",
      "Epoch: 3 Train Loss: tensor(1.6486) Train Accuracy: 0.80128934395146 Test Accuracy: 0.8090909090909091\n",
      "Epoch: 4 Train Loss: tensor(1.7566) Train Accuracy: 0.7880166856276072 Test Accuracy: 0.8333333333333334\n",
      "Epoch: 5 Train Loss: tensor(1.5295) Train Accuracy: 0.7846037163443307 Test Accuracy: 0.8227272727272728\n",
      "Epoch: 6 Train Loss: tensor(1.3023) Train Accuracy: 0.8153204398938187 Test Accuracy: 0.8424242424242424\n",
      "Epoch: 7 Train Loss: tensor(2.0523) Train Accuracy: 0.7849829351535836 Test Accuracy: 0.7606060606060606\n",
      "Epoch: 8 Train Loss: tensor(4.3075) Train Accuracy: 0.7713310580204779 Test Accuracy: 0.8166666666666667\n",
      "Epoch: 9 Train Loss: tensor(2.6369) Train Accuracy: 0.7853621539628366 Test Accuracy: 0.843939393939394\n",
      "Epoch: 10 Train Loss: tensor(2.0252) Train Accuracy: 0.8050815320439894 Test Accuracy: 0.8818181818181818\n",
      "Epoch: 11 Train Loss: tensor(1.4643) Train Accuracy: 0.8251801289343952 Test Accuracy: 0.9424242424242424\n",
      "Epoch: 12 Train Loss: tensor(1.1443) Train Accuracy: 0.8293515358361775 Test Accuracy: 0.9136363636363637\n",
      "Epoch: 13 Train Loss: tensor(1.2586) Train Accuracy: 0.8460371634433068 Test Accuracy: 0.9090909090909091\n",
      "Epoch: 14 Train Loss: tensor(1.5300) Train Accuracy: 0.820250284414107 Test Accuracy: 0.9166666666666666\n",
      "Epoch: 15 Train Loss: tensor(1.3044) Train Accuracy: 0.844899507015548 Test Accuracy: 0.956060606060606\n",
      "Epoch: 16 Train Loss: tensor(1.1433) Train Accuracy: 0.8524838832006068 Test Accuracy: 0.9590909090909091\n",
      "Epoch: 17 Train Loss: tensor(1.0125) Train Accuracy: 0.8657565415244596 Test Accuracy: 0.9227272727272727\n",
      "Epoch: 18 Train Loss: tensor(1.3355) Train Accuracy: 0.8668941979522184 Test Accuracy: 0.9757575757575757\n",
      "Epoch: 19 Train Loss: tensor(0.9940) Train Accuracy: 0.8657565415244596 Test Accuracy: 0.9727272727272728\n",
      "Epoch: 20 Train Loss: tensor(0.9506) Train Accuracy: 0.8835798255593478 Test Accuracy: 0.9606060606060606\n",
      "Epoch: 21 Train Loss: tensor(0.8259) Train Accuracy: 0.8813045127038301 Test Accuracy: 0.9803030303030303\n",
      "Epoch: 22 Train Loss: tensor(0.5872) Train Accuracy: 0.8957148274554418 Test Accuracy: 0.9727272727272728\n",
      "Epoch: 23 Train Loss: tensor(0.6419) Train Accuracy: 0.8953356086461889 Test Accuracy: 0.9757575757575757\n",
      "Epoch: 24 Train Loss: tensor(0.6609) Train Accuracy: 0.8926810769814183 Test Accuracy: 0.9696969696969697\n",
      "Epoch: 25 Train Loss: tensor(0.5758) Train Accuracy: 0.9086082669700417 Test Accuracy: 0.9878787878787879\n",
      "Epoch: 26 Train Loss: tensor(0.5420) Train Accuracy: 0.9139173302995829 Test Accuracy: 0.9757575757575757\n",
      "Epoch: 27 Train Loss: tensor(0.5879) Train Accuracy: 0.9105043610163064 Test Accuracy: 0.9833333333333333\n",
      "Epoch: 28 Train Loss: tensor(0.5140) Train Accuracy: 0.912779673871824 Test Accuracy: 0.9863636363636363\n",
      "Epoch: 29 Train Loss: tensor(0.5304) Train Accuracy: 0.9112627986348123 Test Accuracy: 0.9712121212121212\n",
      "Epoch: 30 Train Loss: tensor(0.4721) Train Accuracy: 0.9154342055365946 Test Accuracy: 0.9833333333333333\n",
      "Epoch: 31 Train Loss: tensor(0.4633) Train Accuracy: 0.919226393629124 Test Accuracy: 0.9893939393939394\n",
      "Epoch: 32 Train Loss: tensor(0.3573) Train Accuracy: 0.9283276450511946 Test Accuracy: 0.9893939393939394\n",
      "Epoch: 33 Train Loss: tensor(0.4194) Train Accuracy: 0.9199848312476299 Test Accuracy: 0.9863636363636363\n",
      "Epoch: 34 Train Loss: tensor(0.3457) Train Accuracy: 0.9328782707622298 Test Accuracy: 0.9818181818181818\n",
      "Epoch: 35 Train Loss: tensor(0.4069) Train Accuracy: 0.9218809252938945 Test Accuracy: 0.9818181818181818\n",
      "Epoch: 36 Train Loss: tensor(0.3377) Train Accuracy: 0.9275692074326887 Test Accuracy: 0.9924242424242424\n",
      "Epoch: 37 Train Loss: tensor(0.2720) Train Accuracy: 0.9397042093287827 Test Accuracy: 0.9924242424242424\n",
      "Epoch: 38 Train Loss: tensor(0.2877) Train Accuracy: 0.9404626469472885 Test Accuracy: 0.9954545454545455\n",
      "Epoch: 39 Train Loss: tensor(0.2682) Train Accuracy: 0.9400834281380357 Test Accuracy: 0.9939393939393939\n",
      "Epoch: 40 Train Loss: tensor(0.2774) Train Accuracy: 0.9453924914675768 Test Accuracy: 0.9848484848484849\n",
      "Epoch: 41 Train Loss: tensor(0.2410) Train Accuracy: 0.9431171786120591 Test Accuracy: 0.9893939393939394\n",
      "Epoch: 42 Train Loss: tensor(0.2166) Train Accuracy: 0.9453924914675768 Test Accuracy: 0.9954545454545455\n",
      "Epoch: 43 Train Loss: tensor(0.2311) Train Accuracy: 0.950322335987865 Test Accuracy: 0.9954545454545455\n",
      "Epoch: 44 Train Loss: tensor(0.1479) Train Accuracy: 0.9643534319302237 Test Accuracy: 0.9954545454545455\n",
      "Epoch: 45 Train Loss: tensor(0.1321) Train Accuracy: 0.9662495259764884 Test Accuracy: 0.9924242424242424\n",
      "Epoch: 46 Train Loss: tensor(0.1388) Train Accuracy: 0.9662495259764884 Test Accuracy: 0.9984848484848485\n",
      "Epoch: 47 Train Loss: tensor(0.1331) Train Accuracy: 0.9677664012135002 Test Accuracy: 1.0\n",
      "Epoch: 48 Train Loss: tensor(0.0825) Train Accuracy: 0.9802806219188471 Test Accuracy: 0.9954545454545455\n",
      "Epoch: 49 Train Loss: tensor(0.0840) Train Accuracy: 0.9806598407281001 Test Accuracy: 0.9984848484848485\n",
      "Epoch: 50 Train Loss: tensor(0.1178) Train Accuracy: 0.9738339021615472 Test Accuracy: 0.9863636363636363\n",
      "Epoch: 51 Train Loss: tensor(0.1541) Train Accuracy: 0.9647326507394767 Test Accuracy: 0.9924242424242424\n",
      "Epoch: 52 Train Loss: tensor(0.0978) Train Accuracy: 0.9738339021615472 Test Accuracy: 1.0\n",
      "Epoch: 53 Train Loss: tensor(0.0443) Train Accuracy: 0.9848312476298824 Test Accuracy: 0.9984848484848485\n",
      "Epoch: 54 Train Loss: tensor(0.0666) Train Accuracy: 0.9840728100113766 Test Accuracy: 1.0\n",
      "Epoch: 55 Train Loss: tensor(0.0301) Train Accuracy: 0.9943117178612059 Test Accuracy: 1.0\n",
      "Epoch: 56 Train Loss: tensor(0.0306) Train Accuracy: 0.9946909366704588 Test Accuracy: 1.0\n",
      "Epoch: 57 Train Loss: tensor(0.0218) Train Accuracy: 0.9962078119074707 Test Accuracy: 1.0\n",
      "Epoch: 58 Train Loss: tensor(0.0148) Train Accuracy: 0.9977246871444824 Test Accuracy: 1.0\n",
      "Epoch: 59 Train Loss: tensor(0.0127) Train Accuracy: 0.9981039059537353 Test Accuracy: 1.0\n",
      "Epoch: 60 Train Loss: tensor(0.0212) Train Accuracy: 0.9950701554797118 Test Accuracy: 1.0\n",
      "Epoch: 61 Train Loss: tensor(0.0060) Train Accuracy: 0.9981039059537353 Test Accuracy: 1.0\n",
      "Epoch: 62 Train Loss: tensor(0.0088) Train Accuracy: 0.9992415623814941 Test Accuracy: 1.0\n",
      "Epoch: 63 Train Loss: tensor(0.0077) Train Accuracy: 0.999620781190747 Test Accuracy: 1.0\n",
      "Epoch: 64 Train Loss: tensor(0.0036) Train Accuracy: 0.999620781190747 Test Accuracy: 1.0\n",
      "Epoch: 65 Train Loss: tensor(0.0039) Train Accuracy: 0.999620781190747 Test Accuracy: 0.9954545454545455\n",
      "Epoch: 66 Train Loss: tensor(0.0913) Train Accuracy: 0.9791429654910884 Test Accuracy: 0.990909090909091\n",
      "Epoch: 67 Train Loss: tensor(0.0474) Train Accuracy: 0.9848312476298824 Test Accuracy: 0.9984848484848485\n",
      "Epoch: 68 Train Loss: tensor(0.0752) Train Accuracy: 0.981039059537353 Test Accuracy: 0.996969696969697\n",
      "Epoch: 69 Train Loss: tensor(0.0384) Train Accuracy: 0.9844520288206295 Test Accuracy: 0.9984848484848485\n",
      "Epoch: 70 Train Loss: tensor(0.0438) Train Accuracy: 0.9855896852483883 Test Accuracy: 0.9939393939393939\n",
      "Epoch: 71 Train Loss: tensor(0.0412) Train Accuracy: 0.9859689040576413 Test Accuracy: 1.0\n",
      "Epoch: 72 Train Loss: tensor(0.0363) Train Accuracy: 0.9878649981039059 Test Accuracy: 1.0\n",
      "Epoch: 73 Train Loss: tensor(0.0180) Train Accuracy: 0.9958285930982177 Test Accuracy: 1.0\n",
      "Epoch: 74 Train Loss: tensor(0.0133) Train Accuracy: 0.9962078119074707 Test Accuracy: 1.0\n",
      "Epoch: 75 Train Loss: tensor(0.0162) Train Accuracy: 0.9962078119074707 Test Accuracy: 1.0\n",
      "Epoch: 76 Train Loss: tensor(0.0047) Train Accuracy: 0.9988623435722411 Test Accuracy: 1.0\n",
      "Epoch: 77 Train Loss: tensor(0.0272) Train Accuracy: 0.9931740614334471 Test Accuracy: 1.0\n",
      "Epoch: 78 Train Loss: tensor(0.0102) Train Accuracy: 0.9962078119074707 Test Accuracy: 1.0\n",
      "Epoch: 79 Train Loss: tensor(0.0081) Train Accuracy: 0.9973454683352294 Test Accuracy: 0.9939393939393939\n",
      "Epoch: 80 Train Loss: tensor(0.0848) Train Accuracy: 0.9768676526355707 Test Accuracy: 0.9924242424242424\n"
     ]
    },
    {
     "name": "stdout",
     "output_type": "stream",
     "text": [
      "Epoch: 81 Train Loss: tensor(0.1034) Train Accuracy: 0.9768676526355707 Test Accuracy: 0.9939393939393939\n",
      "Epoch: 82 Train Loss: tensor(0.1067) Train Accuracy: 0.9738339021615472 Test Accuracy: 0.9878787878787879\n",
      "Epoch: 83 Train Loss: tensor(0.1628) Train Accuracy: 0.9651118695487296 Test Accuracy: 0.9924242424242424\n",
      "Epoch: 84 Train Loss: tensor(0.0879) Train Accuracy: 0.9719378081152825 Test Accuracy: 0.9924242424242424\n",
      "Epoch: 85 Train Loss: tensor(0.1198) Train Accuracy: 0.9711793704967766 Test Accuracy: 0.9984848484848485\n",
      "Epoch: 86 Train Loss: tensor(0.1459) Train Accuracy: 0.9677664012135002 Test Accuracy: 0.9803030303030303\n",
      "Epoch: 87 Train Loss: tensor(0.1933) Train Accuracy: 0.9544937428896473 Test Accuracy: 0.9651515151515152\n",
      "Epoch: 88 Train Loss: tensor(0.1917) Train Accuracy: 0.9594235874099355 Test Accuracy: 0.8772727272727273\n",
      "Epoch: 89 Train Loss: tensor(5.5105) Train Accuracy: 0.782707622298066 Test Accuracy: 0.793939393939394\n",
      "Epoch: 90 Train Loss: tensor(5.4580) Train Accuracy: 0.7762609025407661 Test Accuracy: 0.7181818181818181\n",
      "Epoch: 91 Train Loss: tensor(5.8207) Train Accuracy: 0.7944634053849071 Test Accuracy: 0.7893939393939394\n",
      "Epoch: 92 Train Loss: tensor(6.8143) Train Accuracy: 0.7796738718240425 Test Accuracy: 0.7909090909090909\n",
      "Epoch: 93 Train Loss: tensor(4.7067) Train Accuracy: 0.7982555934774365 Test Accuracy: 0.8424242424242424\n",
      "Epoch: 94 Train Loss: tensor(3.7529) Train Accuracy: 0.8050815320439894 Test Accuracy: 0.8878787878787879\n",
      "Epoch: 95 Train Loss: tensor(2.3620) Train Accuracy: 0.8191126279863481 Test Accuracy: 0.9333333333333333\n",
      "Epoch: 96 Train Loss: tensor(2.2753) Train Accuracy: 0.8365566932119833 Test Accuracy: 0.8818181818181818\n",
      "Epoch: 97 Train Loss: tensor(3.1155) Train Accuracy: 0.8414865377322716 Test Accuracy: 0.9303030303030303\n",
      "Epoch: 98 Train Loss: tensor(2.1111) Train Accuracy: 0.8452787258248009 Test Accuracy: 0.946969696969697\n",
      "Epoch: 99 Train Loss: tensor(1.8611) Train Accuracy: 0.8600682593856656 Test Accuracy: 0.9454545454545454\n"
     ]
    }
   ],
   "source": [
    "best_accuracy=0.0\n",
    "\n",
    "for epoch in range(num_epochs):\n",
    "    \n",
    "    #Evaluation and training on training dataset\n",
    "    model.train()\n",
    "    train_accuracy=0.0\n",
    "    train_loss=0.0\n",
    "    \n",
    "    for i, (images,labels) in enumerate(train_loader):\n",
    "        if torch.cuda.is_available():\n",
    "            images=Variable(images.cuda())\n",
    "            labels=Variable(labels.cuda())\n",
    "            \n",
    "        optimizer.zero_grad()\n",
    "        \n",
    "        outputs=model(images)\n",
    "        loss=loss_function(outputs,labels)\n",
    "        loss.backward()\n",
    "        optimizer.step()\n",
    "        \n",
    "        \n",
    "        train_loss+= loss.cpu().data*images.size(0)\n",
    "        _,prediction=torch.max(outputs.data,1)\n",
    "        \n",
    "        train_accuracy+=int(torch.sum(prediction==labels.data))\n",
    "        \n",
    "    train_accuracy=train_accuracy/train_count\n",
    "    train_loss=train_loss/train_count\n",
    "    \n",
    "    \n",
    "    # Evaluation on testing dataset\n",
    "    model.eval()\n",
    "    test_accuracy=0.0\n",
    "    test_loss = 0.0\n",
    "    for i, (images,labels) in enumerate(test_loader):\n",
    "        if torch.cuda.is_available():\n",
    "            images=Variable(images.cuda())\n",
    "            labels=Variable(labels.cuda())\n",
    "            \n",
    "        outputs=model(images)\n",
    "        loss=loss_function(outputs,labels)\n",
    "        loss.backward()\n",
    "        optimizer.step()\n",
    "        test_loss+= loss.cpu().data*images.size(0)\n",
    "        _,prediction=torch.max(outputs.data,1)\n",
    "        test_accuracy+=int(torch.sum(prediction==labels.data))\n",
    "    \n",
    "    test_accuracy=test_accuracy/test_count\n",
    "    test_loss= test_loss/test_count\n",
    "    \n",
    "    print('Epoch: '+str(epoch)+' Train Loss: '+str(train_loss)+' Train Accuracy: '+str(train_accuracy)+' Test Accuracy: '+str(test_accuracy))\n",
    "    ta[epoch] = train_accuracy\n",
    "    tl[epoch] = train_loss\n",
    "    tea[epoch] = test_accuracy\n",
    "    tel[epoch] = test_loss\n",
    "    \n",
    "    #Save the best model\n",
    "    if test_accuracy>best_accuracy:\n",
    "        torch.save(model.state_dict(),'best_checkpoint_elu.model')\n",
    "        best_accuracy=test_accuracy"
   ]
  },
  {
   "cell_type": "code",
   "execution_count": 21,
   "id": "5dadb4a1",
   "metadata": {},
   "outputs": [
    {
     "data": {
      "image/png": "[encoded data removed]",
      "text/plain": [
       "<Figure size 432x288 with 1 Axes>"
      ]
     },
     "metadata": {
      "needs_background": "light"
     },
     "output_type": "display_data"
    },
    {
     "data": {
      "image/png": "[encoded data removed]",
      "text/plain": [
       "<Figure size 432x288 with 1 Axes>"
      ]
     },
     "metadata": {
      "needs_background": "light"
     },
     "output_type": "display_data"
    }
   ],
   "source": [
    "# 5x5 kernel, 4 layers, 48 channel\n",
    "plt.title('ELU Accuracy')\n",
    "plt.plot(ta)\n",
    "plt.plot(tea)\n",
    "plt.legend(['Train Accuracy', 'Test Accuracy'])\n",
    "plt.show()\n",
    "\n",
    "plt.title('ELU Loss')\n",
    "plt.plot(tl)\n",
    "plt.plot(tel)\n",
    "plt.legend(['Train Loss', 'Test Loss'])\n",
    "plt.show()"
   ]
  },
  {
   "cell_type": "code",
   "execution_count": 20,
   "id": "2e9593b7",
   "metadata": {},
   "outputs": [],
   "source": [
    "import torchinfo"
   ]
  },
  {
   "cell_type": "code",
   "execution_count": 21,
   "id": "16f4ca6a",
   "metadata": {},
   "outputs": [
    {
     "data": {
      "text/plain": [
       "=====================================================================================================================================================================\n",
       "Layer (type:depth-idx)                   Input Shape               Output Shape              Param #                   Kernel Shape              Mult-Adds\n",
       "=====================================================================================================================================================================\n",
       "ConvNet                                  [1, 3, 150, 150]          [1, 2]                    --                        --                        --\n",
       "├─Conv2d: 1-1                            [1, 3, 150, 150]          [1, 12, 150, 150]         336                       [3, 3]                    7,560,000\n",
       "├─BatchNorm2d: 1-2                       [1, 12, 150, 150]         [1, 12, 150, 150]         24                        --                        24\n",
       "├─ELU: 1-3                               [1, 12, 150, 150]         [1, 12, 150, 150]         --                        --                        --\n",
       "├─MaxPool2d: 1-4                         [1, 12, 150, 150]         [1, 12, 75, 75]           --                        2                         --\n",
       "├─Conv2d: 1-5                            [1, 12, 75, 75]           [1, 20, 75, 75]           2,180                     [3, 3]                    12,262,500\n",
       "├─ELU: 1-6                               [1, 20, 75, 75]           [1, 20, 75, 75]           --                        --                        --\n",
       "├─Conv2d: 1-7                            [1, 20, 75, 75]           [1, 32, 75, 75]           5,792                     [3, 3]                    32,580,000\n",
       "├─BatchNorm2d: 1-8                       [1, 32, 75, 75]           [1, 32, 75, 75]           64                        --                        64\n",
       "├─ELU: 1-9                               [1, 32, 75, 75]           [1, 32, 75, 75]           --                        --                        --\n",
       "├─Linear: 1-10                           [1, 180000]               [1, 2]                    360,002                   --                        360,002\n",
       "=====================================================================================================================================================================\n",
       "Total params: 368,398\n",
       "Trainable params: 368,398\n",
       "Non-trainable params: 0\n",
       "Total mult-adds (M): 52.76\n",
       "=====================================================================================================================================================================\n",
       "Input size (MB): 0.27\n",
       "Forward/backward pass size (MB): 8.10\n",
       "Params size (MB): 1.47\n",
       "Estimated Total Size (MB): 9.84\n",
       "====================================================================================================================================================================="
      ]
     },
     "execution_count": 21,
     "metadata": {},
     "output_type": "execute_result"
    }
   ],
   "source": [
    "torchinfo.summary(model, (3, 150, 150), batch_dim = 0, col_names = ('input_size', 'output_size', 'num_params', \n",
    "                                                                    'kernel_size', 'mult_adds'), verbose = 0)"
   ]
  },
  {
   "cell_type": "code",
   "execution_count": 22,
   "id": "0dfbfd98",
   "metadata": {},
   "outputs": [],
   "source": [
    "a = [0]*100\n",
    "l = [0]*100\n",
    "for i in range(0,100):\n",
    "    a[i] = ta[i] - tea[i]\n",
    "    l[i] = tel[i] - tl[i]\n",
    "sa=0\n",
    "sl=0\n",
    "for i in range(0,100):\n",
    "    sa = sa + a[i]\n",
    "    sl = sl + l[i]"
   ]
  },
  {
   "cell_type": "code",
   "execution_count": 23,
   "id": "e5b6a596",
   "metadata": {},
   "outputs": [],
   "source": [
    "sa1=0\n",
    "sa2=0\n",
    "sl1=0\n",
    "sl2 = 0\n",
    "for i in range(0,100):\n",
    "    sa1 = sa1+ta[i]\n",
    "    sl1 = sl1+tl[i]\n",
    "    sa2 = sa2+tea[i]\n",
    "    sl2 = sl2+tel[i]"
   ]
  },
  {
   "cell_type": "code",
   "execution_count": 24,
   "id": "3dc65c46",
   "metadata": {},
   "outputs": [
    {
     "name": "stdout",
     "output_type": "stream",
     "text": [
      "-0.0353315406625987\n"
     ]
    }
   ],
   "source": [
    "#Avg Difference in Accuracy\n",
    "print(sa/100)"
   ]
  },
  {
   "cell_type": "code",
   "execution_count": 25,
   "id": "e8e3ad05",
   "metadata": {},
   "outputs": [
    {
     "data": {
      "text/plain": [
       "tensor(-0.1678)"
      ]
     },
     "execution_count": 25,
     "metadata": {},
     "output_type": "execute_result"
    }
   ],
   "source": [
    "#Avg Difference in Loss\n",
    "sl/100"
   ]
  },
  {
   "cell_type": "code",
   "execution_count": 26,
   "id": "824a619e",
   "metadata": {},
   "outputs": [
    {
     "data": {
      "text/plain": [
       "91.49108835798255"
      ]
     },
     "execution_count": 26,
     "metadata": {},
     "output_type": "execute_result"
    }
   ],
   "source": [
    "#Avg Train Accuracy\n",
    "sa1"
   ]
  },
  {
   "cell_type": "code",
   "execution_count": 27,
   "id": "3d85b0ed",
   "metadata": {},
   "outputs": [
    {
     "data": {
      "text/plain": [
       "95.02424242424249"
      ]
     },
     "execution_count": 27,
     "metadata": {},
     "output_type": "execute_result"
    }
   ],
   "source": [
    "#Avg Test Accuracy\n",
    "sa2"
   ]
  },
  {
   "cell_type": "code",
   "execution_count": 31,
   "id": "6ce1cbe2",
   "metadata": {},
   "outputs": [
    {
     "data": {
      "text/plain": [
       "tensor(0.9298)"
      ]
     },
     "execution_count": 31,
     "metadata": {},
     "output_type": "execute_result"
    }
   ],
   "source": [
    "#Avg Train Loss\n",
    "sl1/100"
   ]
  },
  {
   "cell_type": "code",
   "execution_count": 32,
   "id": "f56e0925",
   "metadata": {},
   "outputs": [
    {
     "data": {
      "text/plain": [
       "tensor(0.7620)"
      ]
     },
     "execution_count": 32,
     "metadata": {},
     "output_type": "execute_result"
    }
   ],
   "source": [
    "#Avg Test Loss\n",
    "sl2/100"
   ]
  },
  {
   "cell_type": "code",
   "execution_count": 59,
   "id": "b1b768fc",
   "metadata": {},
   "outputs": [],
   "source": [
    "class ConvNet(nn.Module):\n",
    "    def __init__(self,num_classes=2):\n",
    "        super(ConvNet,self).__init__()\n",
    "        \n",
    "        #Output size after convolution filter\n",
    "        #Input shape= (256,3,150,150)\n",
    "        \n",
    "        self.conv1=nn.Conv2d(in_channels=3,out_channels=12,kernel_size=5,stride=1,padding=2)\n",
    "        #Shape= (256,12,150,150)\n",
    "        self.bn1=nn.BatchNorm2d(num_features=12)\n",
    "        #Shape= (256,12,150,150)\n",
    "        self.relu1=nn.ELU()\n",
    "        #Shape= (256,12,150,150)\n",
    "        \n",
    "        self.pool=nn.MaxPool2d(kernel_size=2)\n",
    "        #Reduce the image size be factor 2\n",
    "        #Shape= (256,12,75,75)\n",
    "        \n",
    "        self.conv2=nn.Conv2d(in_channels=12,out_channels=20,kernel_size=5,stride=1,padding=2)\n",
    "        #Shape= (256,20,75,75)\n",
    "        self.relu2=nn.ELU()\n",
    "        #Shape= (256,20,75,75)\n",
    "        \n",
    "        self.conv3=nn.Conv2d(in_channels=20,out_channels=32,kernel_size=5,stride=1,padding=2)\n",
    "        #Shape= (256,20,75,75)\n",
    "        self.relu3=nn.ELU()\n",
    "        #Shape= (256,20,75,75)\n",
    "        \n",
    "        self.conv4=nn.Conv2d(in_channels=32,out_channels=48,kernel_size=5,stride=1,padding=2)\n",
    "        #Shape= (256,32,75,75)\n",
    "        self.bn4=nn.BatchNorm2d(num_features=48)\n",
    "        #Shape= (256,32,75,75)\n",
    "        self.relu4=nn.ELU()\n",
    "        #Shape= (256,32,75,75)\n",
    "        \n",
    "        self.fc=nn.Linear(in_features=75 * 75 * 48,out_features=num_classes)\n",
    "        self.dropout=nn.Dropout(0.5)\n",
    "        \n",
    "    def forward(self,input):\n",
    "        output=self.conv1(input)\n",
    "        output=self.bn1(output)\n",
    "        output=self.relu1(output)\n",
    "            \n",
    "        output=self.pool(output)\n",
    "            \n",
    "        output=self.conv2(output)\n",
    "        output=self.relu2(output)\n",
    "        \n",
    "        output=self.conv3(output)\n",
    "        output=self.relu3(output)\n",
    "        \n",
    "        output=self.conv4(output)\n",
    "        output=self.bn4(output)\n",
    "        output=self.relu4(output)\n",
    "        \n",
    "        output=self.dropout(output)\n",
    "            \n",
    "            #Above output will be in matrix form, with shape (256,32,75,75)\n",
    "            \n",
    "        output=output.view(-1,48*75*75)\n",
    "        output=self.fc(output)            \n",
    "        return output"
   ]
  },
  {
   "cell_type": "code",
   "execution_count": 60,
   "id": "385c4f91",
   "metadata": {},
   "outputs": [],
   "source": [
    "model=ConvNet(num_classes=2).to(device)"
   ]
  },
  {
   "cell_type": "code",
   "execution_count": 61,
   "id": "c71a5b45",
   "metadata": {},
   "outputs": [],
   "source": [
    "optimizer=NAdam(model.parameters(),lr=0.0001,weight_decay=0.0001)\n",
    "loss_function=nn.CrossEntropyLoss()"
   ]
  },
  {
   "cell_type": "code",
   "execution_count": 62,
   "id": "6ffa782a",
   "metadata": {},
   "outputs": [
    {
     "ename": "RuntimeError",
     "evalue": "CUDA out of memory. Tried to allocate 132.00 MiB (GPU 0; 4.00 GiB total capacity; 3.29 GiB already allocated; 0 bytes free; 3.37 GiB reserved in total by PyTorch) If reserved memory is >> allocated memory try setting max_split_size_mb to avoid fragmentation.  See documentation for Memory Management and PYTORCH_CUDA_ALLOC_CONF",
     "output_type": "error",
     "traceback": [
      "\u001b[1;31m---------------------------------------------------------------------------\u001b[0m",
      "\u001b[1;31mRuntimeError\u001b[0m                              Traceback (most recent call last)",
      "\u001b[1;32m~\\AppData\\Local\\Temp/ipykernel_10036/2743688850.py\u001b[0m in \u001b[0;36m<module>\u001b[1;34m\u001b[0m\n\u001b[0;32m     15\u001b[0m         \u001b[0moptimizer\u001b[0m\u001b[1;33m.\u001b[0m\u001b[0mzero_grad\u001b[0m\u001b[1;33m(\u001b[0m\u001b[1;33m)\u001b[0m\u001b[1;33m\u001b[0m\u001b[1;33m\u001b[0m\u001b[0m\n\u001b[0;32m     16\u001b[0m \u001b[1;33m\u001b[0m\u001b[0m\n\u001b[1;32m---> 17\u001b[1;33m         \u001b[0moutputs\u001b[0m\u001b[1;33m=\u001b[0m\u001b[0mmodel\u001b[0m\u001b[1;33m(\u001b[0m\u001b[0mimages\u001b[0m\u001b[1;33m)\u001b[0m\u001b[1;33m\u001b[0m\u001b[1;33m\u001b[0m\u001b[0m\n\u001b[0m\u001b[0;32m     18\u001b[0m         \u001b[0mloss\u001b[0m\u001b[1;33m=\u001b[0m\u001b[0mloss_function\u001b[0m\u001b[1;33m(\u001b[0m\u001b[0moutputs\u001b[0m\u001b[1;33m,\u001b[0m\u001b[0mlabels\u001b[0m\u001b[1;33m)\u001b[0m\u001b[1;33m\u001b[0m\u001b[1;33m\u001b[0m\u001b[0m\n\u001b[0;32m     19\u001b[0m         \u001b[0mloss\u001b[0m\u001b[1;33m.\u001b[0m\u001b[0mbackward\u001b[0m\u001b[1;33m(\u001b[0m\u001b[1;33m)\u001b[0m\u001b[1;33m\u001b[0m\u001b[1;33m\u001b[0m\u001b[0m\n",
      "\u001b[1;32m~\\anaconda3\\lib\\site-packages\\torch\\nn\\modules\\module.py\u001b[0m in \u001b[0;36m_call_impl\u001b[1;34m(self, *input, **kwargs)\u001b[0m\n\u001b[0;32m   1128\u001b[0m         if not (self._backward_hooks or self._forward_hooks or self._forward_pre_hooks or _global_backward_hooks\n\u001b[0;32m   1129\u001b[0m                 or _global_forward_hooks or _global_forward_pre_hooks):\n\u001b[1;32m-> 1130\u001b[1;33m             \u001b[1;32mreturn\u001b[0m \u001b[0mforward_call\u001b[0m\u001b[1;33m(\u001b[0m\u001b[1;33m*\u001b[0m\u001b[0minput\u001b[0m\u001b[1;33m,\u001b[0m \u001b[1;33m**\u001b[0m\u001b[0mkwargs\u001b[0m\u001b[1;33m)\u001b[0m\u001b[1;33m\u001b[0m\u001b[1;33m\u001b[0m\u001b[0m\n\u001b[0m\u001b[0;32m   1131\u001b[0m         \u001b[1;31m# Do not call functions when jit is used\u001b[0m\u001b[1;33m\u001b[0m\u001b[1;33m\u001b[0m\u001b[0m\n\u001b[0;32m   1132\u001b[0m         \u001b[0mfull_backward_hooks\u001b[0m\u001b[1;33m,\u001b[0m \u001b[0mnon_full_backward_hooks\u001b[0m \u001b[1;33m=\u001b[0m \u001b[1;33m[\u001b[0m\u001b[1;33m]\u001b[0m\u001b[1;33m,\u001b[0m \u001b[1;33m[\u001b[0m\u001b[1;33m]\u001b[0m\u001b[1;33m\u001b[0m\u001b[1;33m\u001b[0m\u001b[0m\n",
      "\u001b[1;32m~\\AppData\\Local\\Temp/ipykernel_10036/827040526.py\u001b[0m in \u001b[0;36mforward\u001b[1;34m(self, input)\u001b[0m\n\u001b[0;32m     38\u001b[0m \u001b[1;33m\u001b[0m\u001b[0m\n\u001b[0;32m     39\u001b[0m     \u001b[1;32mdef\u001b[0m \u001b[0mforward\u001b[0m\u001b[1;33m(\u001b[0m\u001b[0mself\u001b[0m\u001b[1;33m,\u001b[0m\u001b[0minput\u001b[0m\u001b[1;33m)\u001b[0m\u001b[1;33m:\u001b[0m\u001b[1;33m\u001b[0m\u001b[1;33m\u001b[0m\u001b[0m\n\u001b[1;32m---> 40\u001b[1;33m         \u001b[0moutput\u001b[0m\u001b[1;33m=\u001b[0m\u001b[0mself\u001b[0m\u001b[1;33m.\u001b[0m\u001b[0mconv1\u001b[0m\u001b[1;33m(\u001b[0m\u001b[0minput\u001b[0m\u001b[1;33m)\u001b[0m\u001b[1;33m\u001b[0m\u001b[1;33m\u001b[0m\u001b[0m\n\u001b[0m\u001b[0;32m     41\u001b[0m         \u001b[0moutput\u001b[0m\u001b[1;33m=\u001b[0m\u001b[0mself\u001b[0m\u001b[1;33m.\u001b[0m\u001b[0mbn1\u001b[0m\u001b[1;33m(\u001b[0m\u001b[0moutput\u001b[0m\u001b[1;33m)\u001b[0m\u001b[1;33m\u001b[0m\u001b[1;33m\u001b[0m\u001b[0m\n\u001b[0;32m     42\u001b[0m         \u001b[0moutput\u001b[0m\u001b[1;33m=\u001b[0m\u001b[0mself\u001b[0m\u001b[1;33m.\u001b[0m\u001b[0mrelu1\u001b[0m\u001b[1;33m(\u001b[0m\u001b[0moutput\u001b[0m\u001b[1;33m)\u001b[0m\u001b[1;33m\u001b[0m\u001b[1;33m\u001b[0m\u001b[0m\n",
      "\u001b[1;32m~\\anaconda3\\lib\\site-packages\\torch\\nn\\modules\\module.py\u001b[0m in \u001b[0;36m_call_impl\u001b[1;34m(self, *input, **kwargs)\u001b[0m\n\u001b[0;32m   1128\u001b[0m         if not (self._backward_hooks or self._forward_hooks or self._forward_pre_hooks or _global_backward_hooks\n\u001b[0;32m   1129\u001b[0m                 or _global_forward_hooks or _global_forward_pre_hooks):\n\u001b[1;32m-> 1130\u001b[1;33m             \u001b[1;32mreturn\u001b[0m \u001b[0mforward_call\u001b[0m\u001b[1;33m(\u001b[0m\u001b[1;33m*\u001b[0m\u001b[0minput\u001b[0m\u001b[1;33m,\u001b[0m \u001b[1;33m**\u001b[0m\u001b[0mkwargs\u001b[0m\u001b[1;33m)\u001b[0m\u001b[1;33m\u001b[0m\u001b[1;33m\u001b[0m\u001b[0m\n\u001b[0m\u001b[0;32m   1131\u001b[0m         \u001b[1;31m# Do not call functions when jit is used\u001b[0m\u001b[1;33m\u001b[0m\u001b[1;33m\u001b[0m\u001b[0m\n\u001b[0;32m   1132\u001b[0m         \u001b[0mfull_backward_hooks\u001b[0m\u001b[1;33m,\u001b[0m \u001b[0mnon_full_backward_hooks\u001b[0m \u001b[1;33m=\u001b[0m \u001b[1;33m[\u001b[0m\u001b[1;33m]\u001b[0m\u001b[1;33m,\u001b[0m \u001b[1;33m[\u001b[0m\u001b[1;33m]\u001b[0m\u001b[1;33m\u001b[0m\u001b[1;33m\u001b[0m\u001b[0m\n",
      "\u001b[1;32m~\\anaconda3\\lib\\site-packages\\torch\\nn\\modules\\conv.py\u001b[0m in \u001b[0;36mforward\u001b[1;34m(self, input)\u001b[0m\n\u001b[0;32m    455\u001b[0m \u001b[1;33m\u001b[0m\u001b[0m\n\u001b[0;32m    456\u001b[0m     \u001b[1;32mdef\u001b[0m \u001b[0mforward\u001b[0m\u001b[1;33m(\u001b[0m\u001b[0mself\u001b[0m\u001b[1;33m,\u001b[0m \u001b[0minput\u001b[0m\u001b[1;33m:\u001b[0m \u001b[0mTensor\u001b[0m\u001b[1;33m)\u001b[0m \u001b[1;33m->\u001b[0m \u001b[0mTensor\u001b[0m\u001b[1;33m:\u001b[0m\u001b[1;33m\u001b[0m\u001b[1;33m\u001b[0m\u001b[0m\n\u001b[1;32m--> 457\u001b[1;33m         \u001b[1;32mreturn\u001b[0m \u001b[0mself\u001b[0m\u001b[1;33m.\u001b[0m\u001b[0m_conv_forward\u001b[0m\u001b[1;33m(\u001b[0m\u001b[0minput\u001b[0m\u001b[1;33m,\u001b[0m \u001b[0mself\u001b[0m\u001b[1;33m.\u001b[0m\u001b[0mweight\u001b[0m\u001b[1;33m,\u001b[0m \u001b[0mself\u001b[0m\u001b[1;33m.\u001b[0m\u001b[0mbias\u001b[0m\u001b[1;33m)\u001b[0m\u001b[1;33m\u001b[0m\u001b[1;33m\u001b[0m\u001b[0m\n\u001b[0m\u001b[0;32m    458\u001b[0m \u001b[1;33m\u001b[0m\u001b[0m\n\u001b[0;32m    459\u001b[0m \u001b[1;32mclass\u001b[0m \u001b[0mConv3d\u001b[0m\u001b[1;33m(\u001b[0m\u001b[0m_ConvNd\u001b[0m\u001b[1;33m)\u001b[0m\u001b[1;33m:\u001b[0m\u001b[1;33m\u001b[0m\u001b[1;33m\u001b[0m\u001b[0m\n",
      "\u001b[1;32m~\\anaconda3\\lib\\site-packages\\torch\\nn\\modules\\conv.py\u001b[0m in \u001b[0;36m_conv_forward\u001b[1;34m(self, input, weight, bias)\u001b[0m\n\u001b[0;32m    451\u001b[0m                             \u001b[0mweight\u001b[0m\u001b[1;33m,\u001b[0m \u001b[0mbias\u001b[0m\u001b[1;33m,\u001b[0m \u001b[0mself\u001b[0m\u001b[1;33m.\u001b[0m\u001b[0mstride\u001b[0m\u001b[1;33m,\u001b[0m\u001b[1;33m\u001b[0m\u001b[1;33m\u001b[0m\u001b[0m\n\u001b[0;32m    452\u001b[0m                             _pair(0), self.dilation, self.groups)\n\u001b[1;32m--> 453\u001b[1;33m         return F.conv2d(input, weight, bias, self.stride,\n\u001b[0m\u001b[0;32m    454\u001b[0m                         self.padding, self.dilation, self.groups)\n\u001b[0;32m    455\u001b[0m \u001b[1;33m\u001b[0m\u001b[0m\n",
      "\u001b[1;31mRuntimeError\u001b[0m: CUDA out of memory. Tried to allocate 132.00 MiB (GPU 0; 4.00 GiB total capacity; 3.29 GiB already allocated; 0 bytes free; 3.37 GiB reserved in total by PyTorch) If reserved memory is >> allocated memory try setting max_split_size_mb to avoid fragmentation.  See documentation for Memory Management and PYTORCH_CUDA_ALLOC_CONF"
     ]
    }
   ],
   "source": [
    "best_accuracy=0.0\n",
    "\n",
    "for epoch in range(num_epochs):\n",
    "    \n",
    "    #Evaluation and training on training dataset\n",
    "    model.train()\n",
    "    train_accuracy=0.0\n",
    "    train_loss=0.0\n",
    "    \n",
    "    for i, (images,labels) in enumerate(train_loader):\n",
    "        if torch.cuda.is_available():\n",
    "            images=Variable(images.cuda())\n",
    "            labels=Variable(labels.cuda())\n",
    "            \n",
    "        optimizer.zero_grad()\n",
    "        \n",
    "        outputs=model(images)\n",
    "        loss=loss_function(outputs,labels)\n",
    "        loss.backward()\n",
    "        optimizer.step()\n",
    "        \n",
    "        \n",
    "        train_loss+= loss.cpu().data*images.size(0)\n",
    "        _,prediction=torch.max(outputs.data,1)\n",
    "        \n",
    "        train_accuracy+=int(torch.sum(prediction==labels.data))\n",
    "        \n",
    "    train_accuracy=train_accuracy/train_count\n",
    "    train_loss=train_loss/train_count\n",
    "    \n",
    "    \n",
    "    # Evaluation on testing dataset\n",
    "    model.eval()\n",
    "    test_accuracy=0.0\n",
    "    test_loss = 0.0\n",
    "    for i, (images,labels) in enumerate(test_loader):\n",
    "        if torch.cuda.is_available():\n",
    "            images=Variable(images.cuda())\n",
    "            labels=Variable(labels.cuda())\n",
    "            \n",
    "        outputs=model(images)\n",
    "        loss=loss_function(outputs,labels)\n",
    "        loss.backward()\n",
    "        optimizer.step()\n",
    "        test_loss+= loss.cpu().data*images.size(0)\n",
    "        _,prediction=torch.max(outputs.data,1)\n",
    "        test_accuracy+=int(torch.sum(prediction==labels.data))\n",
    "    \n",
    "    test_accuracy=test_accuracy/test_count\n",
    "    test_loss= test_loss/test_count\n",
    "    \n",
    "    print('Epoch: '+str(epoch)+' Train Loss: '+str(train_loss)+' Train Accuracy: '+str(train_accuracy)+' Test Accuracy: '+str(test_accuracy))\n",
    "    ta[epoch] = train_accuracy\n",
    "    tl[epoch] = train_loss\n",
    "    tea[epoch] = test_accuracy\n",
    "    tel[epoch] = test_loss\n",
    "    \n",
    "    #Save the best model\n",
    "    if test_accuracy>best_accuracy:\n",
    "        torch.save(model.state_dict(),'best_checkpoint_elu.pth')\n",
    "        best_accuracy=test_accuracy"
   ]
  },
  {
   "cell_type": "code",
   "execution_count": 40,
   "id": "30f52e7c",
   "metadata": {},
   "outputs": [
    {
     "data": {
      "image/png": "[encoded data removed]",
      "text/plain": [
       "<Figure size 432x288 with 1 Axes>"
      ]
     },
     "metadata": {
      "needs_background": "light"
     },
     "output_type": "display_data"
    },
    {
     "data": {
      "image/png": "[encoded data removed]",
      "text/plain": [
       "<Figure size 432x288 with 1 Axes>"
      ]
     },
     "metadata": {
      "needs_background": "light"
     },
     "output_type": "display_data"
    }
   ],
   "source": [
    "# 3x3 kernel, 3 layers, 48 channel\n",
    "plt.title('ELU Accuracy')\n",
    "plt.plot(ta)\n",
    "plt.plot(tea)\n",
    "plt.legend(['Train Accuracy', 'Test Accuracy'])\n",
    "plt.show()\n",
    "\n",
    "plt.title('ELU Loss')\n",
    "plt.plot(tl)\n",
    "plt.plot(tel)\n",
    "plt.legend(['Train Loss', 'Test Loss'])\n",
    "plt.show()"
   ]
  },
  {
   "cell_type": "code",
   "execution_count": 41,
   "id": "27e1bdb7",
   "metadata": {},
   "outputs": [],
   "source": [
    "a = [0]*100\n",
    "l = [0]*100\n",
    "for i in range(0,100):\n",
    "    a[i] = ta[i] - tea[i]\n",
    "    l[i] = tel[i] - tl[i]\n",
    "sa=0\n",
    "sl=0\n",
    "for i in range(0,100):\n",
    "    sa = sa + a[i]\n",
    "    sl = sl + l[i]\n",
    "sa1=0\n",
    "sa2=0\n",
    "sl1=0\n",
    "sl2 = 0\n",
    "for i in range(0,100):\n",
    "    sa1 = sa1+ta[i]\n",
    "    sl1 = sl1+tl[i]\n",
    "    sa2 = sa2+tea[i]\n",
    "    sl2 = sl2+tel[i]"
   ]
  },
  {
   "cell_type": "code",
   "execution_count": 48,
   "id": "867434c3",
   "metadata": {},
   "outputs": [
    {
     "data": {
      "text/plain": [
       "tensor(31.7233)"
      ]
     },
     "execution_count": 48,
     "metadata": {},
     "output_type": "execute_result"
    }
   ],
   "source": [
    "sl1/100"
   ]
  },
  {
   "cell_type": "code",
   "execution_count": null,
   "id": "53d99a70",
   "metadata": {},
   "outputs": [],
   "source": []
  }
 ],
 "metadata": {
  "kernelspec": {
   "display_name": "Python 3 (ipykernel)",
   "language": "python",
   "name": "python3"
  },
  "language_info": {
   "codemirror_mode": {
    "name": "ipython",
    "version": 3
   },
   "file_extension": ".py",
   "mimetype": "text/x-python",
   "name": "python",
   "nbconvert_exporter": "python",
   "pygments_lexer": "ipython3",
   "version": "3.9.7"
  }
 },
 "nbformat": 4,
 "nbformat_minor": 5
}
