{
 "cells": [
  {
   "cell_type": "code",
   "execution_count": 35,
   "id": "a81db643",
   "metadata": {},
   "outputs": [],
   "source": [
    "import os\n",
    "import numpy as np\n",
    "import torch\n",
    "import glob\n",
    "import torch.nn as nn\n",
    "from torchvision.transforms import transforms\n",
    "from torch.utils.data import DataLoader\n",
    "from torch.optim import NAdam\n",
    "from torch.autograd import Variable\n",
    "import torchvision\n",
    "import pathlib"
   ]
  },
  {
   "cell_type": "code",
   "execution_count": 36,
   "id": "b094a59e",
   "metadata": {},
   "outputs": [],
   "source": [
    "device=torch.device('cuda' if torch.cuda.is_available() else 'cpu')"
   ]
  },
  {
   "cell_type": "code",
   "execution_count": 37,
   "id": "fa9e91f8",
   "metadata": {},
   "outputs": [
    {
     "name": "stdout",
     "output_type": "stream",
     "text": [
      "cuda\n"
     ]
    }
   ],
   "source": [
    "print(device)"
   ]
  },
  {
   "cell_type": "code",
   "execution_count": 38,
   "id": "9df96f80",
   "metadata": {},
   "outputs": [],
   "source": [
    "transformer=transforms.Compose([\n",
    "    transforms.Resize((150,150)),\n",
    "    transforms.RandomHorizontalFlip(),\n",
    "    transforms.ToTensor(),  #0-255 to 0-1, numpy to tensors\n",
    "    transforms.Normalize([0.5,0.5,0.5], # 0-1 to [-1,1] , formula (x-mean)/std\n",
    "                        [0.5,0.5,0.5])\n",
    "])"
   ]
  },
  {
   "cell_type": "code",
   "execution_count": 39,
   "id": "a6948b83",
   "metadata": {},
   "outputs": [],
   "source": [
    "train_path= r'C:\\Users\\DAWN\\Documents\\Python Scripts\\python\\data\\train'\n",
    "test_path= r'C:\\Users\\DAWN\\Documents\\Python Scripts\\python\\data\\test'\n",
    "\n",
    "train_loader=DataLoader(\n",
    "    torchvision.datasets.ImageFolder(train_path,transform=transformer),\n",
    "    batch_size=64, shuffle=True\n",
    ")\n",
    "test_loader=DataLoader(\n",
    "    torchvision.datasets.ImageFolder(test_path,transform=transformer),\n",
    "    batch_size=32, shuffle=True\n",
    ")"
   ]
  },
  {
   "cell_type": "code",
   "execution_count": 40,
   "id": "480591e6",
   "metadata": {},
   "outputs": [],
   "source": [
    "root=pathlib.Path(train_path)\n",
    "classes=sorted([j.name.split('/')[-1] for j in root.iterdir()])"
   ]
  },
  {
   "cell_type": "code",
   "execution_count": 41,
   "id": "2935fb4b",
   "metadata": {},
   "outputs": [
    {
     "name": "stdout",
     "output_type": "stream",
     "text": [
      "['benign', 'malignant']\n"
     ]
    }
   ],
   "source": [
    "print(classes)"
   ]
  },
  {
   "cell_type": "code",
   "execution_count": 42,
   "id": "5913d20d",
   "metadata": {},
   "outputs": [],
   "source": [
    "class ConvNet(nn.Module):\n",
    "    def __init__(self,num_classes=2):\n",
    "        super(ConvNet,self).__init__()\n",
    "        \n",
    "        #Output size after convolution filter\n",
    "        #Input shape= (256,3,150,150)\n",
    "        \n",
    "        self.conv1=nn.Conv2d(in_channels=3,out_channels=12,kernel_size=3,stride=1,padding=1)\n",
    "        #Shape= (256,12,150,150)\n",
    "        self.bn1=nn.BatchNorm2d(num_features=12)\n",
    "        #Shape= (256,12,150,150)\n",
    "        self.relu1=nn.Softmax()\n",
    "        #Shape= (256,12,150,150)\n",
    "        \n",
    "        self.pool=nn.MaxPool2d(kernel_size=2)\n",
    "        #Reduce the image size be factor 2\n",
    "        #Shape= (256,12,75,75)\n",
    "        \n",
    "        self.conv2=nn.Conv2d(in_channels=12,out_channels=20,kernel_size=3,stride=1,padding=1)\n",
    "        #Shape= (256,20,75,75)\n",
    "        self.relu2=nn.Softmax()\n",
    "        #Shape= (256,20,75,75)\n",
    "        \n",
    "        self.conv3=nn.Conv2d(in_channels=20,out_channels=32,kernel_size=3,stride=1,padding=1)\n",
    "        #Shape= (256,32,75,75)\n",
    "        self.bn3=nn.BatchNorm2d(num_features=32)\n",
    "        #Shape= (256,32,75,75)\n",
    "        self.relu3=nn.Softmax()\n",
    "        #Shape= (256,32,75,75)\n",
    "        \n",
    "        self.fc=nn.Linear(in_features=75 * 75 * 32,out_features=num_classes)\n",
    "        \n",
    "    def forward(self,input):\n",
    "        output=self.conv1(input)\n",
    "        output=self.bn1(output)\n",
    "        output=self.relu1(output)\n",
    "            \n",
    "        output=self.pool(output)\n",
    "            \n",
    "        output=self.conv2(output)\n",
    "        output=self.relu2(output)\n",
    "            \n",
    "        output=self.conv3(output)\n",
    "        output=self.bn3(output)\n",
    "        output=self.relu3(output)\n",
    "            \n",
    "            #Above output will be in matrix form, with shape (256,32,75,75)\n",
    "            \n",
    "        output=output.view(-1,32*75*75)\n",
    "        output=self.fc(output)            \n",
    "        return output"
   ]
  },
  {
   "cell_type": "code",
   "execution_count": 43,
   "id": "1d2885e2",
   "metadata": {},
   "outputs": [],
   "source": [
    "model=ConvNet(num_classes=2).to(device)"
   ]
  },
  {
   "cell_type": "code",
   "execution_count": 10,
   "id": "7cf2dc08",
   "metadata": {},
   "outputs": [],
   "source": [
    "optimizer=Adam(model.parameters(),lr=0.001,weight_decay=0.0001)\n",
    "loss_function=nn.CrossEntropyLoss()"
   ]
  },
  {
   "cell_type": "code",
   "execution_count": 46,
   "id": "9e972b46",
   "metadata": {},
   "outputs": [],
   "source": [
    "num_epochs=100"
   ]
  },
  {
   "cell_type": "code",
   "execution_count": 47,
   "id": "df8d2e7c",
   "metadata": {},
   "outputs": [
    {
     "name": "stdout",
     "output_type": "stream",
     "text": [
      "2637 660\n"
     ]
    }
   ],
   "source": [
    "train_count=len(glob.glob(train_path+'/**/*.jpg'))\n",
    "test_count=len(glob.glob(test_path+'/**/*.jpg'))\n",
    "print(train_count,test_count)"
   ]
  },
  {
   "cell_type": "code",
   "execution_count": 48,
   "id": "e29834bb",
   "metadata": {},
   "outputs": [],
   "source": [
    "ta = [0]*100\n",
    "tl = [0]*100\n",
    "tea = [0]*100\n",
    "tel = [0]*100"
   ]
  },
  {
   "cell_type": "code",
   "execution_count": 19,
   "id": "b1461129",
   "metadata": {
    "scrolled": false
   },
   "outputs": [
    {
     "name": "stderr",
     "output_type": "stream",
     "text": [
      "C:\\Users\\DAWN\\AppData\\Local\\Temp/ipykernel_19376/1055844645.py:36: UserWarning: Implicit dimension choice for softmax has been deprecated. Change the call to include dim=X as an argument.\n",
      "  output=self.relu1(output)\n",
      "C:\\Users\\DAWN\\AppData\\Local\\Temp/ipykernel_19376/1055844645.py:41: UserWarning: Implicit dimension choice for softmax has been deprecated. Change the call to include dim=X as an argument.\n",
      "  output=self.relu2(output)\n",
      "C:\\Users\\DAWN\\AppData\\Local\\Temp/ipykernel_19376/1055844645.py:45: UserWarning: Implicit dimension choice for softmax has been deprecated. Change the call to include dim=X as an argument.\n",
      "  output=self.relu3(output)\n"
     ]
    },
    {
     "name": "stdout",
     "output_type": "stream",
     "text": [
      "Epoch: 0 Train Loss: tensor(0.0019) Train Accuracy: 1.0 Test Accuracy: 0.8151515151515152\n",
      "Epoch: 1 Train Loss: tensor(0.0021) Train Accuracy: 1.0 Test Accuracy: 0.8287878787878787\n",
      "Epoch: 2 Train Loss: tensor(0.0017) Train Accuracy: 1.0 Test Accuracy: 0.8318181818181818\n",
      "Epoch: 3 Train Loss: tensor(0.0017) Train Accuracy: 1.0 Test Accuracy: 0.8272727272727273\n",
      "Epoch: 4 Train Loss: tensor(0.0017) Train Accuracy: 1.0 Test Accuracy: 0.8242424242424242\n",
      "Epoch: 5 Train Loss: tensor(0.0017) Train Accuracy: 1.0 Test Accuracy: 0.8378787878787879\n",
      "Epoch: 6 Train Loss: tensor(0.0019) Train Accuracy: 1.0 Test Accuracy: 0.8181818181818182\n",
      "Epoch: 7 Train Loss: tensor(0.0016) Train Accuracy: 1.0 Test Accuracy: 0.8257575757575758\n",
      "Epoch: 8 Train Loss: tensor(0.0018) Train Accuracy: 1.0 Test Accuracy: 0.8257575757575758\n",
      "Epoch: 9 Train Loss: tensor(0.0018) Train Accuracy: 1.0 Test Accuracy: 0.8333333333333334\n",
      "Epoch: 10 Train Loss: tensor(0.0018) Train Accuracy: 1.0 Test Accuracy: 0.8378787878787879\n",
      "Epoch: 11 Train Loss: tensor(0.0015) Train Accuracy: 1.0 Test Accuracy: 0.8136363636363636\n",
      "Epoch: 12 Train Loss: tensor(0.0023) Train Accuracy: 1.0 Test Accuracy: 0.8242424242424242\n",
      "Epoch: 13 Train Loss: tensor(0.0016) Train Accuracy: 1.0 Test Accuracy: 0.8333333333333334\n",
      "Epoch: 14 Train Loss: tensor(0.0016) Train Accuracy: 1.0 Test Accuracy: 0.8333333333333334\n",
      "Epoch: 15 Train Loss: tensor(0.0016) Train Accuracy: 1.0 Test Accuracy: 0.8333333333333334\n",
      "Epoch: 16 Train Loss: tensor(0.0015) Train Accuracy: 1.0 Test Accuracy: 0.8227272727272728\n",
      "Epoch: 17 Train Loss: tensor(0.0015) Train Accuracy: 1.0 Test Accuracy: 0.8227272727272728\n",
      "Epoch: 18 Train Loss: tensor(0.0016) Train Accuracy: 1.0 Test Accuracy: 0.8303030303030303\n",
      "Epoch: 19 Train Loss: tensor(0.0013) Train Accuracy: 1.0 Test Accuracy: 0.8257575757575758\n",
      "Epoch: 20 Train Loss: tensor(0.0015) Train Accuracy: 1.0 Test Accuracy: 0.8333333333333334\n",
      "Epoch: 21 Train Loss: tensor(0.0012) Train Accuracy: 1.0 Test Accuracy: 0.8318181818181818\n",
      "Epoch: 22 Train Loss: tensor(0.0013) Train Accuracy: 1.0 Test Accuracy: 0.8272727272727273\n",
      "Epoch: 23 Train Loss: tensor(0.0012) Train Accuracy: 1.0 Test Accuracy: 0.8287878787878787\n",
      "Epoch: 24 Train Loss: tensor(0.0014) Train Accuracy: 1.0 Test Accuracy: 0.8257575757575758\n",
      "Epoch: 25 Train Loss: tensor(0.0012) Train Accuracy: 1.0 Test Accuracy: 0.8363636363636363\n",
      "Epoch: 26 Train Loss: tensor(0.0013) Train Accuracy: 1.0 Test Accuracy: 0.8303030303030303\n",
      "Epoch: 27 Train Loss: tensor(0.0013) Train Accuracy: 1.0 Test Accuracy: 0.8106060606060606\n",
      "Epoch: 28 Train Loss: tensor(0.0063) Train Accuracy: 0.9988623435722411 Test Accuracy: 0.8196969696969697\n",
      "Epoch: 29 Train Loss: tensor(0.0047) Train Accuracy: 0.9992415623814941 Test Accuracy: 0.8166666666666667\n",
      "Epoch: 30 Train Loss: tensor(0.0020) Train Accuracy: 1.0 Test Accuracy: 0.8409090909090909\n",
      "Epoch: 31 Train Loss: tensor(0.0020) Train Accuracy: 1.0 Test Accuracy: 0.8272727272727273\n",
      "Epoch: 32 Train Loss: tensor(0.0022) Train Accuracy: 1.0 Test Accuracy: 0.8227272727272728\n",
      "Epoch: 33 Train Loss: tensor(0.0022) Train Accuracy: 1.0 Test Accuracy: 0.8227272727272728\n",
      "Epoch: 34 Train Loss: tensor(0.2356) Train Accuracy: 0.9385665529010239 Test Accuracy: 0.7424242424242424\n",
      "Epoch: 35 Train Loss: tensor(0.0827) Train Accuracy: 0.9673871824042473 Test Accuracy: 0.8166666666666667\n",
      "Epoch: 36 Train Loss: tensor(0.0300) Train Accuracy: 0.9863481228668942 Test Accuracy: 0.8090909090909091\n",
      "Epoch: 37 Train Loss: tensor(0.0104) Train Accuracy: 0.9984831247629883 Test Accuracy: 0.8242424242424242\n",
      "Epoch: 38 Train Loss: tensor(0.0074) Train Accuracy: 0.9988623435722411 Test Accuracy: 0.8121212121212121\n",
      "Epoch: 39 Train Loss: tensor(0.0048) Train Accuracy: 0.9992415623814941 Test Accuracy: 0.8166666666666667\n",
      "Epoch: 40 Train Loss: tensor(0.0023) Train Accuracy: 1.0 Test Accuracy: 0.8242424242424242\n",
      "Epoch: 41 Train Loss: tensor(0.0021) Train Accuracy: 1.0 Test Accuracy: 0.8212121212121212\n",
      "Epoch: 42 Train Loss: tensor(0.0018) Train Accuracy: 1.0 Test Accuracy: 0.8272727272727273\n",
      "Epoch: 43 Train Loss: tensor(0.0020) Train Accuracy: 1.0 Test Accuracy: 0.8196969696969697\n",
      "Epoch: 44 Train Loss: tensor(0.0020) Train Accuracy: 0.999620781190747 Test Accuracy: 0.8257575757575758\n",
      "Epoch: 45 Train Loss: tensor(0.0012) Train Accuracy: 1.0 Test Accuracy: 0.8181818181818182\n",
      "Epoch: 46 Train Loss: tensor(0.0014) Train Accuracy: 1.0 Test Accuracy: 0.8227272727272728\n",
      "Epoch: 47 Train Loss: tensor(0.0037) Train Accuracy: 1.0 Test Accuracy: 0.8166666666666667\n",
      "Epoch: 48 Train Loss: tensor(0.0015) Train Accuracy: 1.0 Test Accuracy: 0.8136363636363636\n",
      "Epoch: 49 Train Loss: tensor(0.0035) Train Accuracy: 0.9992415623814941 Test Accuracy: 0.8242424242424242\n",
      "Epoch: 50 Train Loss: tensor(0.0012) Train Accuracy: 1.0 Test Accuracy: 0.8257575757575758\n",
      "Epoch: 51 Train Loss: tensor(0.0011) Train Accuracy: 1.0 Test Accuracy: 0.8303030303030303\n",
      "Epoch: 52 Train Loss: tensor(0.0011) Train Accuracy: 1.0 Test Accuracy: 0.8242424242424242\n",
      "Epoch: 53 Train Loss: tensor(0.0011) Train Accuracy: 1.0 Test Accuracy: 0.8303030303030303\n",
      "Epoch: 54 Train Loss: tensor(0.0010) Train Accuracy: 1.0 Test Accuracy: 0.8212121212121212\n",
      "Epoch: 55 Train Loss: tensor(0.0009) Train Accuracy: 1.0 Test Accuracy: 0.8272727272727273\n",
      "Epoch: 56 Train Loss: tensor(0.0016) Train Accuracy: 1.0 Test Accuracy: 0.8303030303030303\n",
      "Epoch: 57 Train Loss: tensor(0.0009) Train Accuracy: 1.0 Test Accuracy: 0.8242424242424242\n",
      "Epoch: 58 Train Loss: tensor(0.0011) Train Accuracy: 1.0 Test Accuracy: 0.8303030303030303\n",
      "Epoch: 59 Train Loss: tensor(0.0008) Train Accuracy: 1.0 Test Accuracy: 0.8196969696969697\n",
      "Epoch: 60 Train Loss: tensor(0.0009) Train Accuracy: 1.0 Test Accuracy: 0.8212121212121212\n",
      "Epoch: 61 Train Loss: tensor(0.0017) Train Accuracy: 0.999620781190747 Test Accuracy: 0.8151515151515152\n",
      "Epoch: 62 Train Loss: tensor(0.0013) Train Accuracy: 1.0 Test Accuracy: 0.8181818181818182\n",
      "Epoch: 63 Train Loss: tensor(0.0010) Train Accuracy: 1.0 Test Accuracy: 0.8409090909090909\n",
      "Epoch: 64 Train Loss: tensor(0.0008) Train Accuracy: 1.0 Test Accuracy: 0.8257575757575758\n",
      "Epoch: 65 Train Loss: tensor(0.0011) Train Accuracy: 1.0 Test Accuracy: 0.8287878787878787\n",
      "Epoch: 66 Train Loss: tensor(0.0069) Train Accuracy: 0.999620781190747 Test Accuracy: 0.8318181818181818\n",
      "Epoch: 67 Train Loss: tensor(0.0016) Train Accuracy: 1.0 Test Accuracy: 0.8272727272727273\n",
      "Epoch: 68 Train Loss: tensor(0.0011) Train Accuracy: 1.0 Test Accuracy: 0.8212121212121212\n",
      "Epoch: 69 Train Loss: tensor(0.0009) Train Accuracy: 1.0 Test Accuracy: 0.8318181818181818\n",
      "Epoch: 70 Train Loss: tensor(0.0013) Train Accuracy: 1.0 Test Accuracy: 0.8272727272727273\n",
      "Epoch: 71 Train Loss: tensor(0.0009) Train Accuracy: 1.0 Test Accuracy: 0.8303030303030303\n",
      "Epoch: 72 Train Loss: tensor(0.0009) Train Accuracy: 1.0 Test Accuracy: 0.8196969696969697\n",
      "Epoch: 73 Train Loss: tensor(0.0008) Train Accuracy: 1.0 Test Accuracy: 0.8272727272727273\n",
      "Epoch: 74 Train Loss: tensor(0.0007) Train Accuracy: 1.0 Test Accuracy: 0.8333333333333334\n",
      "Epoch: 75 Train Loss: tensor(0.0008) Train Accuracy: 1.0 Test Accuracy: 0.843939393939394\n",
      "Epoch: 76 Train Loss: tensor(0.0009) Train Accuracy: 1.0 Test Accuracy: 0.8303030303030303\n",
      "Epoch: 77 Train Loss: tensor(0.0008) Train Accuracy: 1.0 Test Accuracy: 0.8348484848484848\n",
      "Epoch: 78 Train Loss: tensor(0.0013) Train Accuracy: 1.0 Test Accuracy: 0.8136363636363636\n",
      "Epoch: 79 Train Loss: tensor(0.0009) Train Accuracy: 1.0 Test Accuracy: 0.8409090909090909\n",
      "Epoch: 80 Train Loss: tensor(0.0011) Train Accuracy: 1.0 Test Accuracy: 0.8348484848484848\n",
      "Epoch: 81 Train Loss: tensor(0.0012) Train Accuracy: 1.0 Test Accuracy: 0.8348484848484848\n",
      "Epoch: 82 Train Loss: tensor(0.0012) Train Accuracy: 1.0 Test Accuracy: 0.8393939393939394\n",
      "Epoch: 83 Train Loss: tensor(0.0009) Train Accuracy: 1.0 Test Accuracy: 0.8303030303030303\n",
      "Epoch: 84 Train Loss: tensor(0.0008) Train Accuracy: 1.0 Test Accuracy: 0.8454545454545455\n",
      "Epoch: 85 Train Loss: tensor(0.0007) Train Accuracy: 1.0 Test Accuracy: 0.8333333333333334\n",
      "Epoch: 86 Train Loss: tensor(0.0008) Train Accuracy: 1.0 Test Accuracy: 0.8318181818181818\n",
      "Epoch: 87 Train Loss: tensor(0.0009) Train Accuracy: 1.0 Test Accuracy: 0.8227272727272728\n",
      "Epoch: 88 Train Loss: tensor(0.0009) Train Accuracy: 1.0 Test Accuracy: 0.8303030303030303\n"
     ]
    },
    {
     "name": "stdout",
     "output_type": "stream",
     "text": [
      "Epoch: 89 Train Loss: tensor(0.0008) Train Accuracy: 1.0 Test Accuracy: 0.8303030303030303\n",
      "Epoch: 90 Train Loss: tensor(0.0008) Train Accuracy: 1.0 Test Accuracy: 0.8181818181818182\n",
      "Epoch: 91 Train Loss: tensor(0.0022) Train Accuracy: 1.0 Test Accuracy: 0.8287878787878787\n",
      "Epoch: 92 Train Loss: tensor(0.0011) Train Accuracy: 1.0 Test Accuracy: 0.8303030303030303\n",
      "Epoch: 93 Train Loss: tensor(0.0009) Train Accuracy: 1.0 Test Accuracy: 0.8272727272727273\n",
      "Epoch: 94 Train Loss: tensor(0.0009) Train Accuracy: 1.0 Test Accuracy: 0.8348484848484848\n",
      "Epoch: 95 Train Loss: tensor(0.0008) Train Accuracy: 1.0 Test Accuracy: 0.8409090909090909\n",
      "Epoch: 96 Train Loss: tensor(0.0012) Train Accuracy: 1.0 Test Accuracy: 0.8303030303030303\n",
      "Epoch: 97 Train Loss: tensor(0.0009) Train Accuracy: 1.0 Test Accuracy: 0.8257575757575758\n",
      "Epoch: 98 Train Loss: tensor(0.0009) Train Accuracy: 1.0 Test Accuracy: 0.8378787878787879\n",
      "Epoch: 99 Train Loss: tensor(0.0010) Train Accuracy: 1.0 Test Accuracy: 0.8318181818181818\n"
     ]
    }
   ],
   "source": [
    "best_accuracy=0.0\n",
    "\n",
    "for epoch in range(num_epochs):\n",
    "    \n",
    "    #Evaluation and training on training dataset\n",
    "    model.train()\n",
    "    train_accuracy=0.0\n",
    "    train_loss=0.0\n",
    "    \n",
    "    for i, (images,labels) in enumerate(train_loader):\n",
    "        if torch.cuda.is_available():\n",
    "            images=Variable(images.cuda())\n",
    "            labels=Variable(labels.cuda())\n",
    "            \n",
    "        optimizer.zero_grad()\n",
    "        \n",
    "        outputs=model(images)\n",
    "        loss=loss_function(outputs,labels)\n",
    "        loss.backward()\n",
    "        optimizer.step()\n",
    "        \n",
    "        \n",
    "        train_loss+= loss.cpu().data*images.size(0)\n",
    "        _,prediction=torch.max(outputs.data,1)\n",
    "        \n",
    "        train_accuracy+=int(torch.sum(prediction==labels.data))\n",
    "        \n",
    "    train_accuracy=train_accuracy/train_count\n",
    "    train_loss=train_loss/train_count\n",
    "    \n",
    "    \n",
    "    # Evaluation on testing dataset\n",
    "    model.eval()\n",
    "    test_accuracy=0.0\n",
    "    test_loss=0.0\n",
    "    for i, (images,labels) in enumerate(test_loader):\n",
    "        if torch.cuda.is_available():\n",
    "            images=Variable(images.cuda())\n",
    "            labels=Variable(labels.cuda())\n",
    "            \n",
    "        outputs=model(images)\n",
    "        loss=loss_function(outputs,labels)\n",
    "        loss.backward()\n",
    "        test_loss+= loss.cpu().data*images.size(0)  \n",
    "        _,prediction=torch.max(outputs.data,1)\n",
    "        test_accuracy+=int(torch.sum(prediction==labels.data))\n",
    "    \n",
    "    test_accuracy=test_accuracy/test_count\n",
    "    test_loss=test_loss/test_count\n",
    "    \n",
    "    print('Epoch: '+str(epoch)+' Train Loss: '+str(train_loss)+' Train Accuracy: '+str(train_accuracy)+' Test Accuracy: '+str(test_accuracy))\n",
    "    ta[epoch] = train_accuracy\n",
    "    tl[epoch] = train_loss\n",
    "    tea[epoch] = test_accuracy\n",
    "    tel[epoch] = test_loss\n",
    "    \n",
    "    #Save the best model\n",
    "    if test_accuracy>best_accuracy:\n",
    "        torch.save(model.state_dict(),'best_checkpoint_softmax.model')\n",
    "        best_accuracy=test_accuracy"
   ]
  },
  {
   "cell_type": "code",
   "execution_count": 20,
   "id": "107dd592",
   "metadata": {},
   "outputs": [
    {
     "name": "stderr",
     "output_type": "stream",
     "text": [
      "C:\\Users\\DAWN\\AppData\\Local\\Temp/ipykernel_19376/1055844645.py:36: UserWarning: Implicit dimension choice for softmax has been deprecated. Change the call to include dim=X as an argument.\n",
      "  output=self.relu1(output)\n",
      "C:\\Users\\DAWN\\AppData\\Local\\Temp/ipykernel_19376/1055844645.py:41: UserWarning: Implicit dimension choice for softmax has been deprecated. Change the call to include dim=X as an argument.\n",
      "  output=self.relu2(output)\n",
      "C:\\Users\\DAWN\\AppData\\Local\\Temp/ipykernel_19376/1055844645.py:45: UserWarning: Implicit dimension choice for softmax has been deprecated. Change the call to include dim=X as an argument.\n",
      "  output=self.relu3(output)\n"
     ]
    },
    {
     "data": {
      "text/plain": [
       "=====================================================================================================================================================================\n",
       "Layer (type:depth-idx)                   Input Shape               Output Shape              Param #                   Kernel Shape              Mult-Adds\n",
       "=====================================================================================================================================================================\n",
       "ConvNet                                  [1, 3, 150, 150]          [1, 2]                    --                        --                        --\n",
       "├─Conv2d: 1-1                            [1, 3, 150, 150]          [1, 12, 150, 150]         336                       [3, 3]                    7,560,000\n",
       "├─BatchNorm2d: 1-2                       [1, 12, 150, 150]         [1, 12, 150, 150]         24                        --                        24\n",
       "├─Softmax: 1-3                           [1, 12, 150, 150]         [1, 12, 150, 150]         --                        --                        --\n",
       "├─MaxPool2d: 1-4                         [1, 12, 150, 150]         [1, 12, 75, 75]           --                        2                         --\n",
       "├─Conv2d: 1-5                            [1, 12, 75, 75]           [1, 20, 75, 75]           2,180                     [3, 3]                    12,262,500\n",
       "├─Softmax: 1-6                           [1, 20, 75, 75]           [1, 20, 75, 75]           --                        --                        --\n",
       "├─Conv2d: 1-7                            [1, 20, 75, 75]           [1, 32, 75, 75]           5,792                     [3, 3]                    32,580,000\n",
       "├─BatchNorm2d: 1-8                       [1, 32, 75, 75]           [1, 32, 75, 75]           64                        --                        64\n",
       "├─Softmax: 1-9                           [1, 32, 75, 75]           [1, 32, 75, 75]           --                        --                        --\n",
       "├─Linear: 1-10                           [1, 180000]               [1, 2]                    360,002                   --                        360,002\n",
       "=====================================================================================================================================================================\n",
       "Total params: 368,398\n",
       "Trainable params: 368,398\n",
       "Non-trainable params: 0\n",
       "Total mult-adds (M): 52.76\n",
       "=====================================================================================================================================================================\n",
       "Input size (MB): 0.27\n",
       "Forward/backward pass size (MB): 8.10\n",
       "Params size (MB): 1.47\n",
       "Estimated Total Size (MB): 9.84\n",
       "====================================================================================================================================================================="
      ]
     },
     "execution_count": 20,
     "metadata": {},
     "output_type": "execute_result"
    }
   ],
   "source": [
    "import torchinfo\n",
    "torchinfo.summary(model, (3, 150, 150), batch_dim = 0, col_names = ('input_size', 'output_size', 'num_params', \n",
    "                                                                    'kernel_size', 'mult_adds'), verbose = 0)"
   ]
  },
  {
   "cell_type": "code",
   "execution_count": 76,
   "id": "4735fd78",
   "metadata": {},
   "outputs": [
    {
     "data": {
      "image/png": "[encoded data removed]",
      "text/plain": [
       "<Figure size 432x288 with 1 Axes>"
      ]
     },
     "metadata": {
      "needs_background": "light"
     },
     "output_type": "display_data"
    },
    {
     "data": {
      "image/png": "[encoded data removed]",
      "text/plain": [
       "<Figure size 432x288 with 1 Axes>"
      ]
     },
     "metadata": {
      "needs_background": "light"
     },
     "output_type": "display_data"
    }
   ],
   "source": [
    "plt.suptitle('3x3 Kernelm, Depth 32, 3 Layers')\n",
    "plt.title('Softmax Accuracy')\n",
    "plt.plot(ta)\n",
    "plt.plot(tea)\n",
    "plt.legend(['Train Accuracy', 'Test Accuracy'])\n",
    "plt.show()\n",
    "\n",
    "plt.title('Softmax Loss')\n",
    "plt.plot(tl)\n",
    "plt.plot(tel)\n",
    "plt.legend(['Train Loss', 'Test Loss'])\n",
    "plt.show()"
   ]
  },
  {
   "cell_type": "code",
   "execution_count": 23,
   "id": "84d3fcf9",
   "metadata": {},
   "outputs": [],
   "source": [
    "a = [0]*100\n",
    "l = [0]*100\n",
    "for i in range(0,100):\n",
    "    a[i] = ta[i] - tea[i]\n",
    "    l[i] = tel[i] - tl[i]\n",
    "sa=0\n",
    "sl=0\n",
    "for i in range(0,100):\n",
    "    sa = sa + a[i]\n",
    "    sl = sl + l[i]"
   ]
  },
  {
   "cell_type": "code",
   "execution_count": 32,
   "id": "44fc2968",
   "metadata": {},
   "outputs": [
    {
     "data": {
      "text/plain": [
       "0.1726388457958424"
      ]
     },
     "execution_count": 32,
     "metadata": {},
     "output_type": "execute_result"
    }
   ],
   "source": [
    "#Avg Difference in Accuracy\n",
    "sa/100"
   ]
  },
  {
   "cell_type": "code",
   "execution_count": 25,
   "id": "37fb2e02",
   "metadata": {},
   "outputs": [
    {
     "data": {
      "text/plain": [
       "tensor(0.7694)"
      ]
     },
     "execution_count": 25,
     "metadata": {},
     "output_type": "execute_result"
    }
   ],
   "source": [
    "#Avg Difference in Loss\n",
    "sl/100"
   ]
  },
  {
   "cell_type": "code",
   "execution_count": 26,
   "id": "ae12009e",
   "metadata": {},
   "outputs": [],
   "source": [
    "sa1=0\n",
    "sa2=0\n",
    "sl1=0\n",
    "sl2 = 0\n",
    "for i in range(0,100):\n",
    "    sa1 = sa1+ta[i]\n",
    "    sl1 = sl1+tl[i]\n",
    "    sa2 = sa2+tea[i]\n",
    "    sl2 = sl2+tel[i]"
   ]
  },
  {
   "cell_type": "code",
   "execution_count": 31,
   "id": "a00c35a3",
   "metadata": {},
   "outputs": [
    {
     "data": {
      "text/plain": [
       "tensor(0.0051)"
      ]
     },
     "execution_count": 31,
     "metadata": {},
     "output_type": "execute_result"
    }
   ],
   "source": [
    "sl1/100"
   ]
  },
  {
   "cell_type": "code",
   "execution_count": 44,
   "id": "3158298d",
   "metadata": {},
   "outputs": [],
   "source": [
    "# changing filter size and depth"
   ]
  },
  {
   "cell_type": "code",
   "execution_count": 61,
   "id": "07946995",
   "metadata": {},
   "outputs": [],
   "source": [
    "class ConvNet(nn.Module):\n",
    "    def __init__(self,num_classes=2):\n",
    "        super(ConvNet,self).__init__()\n",
    "        \n",
    "        #Output size after convolution filter\n",
    "        #Input shape= (256,3,150,150)\n",
    "        \n",
    "        self.conv1=nn.Conv2d(in_channels=3,out_channels=12,kernel_size=5,stride=1,padding=2)\n",
    "        #Shape= (256,12,150,150)\n",
    "        self.bn1=nn.BatchNorm2d(num_features=12)\n",
    "        #Shape= (256,12,150,150)\n",
    "        self.relu1=nn.Softmax()\n",
    "        #Shape= (256,12,150,150)\n",
    "        \n",
    "        self.pool=nn.MaxPool2d(kernel_size=2)\n",
    "        #Reduce the image size be factor 2\n",
    "        #Shape= (256,12,75,75)\n",
    "        \n",
    "        self.conv2=nn.Conv2d(in_channels=12,out_channels=20,kernel_size=5,stride=1,padding=2)\n",
    "        #Shape= (256,20,75,75)\n",
    "        self.relu2=nn.Softmax()\n",
    "        #Shape= (256,20,75,75)\n",
    "        \n",
    "        self.conv3=nn.Conv2d(in_channels=20,out_channels=32,kernel_size=5,stride=1,padding=2)\n",
    "        #Shape= (256,20,75,75)\n",
    "        self.relu23=nn.Softmax()\n",
    "        #Shape= (256,20,75,75)\n",
    "        \n",
    "        self.conv4=nn.Conv2d(in_channels=32,out_channels=48,kernel_size=5,stride=1,padding=2)\n",
    "        #Shape= (256,32,75,75)\n",
    "        self.bn4=nn.BatchNorm2d(num_features=32)\n",
    "        #Shape= (256,32,75,75)\n",
    "        self.relu4=nn.Softmax()\n",
    "        #Shape= (256,32,75,75)\n",
    "        \n",
    "        self.fc=nn.Linear(in_features=75 * 75 * 48,out_features=num_classes)\n",
    "        \n",
    "    def forward(self,input):\n",
    "        output=self.conv1(input)\n",
    "        output=self.bn1(output)\n",
    "        output=self.relu1(output)\n",
    "            \n",
    "        output=self.pool(output)\n",
    "            \n",
    "        output=self.conv2(output)\n",
    "        output=self.relu2(output)\n",
    "        \n",
    "        output=self.conv3(output)\n",
    "        output=self.relu3(output)\n",
    "            \n",
    "        output=self.conv4(output)\n",
    "        output=self.bn4(output)\n",
    "        output=self.relu4(output)\n",
    "            \n",
    "            #Above output will be in matrix form, with shape (256,32,75,75)\n",
    "            \n",
    "        output=output.view(-1,48*75*75)\n",
    "        output=self.fc(output)            \n",
    "        return output"
   ]
  },
  {
   "cell_type": "code",
   "execution_count": 62,
   "id": "7d08f3e4",
   "metadata": {},
   "outputs": [],
   "source": [
    "optimizer=Adam(model.parameters(),lr=0.001,weight_decay=0.0001)\n",
    "loss_function=nn.CrossEntropyLoss()"
   ]
  },
  {
   "cell_type": "code",
   "execution_count": 64,
   "id": "779f92e4",
   "metadata": {
    "scrolled": true
   },
   "outputs": [
    {
     "name": "stderr",
     "output_type": "stream",
     "text": [
      "C:\\Users\\DAWN\\AppData\\Local\\Temp/ipykernel_19376/1055844645.py:36: UserWarning: Implicit dimension choice for softmax has been deprecated. Change the call to include dim=X as an argument.\n",
      "  output=self.relu1(output)\n",
      "C:\\Users\\DAWN\\AppData\\Local\\Temp/ipykernel_19376/1055844645.py:41: UserWarning: Implicit dimension choice for softmax has been deprecated. Change the call to include dim=X as an argument.\n",
      "  output=self.relu2(output)\n",
      "C:\\Users\\DAWN\\AppData\\Local\\Temp/ipykernel_19376/1055844645.py:45: UserWarning: Implicit dimension choice for softmax has been deprecated. Change the call to include dim=X as an argument.\n",
      "  output=self.relu3(output)\n"
     ]
    },
    {
     "name": "stdout",
     "output_type": "stream",
     "text": [
      "Epoch: 0 Train Loss: tensor(0.0169) Train Accuracy: 0.9943117178612059 Test Accuracy: 0.8196969696969697\n",
      "Epoch: 1 Train Loss: tensor(0.0065) Train Accuracy: 1.0 Test Accuracy: 0.8287878787878787\n",
      "Epoch: 2 Train Loss: tensor(0.0046) Train Accuracy: 1.0 Test Accuracy: 0.803030303030303\n",
      "Epoch: 3 Train Loss: tensor(0.0078) Train Accuracy: 0.9992415623814941 Test Accuracy: 0.7909090909090909\n",
      "Epoch: 4 Train Loss: tensor(0.0077) Train Accuracy: 0.9992415623814941 Test Accuracy: 0.8287878787878787\n",
      "Epoch: 5 Train Loss: tensor(0.0034) Train Accuracy: 1.0 Test Accuracy: 0.8\n",
      "Epoch: 6 Train Loss: tensor(0.0036) Train Accuracy: 1.0 Test Accuracy: 0.8333333333333334\n",
      "Epoch: 7 Train Loss: tensor(0.0039) Train Accuracy: 1.0 Test Accuracy: 0.806060606060606\n",
      "Epoch: 8 Train Loss: tensor(0.0306) Train Accuracy: 0.9901403109594236 Test Accuracy: 0.7787878787878788\n",
      "Epoch: 9 Train Loss: tensor(0.0795) Train Accuracy: 0.9700417140690178 Test Accuracy: 0.7954545454545454\n",
      "Epoch: 10 Train Loss: tensor(0.0493) Train Accuracy: 0.981039059537353 Test Accuracy: 0.8\n",
      "Epoch: 11 Train Loss: tensor(0.0434) Train Accuracy: 0.9840728100113766 Test Accuracy: 0.8257575757575758\n",
      "Epoch: 12 Train Loss: tensor(0.0184) Train Accuracy: 0.9931740614334471 Test Accuracy: 0.8015151515151515\n",
      "Epoch: 13 Train Loss: tensor(0.0128) Train Accuracy: 0.9977246871444824 Test Accuracy: 0.7924242424242425\n",
      "Epoch: 14 Train Loss: tensor(0.0114) Train Accuracy: 0.9977246871444824 Test Accuracy: 0.8121212121212121\n",
      "Epoch: 15 Train Loss: tensor(0.0135) Train Accuracy: 0.9973454683352294 Test Accuracy: 0.8196969696969697\n",
      "Epoch: 16 Train Loss: tensor(0.0044) Train Accuracy: 1.0 Test Accuracy: 0.7893939393939394\n",
      "Epoch: 17 Train Loss: tensor(0.0047) Train Accuracy: 0.999620781190747 Test Accuracy: 0.7954545454545454\n",
      "Epoch: 18 Train Loss: tensor(0.0039) Train Accuracy: 1.0 Test Accuracy: 0.8227272727272728\n",
      "Epoch: 19 Train Loss: tensor(0.0028) Train Accuracy: 0.999620781190747 Test Accuracy: 0.7954545454545454\n",
      "Epoch: 20 Train Loss: tensor(0.0460) Train Accuracy: 0.9836935912021236 Test Accuracy: 0.8045454545454546\n",
      "Epoch: 21 Train Loss: tensor(0.0149) Train Accuracy: 0.9954493742889647 Test Accuracy: 0.8166666666666667\n",
      "Epoch: 22 Train Loss: tensor(0.0081) Train Accuracy: 0.9988623435722411 Test Accuracy: 0.8212121212121212\n",
      "Epoch: 23 Train Loss: tensor(0.0046) Train Accuracy: 0.999620781190747 Test Accuracy: 0.7833333333333333\n",
      "Epoch: 24 Train Loss: tensor(0.0058) Train Accuracy: 0.9992415623814941 Test Accuracy: 0.8045454545454546\n",
      "Epoch: 25 Train Loss: tensor(0.0027) Train Accuracy: 1.0 Test Accuracy: 0.8106060606060606\n",
      "Epoch: 26 Train Loss: tensor(0.0047) Train Accuracy: 0.9992415623814941 Test Accuracy: 0.8015151515151515\n",
      "Epoch: 27 Train Loss: tensor(0.0030) Train Accuracy: 0.999620781190747 Test Accuracy: 0.8242424242424242\n",
      "Epoch: 28 Train Loss: tensor(0.0019) Train Accuracy: 1.0 Test Accuracy: 0.8196969696969697\n",
      "Epoch: 29 Train Loss: tensor(0.0051) Train Accuracy: 0.9992415623814941 Test Accuracy: 0.7909090909090909\n",
      "Epoch: 30 Train Loss: tensor(0.0021) Train Accuracy: 1.0 Test Accuracy: 0.806060606060606\n",
      "Epoch: 31 Train Loss: tensor(0.0021) Train Accuracy: 1.0 Test Accuracy: 0.8181818181818182\n",
      "Epoch: 32 Train Loss: tensor(0.0021) Train Accuracy: 1.0 Test Accuracy: 0.8136363636363636\n",
      "Epoch: 33 Train Loss: tensor(0.0022) Train Accuracy: 1.0 Test Accuracy: 0.806060606060606\n",
      "Epoch: 34 Train Loss: tensor(0.0014) Train Accuracy: 1.0 Test Accuracy: 0.8257575757575758\n",
      "Epoch: 35 Train Loss: tensor(0.0014) Train Accuracy: 1.0 Test Accuracy: 0.8\n",
      "Epoch: 36 Train Loss: tensor(0.0014) Train Accuracy: 1.0 Test Accuracy: 0.8272727272727273\n",
      "Epoch: 37 Train Loss: tensor(0.0014) Train Accuracy: 1.0 Test Accuracy: 0.8121212121212121\n",
      "Epoch: 38 Train Loss: tensor(0.0019) Train Accuracy: 0.999620781190747 Test Accuracy: 0.7893939393939394\n",
      "Epoch: 39 Train Loss: tensor(0.1690) Train Accuracy: 0.9423587409935533 Test Accuracy: 0.8075757575757576\n",
      "Epoch: 40 Train Loss: tensor(0.0357) Train Accuracy: 0.9852104664391353 Test Accuracy: 0.7954545454545454\n",
      "Epoch: 41 Train Loss: tensor(0.0108) Train Accuracy: 0.9973454683352294 Test Accuracy: 0.806060606060606\n",
      "Epoch: 42 Train Loss: tensor(0.0075) Train Accuracy: 0.9981039059537353 Test Accuracy: 0.7954545454545454\n",
      "Epoch: 43 Train Loss: tensor(0.0054) Train Accuracy: 0.999620781190747 Test Accuracy: 0.8075757575757576\n",
      "Epoch: 44 Train Loss: tensor(0.0029) Train Accuracy: 0.999620781190747 Test Accuracy: 0.8136363636363636\n",
      "Epoch: 45 Train Loss: tensor(0.0065) Train Accuracy: 0.9992415623814941 Test Accuracy: 0.806060606060606\n",
      "Epoch: 46 Train Loss: tensor(0.0058) Train Accuracy: 0.9992415623814941 Test Accuracy: 0.8015151515151515\n",
      "Epoch: 47 Train Loss: tensor(0.0306) Train Accuracy: 0.9890026545316648 Test Accuracy: 0.8075757575757576\n",
      "Epoch: 48 Train Loss: tensor(0.0108) Train Accuracy: 0.9973454683352294 Test Accuracy: 0.7984848484848485\n",
      "Epoch: 49 Train Loss: tensor(0.0024) Train Accuracy: 1.0 Test Accuracy: 0.8166666666666667\n",
      "Epoch: 50 Train Loss: tensor(0.0021) Train Accuracy: 0.999620781190747 Test Accuracy: 0.8015151515151515\n",
      "Epoch: 51 Train Loss: tensor(0.0013) Train Accuracy: 1.0 Test Accuracy: 0.8\n",
      "Epoch: 52 Train Loss: tensor(0.0018) Train Accuracy: 1.0 Test Accuracy: 0.8045454545454546\n",
      "Epoch: 53 Train Loss: tensor(0.0011) Train Accuracy: 1.0 Test Accuracy: 0.8181818181818182\n",
      "Epoch: 54 Train Loss: tensor(0.0012) Train Accuracy: 1.0 Test Accuracy: 0.7954545454545454\n",
      "Epoch: 55 Train Loss: tensor(0.0024) Train Accuracy: 1.0 Test Accuracy: 0.8227272727272728\n",
      "Epoch: 56 Train Loss: tensor(0.0011) Train Accuracy: 1.0 Test Accuracy: 0.803030303030303\n",
      "Epoch: 57 Train Loss: tensor(0.0013) Train Accuracy: 1.0 Test Accuracy: 0.8136363636363636\n",
      "Epoch: 58 Train Loss: tensor(0.0009) Train Accuracy: 1.0 Test Accuracy: 0.8075757575757576\n",
      "Epoch: 59 Train Loss: tensor(0.0008) Train Accuracy: 1.0 Test Accuracy: 0.8136363636363636\n",
      "Epoch: 60 Train Loss: tensor(0.0007) Train Accuracy: 1.0 Test Accuracy: 0.8151515151515152\n",
      "Epoch: 61 Train Loss: tensor(0.0008) Train Accuracy: 1.0 Test Accuracy: 0.8106060606060606\n",
      "Epoch: 62 Train Loss: tensor(0.0008) Train Accuracy: 1.0 Test Accuracy: 0.8121212121212121\n",
      "Epoch: 63 Train Loss: tensor(0.0009) Train Accuracy: 1.0 Test Accuracy: 0.8136363636363636\n",
      "Epoch: 64 Train Loss: tensor(0.0012) Train Accuracy: 1.0 Test Accuracy: 0.8166666666666667\n",
      "Epoch: 65 Train Loss: tensor(0.0009) Train Accuracy: 1.0 Test Accuracy: 0.8015151515151515\n",
      "Epoch: 66 Train Loss: tensor(0.0011) Train Accuracy: 1.0 Test Accuracy: 0.806060606060606\n",
      "Epoch: 67 Train Loss: tensor(0.0008) Train Accuracy: 1.0 Test Accuracy: 0.8045454545454546\n",
      "Epoch: 68 Train Loss: tensor(0.0008) Train Accuracy: 1.0 Test Accuracy: 0.8196969696969697\n",
      "Epoch: 69 Train Loss: tensor(0.0014) Train Accuracy: 1.0 Test Accuracy: 0.8181818181818182\n",
      "Epoch: 70 Train Loss: tensor(0.0011) Train Accuracy: 1.0 Test Accuracy: 0.8181818181818182\n",
      "Epoch: 71 Train Loss: tensor(0.0008) Train Accuracy: 1.0 Test Accuracy: 0.8136363636363636\n",
      "Epoch: 72 Train Loss: tensor(0.0008) Train Accuracy: 1.0 Test Accuracy: 0.8242424242424242\n",
      "Epoch: 73 Train Loss: tensor(0.0008) Train Accuracy: 1.0 Test Accuracy: 0.8151515151515152\n",
      "Epoch: 74 Train Loss: tensor(0.0008) Train Accuracy: 1.0 Test Accuracy: 0.8090909090909091\n",
      "Epoch: 75 Train Loss: tensor(0.0008) Train Accuracy: 1.0 Test Accuracy: 0.8166666666666667\n",
      "Epoch: 76 Train Loss: tensor(0.0010) Train Accuracy: 1.0 Test Accuracy: 0.8075757575757576\n",
      "Epoch: 77 Train Loss: tensor(0.0009) Train Accuracy: 1.0 Test Accuracy: 0.8181818181818182\n",
      "Epoch: 78 Train Loss: tensor(0.0017) Train Accuracy: 1.0 Test Accuracy: 0.8\n",
      "Epoch: 79 Train Loss: tensor(0.0010) Train Accuracy: 1.0 Test Accuracy: 0.8075757575757576\n",
      "Epoch: 80 Train Loss: tensor(0.0011) Train Accuracy: 1.0 Test Accuracy: 0.8090909090909091\n",
      "Epoch: 81 Train Loss: tensor(0.0040) Train Accuracy: 0.9992415623814941 Test Accuracy: 0.8015151515151515\n",
      "Epoch: 82 Train Loss: tensor(0.0032) Train Accuracy: 0.9992415623814941 Test Accuracy: 0.7696969696969697\n",
      "Epoch: 83 Train Loss: tensor(0.2934) Train Accuracy: 0.9222601441031475 Test Accuracy: 0.7833333333333333\n",
      "Epoch: 84 Train Loss: tensor(0.0993) Train Accuracy: 0.968904057641259 Test Accuracy: 0.8257575757575758\n",
      "Epoch: 85 Train Loss: tensor(0.0193) Train Accuracy: 0.9958285930982177 Test Accuracy: 0.8045454545454546\n"
     ]
    },
    {
     "name": "stdout",
     "output_type": "stream",
     "text": [
      "Epoch: 86 Train Loss: tensor(0.0130) Train Accuracy: 0.9962078119074707 Test Accuracy: 0.8166666666666667\n",
      "Epoch: 87 Train Loss: tensor(0.0086) Train Accuracy: 0.9984831247629883 Test Accuracy: 0.7742424242424243\n",
      "Epoch: 88 Train Loss: tensor(0.1193) Train Accuracy: 0.9609404626469473 Test Accuracy: 0.8045454545454546\n",
      "Epoch: 89 Train Loss: tensor(0.0105) Train Accuracy: 0.9958285930982177 Test Accuracy: 0.8090909090909091\n",
      "Epoch: 90 Train Loss: tensor(0.0103) Train Accuracy: 0.9969662495259765 Test Accuracy: 0.796969696969697\n",
      "Epoch: 91 Train Loss: tensor(0.0034) Train Accuracy: 1.0 Test Accuracy: 0.8151515151515152\n",
      "Epoch: 92 Train Loss: tensor(0.0047) Train Accuracy: 0.9992415623814941 Test Accuracy: 0.8151515151515152\n",
      "Epoch: 93 Train Loss: tensor(0.0016) Train Accuracy: 1.0 Test Accuracy: 0.8075757575757576\n",
      "Epoch: 94 Train Loss: tensor(0.0020) Train Accuracy: 1.0 Test Accuracy: 0.8121212121212121\n",
      "Epoch: 95 Train Loss: tensor(0.0017) Train Accuracy: 1.0 Test Accuracy: 0.8136363636363636\n",
      "Epoch: 96 Train Loss: tensor(0.0012) Train Accuracy: 1.0 Test Accuracy: 0.796969696969697\n",
      "Epoch: 97 Train Loss: tensor(0.0012) Train Accuracy: 1.0 Test Accuracy: 0.8106060606060606\n",
      "Epoch: 98 Train Loss: tensor(0.0013) Train Accuracy: 1.0 Test Accuracy: 0.8106060606060606\n",
      "Epoch: 99 Train Loss: tensor(0.0011) Train Accuracy: 1.0 Test Accuracy: 0.8242424242424242\n"
     ]
    }
   ],
   "source": [
    "best_accuracy=0.0\n",
    "\n",
    "for epoch in range(num_epochs):\n",
    "    \n",
    "    #Evaluation and training on training dataset\n",
    "    model.train()\n",
    "    train_accuracy=0.0\n",
    "    train_loss=0.0\n",
    "    \n",
    "    for i, (images,labels) in enumerate(train_loader):\n",
    "        if torch.cuda.is_available():\n",
    "            images=Variable(images.cuda())\n",
    "            labels=Variable(labels.cuda())\n",
    "            \n",
    "        optimizer.zero_grad()\n",
    "        \n",
    "        outputs=model(images)\n",
    "        loss=loss_function(outputs,labels)\n",
    "        loss.backward()\n",
    "        optimizer.step()\n",
    "        \n",
    "        \n",
    "        train_loss+= loss.cpu().data*images.size(0)\n",
    "        _,prediction=torch.max(outputs.data,1)\n",
    "        \n",
    "        train_accuracy+=int(torch.sum(prediction==labels.data))\n",
    "        \n",
    "    train_accuracy=train_accuracy/train_count\n",
    "    train_loss=train_loss/train_count\n",
    "    \n",
    "    \n",
    "    # Evaluation on testing dataset\n",
    "    model.eval()\n",
    "    test_accuracy=0.0\n",
    "    test_loss=0.0\n",
    "    for i, (images,labels) in enumerate(test_loader):\n",
    "        if torch.cuda.is_available():\n",
    "            images=Variable(images.cuda())\n",
    "            labels=Variable(labels.cuda())\n",
    "            \n",
    "        outputs=model(images)\n",
    "        loss=loss_function(outputs,labels)\n",
    "        loss.backward()\n",
    "        test_loss+= loss.cpu().data*images.size(0)  \n",
    "        _,prediction=torch.max(outputs.data,1)\n",
    "        test_accuracy+=int(torch.sum(prediction==labels.data))\n",
    "    \n",
    "    test_accuracy=test_accuracy/test_count\n",
    "    test_loss=test_loss/test_count\n",
    "    \n",
    "    print('Epoch: '+str(epoch)+' Train Loss: '+str(train_loss)+' Train Accuracy: '+str(train_accuracy)+' Test Accuracy: '+str(test_accuracy))\n",
    "    ta[epoch] = train_accuracy\n",
    "    tl[epoch] = train_loss\n",
    "    tea[epoch] = test_accuracy\n",
    "    tel[epoch] = test_loss\n",
    "    \n",
    "    #Save the best model\n",
    "    if test_accuracy>best_accuracy:\n",
    "        torch.save(model.state_dict(),'best_checkpoint_softmax_48ch.pth')\n",
    "        best_accuracy=test_accuracy"
   ]
  },
  {
   "cell_type": "code",
   "execution_count": 65,
   "id": "6797617e",
   "metadata": {},
   "outputs": [],
   "source": [
    "a = [0]*100\n",
    "l = [0]*100\n",
    "for i in range(0,100):\n",
    "    a[i] = ta[i] - tea[i]\n",
    "    l[i] = tel[i] - tl[i]\n",
    "sa=0\n",
    "sl=0\n",
    "for i in range(0,100):\n",
    "    sa = sa + a[i]\n",
    "    sl = sl + l[i]"
   ]
  },
  {
   "cell_type": "code",
   "execution_count": 66,
   "id": "bb5e608c",
   "metadata": {},
   "outputs": [
    {
     "data": {
      "text/plain": [
       "0.18816232288757884"
      ]
     },
     "execution_count": 66,
     "metadata": {},
     "output_type": "execute_result"
    }
   ],
   "source": [
    "#Avg Difference in Accuracy\n",
    "sa/100"
   ]
  },
  {
   "cell_type": "code",
   "execution_count": 67,
   "id": "82ea6c34",
   "metadata": {},
   "outputs": [
    {
     "data": {
      "text/plain": [
       "tensor(0.9407)"
      ]
     },
     "execution_count": 67,
     "metadata": {},
     "output_type": "execute_result"
    }
   ],
   "source": [
    "#Avg Difference in Loss\n",
    "sl/100"
   ]
  },
  {
   "cell_type": "code",
   "execution_count": 79,
   "id": "59a9a5c6",
   "metadata": {},
   "outputs": [],
   "source": [
    "sa1=0\n",
    "sa2=0\n",
    "sl1=0\n",
    "sl2 = 0\n",
    "for i in range(0,100):\n",
    "    sa1 = sa1+ta[i]\n",
    "    sl1 = sl1+tl[i]\n",
    "    sa2 = sa2+tea[i]\n",
    "    sl2 = sl2+tel[i]"
   ]
  },
  {
   "cell_type": "code",
   "execution_count": 80,
   "id": "d71ad77f",
   "metadata": {},
   "outputs": [
    {
     "data": {
      "text/plain": [
       "99.61774744027305"
      ]
     },
     "execution_count": 80,
     "metadata": {},
     "output_type": "execute_result"
    }
   ],
   "source": [
    "sa1"
   ]
  },
  {
   "cell_type": "code",
   "execution_count": 70,
   "id": "7568acfc",
   "metadata": {},
   "outputs": [
    {
     "data": {
      "text/plain": [
       "80.80151515151515"
      ]
     },
     "execution_count": 70,
     "metadata": {},
     "output_type": "execute_result"
    }
   ],
   "source": [
    "sa2"
   ]
  },
  {
   "cell_type": "code",
   "execution_count": 71,
   "id": "957c8f04",
   "metadata": {},
   "outputs": [
    {
     "data": {
      "text/plain": [
       "tensor(0.0136)"
      ]
     },
     "execution_count": 71,
     "metadata": {},
     "output_type": "execute_result"
    }
   ],
   "source": [
    "sl1/100"
   ]
  },
  {
   "cell_type": "code",
   "execution_count": 72,
   "id": "a8c02d01",
   "metadata": {},
   "outputs": [
    {
     "data": {
      "text/plain": [
       "tensor(0.9543)"
      ]
     },
     "execution_count": 72,
     "metadata": {},
     "output_type": "execute_result"
    }
   ],
   "source": [
    "sl2/100"
   ]
  },
  {
   "cell_type": "code",
   "execution_count": 60,
   "id": "cd88e0ea",
   "metadata": {},
   "outputs": [
    {
     "data": {
      "image/png": "[encoded data removed]",
      "text/plain": [
       "<Figure size 432x288 with 1 Axes>"
      ]
     },
     "metadata": {
      "needs_background": "light"
     },
     "output_type": "display_data"
    },
    {
     "data": {
      "image/png": "[encoded data removed]",
      "text/plain": [
       "<Figure size 432x288 with 1 Axes>"
      ]
     },
     "metadata": {
      "needs_background": "light"
     },
     "output_type": "display_data"
    }
   ],
   "source": [
    "# 3x3 kernel, 32 channels, 3 layers\n",
    "plt.title('Softmax Accuracy')\n",
    "plt.plot(ta)\n",
    "plt.plot(tea)\n",
    "plt.legend(['Train Accuracy', 'Test Accuracy'])\n",
    "plt.show()\n",
    "\n",
    "plt.title('Softmax Loss')\n",
    "plt.plot(tl)\n",
    "plt.plot(tel)\n",
    "plt.legend(['Train Loss', 'Test Loss'])\n",
    "plt.show()"
   ]
  },
  {
   "cell_type": "code",
   "execution_count": 77,
   "id": "ca11b685",
   "metadata": {},
   "outputs": [
    {
     "data": {
      "image/png": "[encoded data removed]",
      "text/plain": [
       "<Figure size 432x288 with 1 Axes>"
      ]
     },
     "metadata": {
      "needs_background": "light"
     },
     "output_type": "display_data"
    },
    {
     "data": {
      "image/png": "[encoded data removed]",
      "text/plain": [
       "<Figure size 432x288 with 1 Axes>"
      ]
     },
     "metadata": {
      "needs_background": "light"
     },
     "output_type": "display_data"
    }
   ],
   "source": [
    "plt.suptitle('4 layers, 5x5 kernel, Depth 48')\n",
    "plt.title('Softmax Accuracy')\n",
    "plt.plot(ta)\n",
    "plt.plot(tea)\n",
    "plt.legend(['Train Accuracy', 'Test Accuracy'])\n",
    "plt.show()\n",
    "\n",
    "plt.title('Softmax Loss')\n",
    "plt.plot(tl)\n",
    "plt.plot(tel)\n",
    "plt.legend(['Train Loss', 'Test Loss'])\n",
    "plt.show()"
   ]
  },
  {
   "cell_type": "code",
   "execution_count": null,
   "id": "5eef5844",
   "metadata": {},
   "outputs": [],
   "source": []
  }
 ],
 "metadata": {
  "kernelspec": {
   "display_name": "Python 3 (ipykernel)",
   "language": "python",
   "name": "python3"
  },
  "language_info": {
   "codemirror_mode": {
    "name": "ipython",
    "version": 3
   },
   "file_extension": ".py",
   "mimetype": "text/x-python",
   "name": "python",
   "nbconvert_exporter": "python",
   "pygments_lexer": "ipython3",
   "version": "3.9.7"
  }
 },
 "nbformat": 4,
 "nbformat_minor": 5
}
