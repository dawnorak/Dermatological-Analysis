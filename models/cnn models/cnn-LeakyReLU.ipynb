{
 "cells": [
  {
   "cell_type": "code",
   "execution_count": 80,
   "id": "6bd25bab",
   "metadata": {},
   "outputs": [],
   "source": [
    "import os\n",
    "import numpy as np\n",
    "import torch\n",
    "import glob\n",
    "import torch.nn as nn\n",
    "from torchvision.transforms import transforms\n",
    "from torch.utils.data import DataLoader\n",
    "from torch.optim import Adam\n",
    "from torch.optim import NAdam\n",
    "from torch.autograd import Variable\n",
    "import torchvision\n",
    "import pathlib"
   ]
  },
  {
   "cell_type": "code",
   "execution_count": 50,
   "id": "671f85c2",
   "metadata": {},
   "outputs": [],
   "source": [
    "device=torch.device('cuda' if torch.cuda.is_available() else 'cpu')"
   ]
  },
  {
   "cell_type": "code",
   "execution_count": 51,
   "id": "58c967ee",
   "metadata": {},
   "outputs": [
    {
     "name": "stdout",
     "output_type": "stream",
     "text": [
      "cuda\n"
     ]
    }
   ],
   "source": [
    "print(device)"
   ]
  },
  {
   "cell_type": "code",
   "execution_count": 52,
   "id": "db792453",
   "metadata": {},
   "outputs": [],
   "source": [
    "transformer=transforms.Compose([\n",
    "    transforms.Resize((150,150)),\n",
    "    transforms.RandomHorizontalFlip(),\n",
    "    transforms.ToTensor(),  #0-255 to 0-1, numpy to tensors\n",
    "    transforms.Normalize([0.5,0.5,0.5], # 0-1 to [-1,1] , formula (x-mean)/std\n",
    "                        [0.5,0.5,0.5])\n",
    "])"
   ]
  },
  {
   "cell_type": "code",
   "execution_count": 53,
   "id": "c9f5b83b",
   "metadata": {},
   "outputs": [],
   "source": [
    "train_path= r'C:\\Users\\DAWN\\Documents\\Python Scripts\\python\\data\\train'\n",
    "test_path= r'C:\\Users\\DAWN\\Documents\\Python Scripts\\python\\data\\test'\n",
    "\n",
    "train_loader=DataLoader(\n",
    "    torchvision.datasets.ImageFolder(train_path,transform=transformer),\n",
    "    batch_size=128, shuffle=True\n",
    ")\n",
    "test_loader=DataLoader(\n",
    "    torchvision.datasets.ImageFolder(test_path,transform=transformer),\n",
    "    batch_size=64, shuffle=True\n",
    ")"
   ]
  },
  {
   "cell_type": "code",
   "execution_count": 54,
   "id": "db337a41",
   "metadata": {},
   "outputs": [],
   "source": [
    "root=pathlib.Path(train_path)\n",
    "classes=sorted([j.name.split('/')[-1] for j in root.iterdir()])"
   ]
  },
  {
   "cell_type": "code",
   "execution_count": 55,
   "id": "6bc4552d",
   "metadata": {},
   "outputs": [
    {
     "name": "stdout",
     "output_type": "stream",
     "text": [
      "['benign', 'malignant']\n"
     ]
    }
   ],
   "source": [
    "print(classes)"
   ]
  },
  {
   "cell_type": "code",
   "execution_count": 56,
   "id": "0c5ac880",
   "metadata": {},
   "outputs": [],
   "source": [
    "class ConvNet(nn.Module):\n",
    "    def __init__(self,num_classes=2):\n",
    "        super(ConvNet,self).__init__()\n",
    "        \n",
    "        #Output size after convolution filter\n",
    "        #Input shape= (256,3,150,150)\n",
    "        \n",
    "        self.conv1=nn.Conv2d(in_channels=3,out_channels=12,kernel_size=5,stride=1,padding=2)\n",
    "        #Shape= (256,12,150,150)\n",
    "        self.bn1=nn.BatchNorm2d(num_features=12)\n",
    "        #Shape= (256,12,150,150)\n",
    "        self.relu1=nn.LeakyReLU()\n",
    "        #Shape= (256,12,150,150)\n",
    "        \n",
    "        self.pool=nn.MaxPool2d(kernel_size=2)\n",
    "        #Reduce the image size be factor 2\n",
    "        #Shape= (256,12,75,75)\n",
    "        \n",
    "        self.conv2=nn.Conv2d(in_channels=12,out_channels=20,kernel_size=5,stride=1,padding=2)\n",
    "        #Shape= (256,20,75,75)\n",
    "        self.relu2=nn.LeakyReLU()\n",
    "        #Shape= (256,20,75,75)\n",
    "        \n",
    "        self.conv3=nn.Conv2d(in_channels=20,out_channels=32,kernel_size=5,stride=1,padding=2)\n",
    "        #Shape= (256,20,75,75)\n",
    "        self.relu3=nn.LeakyReLU()\n",
    "        #Shape= (256,20,75,75)\n",
    "        \n",
    "        self.conv4=nn.Conv2d(in_channels=32,out_channels=48,kernel_size=5,stride=1,padding=2)\n",
    "        #Shape= (256,32,75,75)\n",
    "        self.bn4=nn.BatchNorm2d(num_features=48)\n",
    "        #Shape= (256,32,75,75)\n",
    "        self.relu4=nn.LeakyReLU()\n",
    "        #Shape= (256,32,75,75)\n",
    "        \n",
    "        self.fc=nn.Linear(in_features=75 * 75 * 48,out_features=num_classes)\n",
    "        \n",
    "    def forward(self,input):\n",
    "        output=self.conv1(input)\n",
    "        output=self.bn1(output)\n",
    "        output=self.relu1(output)\n",
    "            \n",
    "        output=self.pool(output)\n",
    "            \n",
    "        output=self.conv2(output)\n",
    "        output=self.relu2(output)\n",
    "\n",
    "        output=self.conv3(output)\n",
    "        output=self.relu3(output)\n",
    "            \n",
    "        output=self.conv4(output)\n",
    "        output=self.bn4(output)\n",
    "        output=self.relu4(output)\n",
    "            \n",
    "            #Above output will be in matrix form, with shape (256,32,75,75)\n",
    "            \n",
    "        output=output.view(-1,48*75*75)\n",
    "        output=self.fc(output)            \n",
    "        return output"
   ]
  },
  {
   "cell_type": "code",
   "execution_count": 92,
   "id": "951e30cb",
   "metadata": {},
   "outputs": [],
   "source": [
    "model=ConvNet(num_classes=2).to(device)"
   ]
  },
  {
   "cell_type": "code",
   "execution_count": 58,
   "id": "5e6a4f69",
   "metadata": {},
   "outputs": [],
   "source": [
    "optimizer=Adam(model.parameters(),lr=0.001,weight_decay=0.0001)\n",
    "loss_function=nn.CrossEntropyLoss()"
   ]
  },
  {
   "cell_type": "code",
   "execution_count": 82,
   "id": "1d991d5d",
   "metadata": {},
   "outputs": [],
   "source": [
    "num_epochs=100"
   ]
  },
  {
   "cell_type": "code",
   "execution_count": 83,
   "id": "67e4679c",
   "metadata": {},
   "outputs": [],
   "source": [
    "train_count=len(glob.glob(train_path+'/**/*.jpg'))\n",
    "test_count=len(glob.glob(test_path+'/**/*.jpg'))"
   ]
  },
  {
   "cell_type": "code",
   "execution_count": 84,
   "id": "af661ad8",
   "metadata": {},
   "outputs": [
    {
     "name": "stdout",
     "output_type": "stream",
     "text": [
      "2637 660\n"
     ]
    }
   ],
   "source": [
    "print(train_count,test_count)"
   ]
  },
  {
   "cell_type": "code",
   "execution_count": 85,
   "id": "ab16e80a",
   "metadata": {},
   "outputs": [],
   "source": [
    "ta = [0]*100\n",
    "tl = [0]*100\n",
    "tea = [0]*100\n",
    "tel = [0]*100"
   ]
  },
  {
   "cell_type": "code",
   "execution_count": 63,
   "id": "55e1f558",
   "metadata": {},
   "outputs": [
    {
     "name": "stdout",
     "output_type": "stream",
     "text": [
      "Epoch: 0 Train Loss: tensor(8.7377) Train Accuracy: 0.7186196435343193 Test Accuracy: 0.6924242424242424\n",
      "Epoch: 1 Train Loss: tensor(38.0783) Train Accuracy: 0.6939704209328783 Test Accuracy: 0.5742424242424242\n",
      "Epoch: 2 Train Loss: tensor(16.7027) Train Accuracy: 0.7042093287827076 Test Accuracy: 0.6363636363636364\n",
      "Epoch: 3 Train Loss: tensor(79.5797) Train Accuracy: 0.6405005688282139 Test Accuracy: 0.6257575757575757\n",
      "Epoch: 4 Train Loss: tensor(27.8581) Train Accuracy: 0.5794463405384908 Test Accuracy: 0.5515151515151515\n",
      "Epoch: 5 Train Loss: tensor(367.3977) Train Accuracy: 0.46378460371634433 Test Accuracy: 0.5015151515151515\n",
      "Epoch: 6 Train Loss: tensor(194.4618) Train Accuracy: 0.5915813424345847 Test Accuracy: 0.5863636363636363\n",
      "Epoch: 7 Train Loss: tensor(90.4189) Train Accuracy: 0.45582100872203263 Test Accuracy: 0.49242424242424243\n",
      "Epoch: 8 Train Loss: tensor(113.6964) Train Accuracy: 0.5472127417519909 Test Accuracy: 0.5969696969696969\n",
      "Epoch: 9 Train Loss: tensor(92.7476) Train Accuracy: 0.5563139931740614 Test Accuracy: 0.5545454545454546\n",
      "Epoch: 10 Train Loss: tensor(67.3198) Train Accuracy: 0.6382252559726962 Test Accuracy: 0.7121212121212122\n",
      "Epoch: 11 Train Loss: tensor(81.6293) Train Accuracy: 0.515737580583997 Test Accuracy: 0.6727272727272727\n",
      "Epoch: 12 Train Loss: tensor(72.3159) Train Accuracy: 0.6901782328403488 Test Accuracy: 0.7\n",
      "Epoch: 13 Train Loss: tensor(133.9304) Train Accuracy: 0.515737580583997 Test Accuracy: 0.546969696969697\n",
      "Epoch: 14 Train Loss: tensor(109.7696) Train Accuracy: 0.7129313613955253 Test Accuracy: 0.7075757575757575\n",
      "Epoch: 15 Train Loss: tensor(83.6593) Train Accuracy: 0.6200227531285551 Test Accuracy: 0.7393939393939394\n",
      "Epoch: 16 Train Loss: tensor(17.3433) Train Accuracy: 0.6970041714069017 Test Accuracy: 0.6727272727272727\n",
      "Epoch: 17 Train Loss: tensor(26.4321) Train Accuracy: 0.6753886992794843 Test Accuracy: 0.7106060606060606\n",
      "Epoch: 18 Train Loss: tensor(18.9197) Train Accuracy: 0.6177474402730375 Test Accuracy: 0.6439393939393939\n",
      "Epoch: 19 Train Loss: tensor(74.3524) Train Accuracy: 0.6249525976488434 Test Accuracy: 0.7287878787878788\n",
      "Epoch: 20 Train Loss: tensor(42.6044) Train Accuracy: 0.59613196814562 Test Accuracy: 0.6348484848484849\n",
      "Epoch: 21 Train Loss: tensor(31.9320) Train Accuracy: 0.6947288585513841 Test Accuracy: 0.6787878787878788\n",
      "Epoch: 22 Train Loss: tensor(71.4705) Train Accuracy: 0.5502464922260144 Test Accuracy: 0.6409090909090909\n",
      "Epoch: 23 Train Loss: tensor(122.0919) Train Accuracy: 0.5555555555555556 Test Accuracy: 0.7318181818181818\n",
      "Epoch: 24 Train Loss: tensor(58.4496) Train Accuracy: 0.6226772847933257 Test Accuracy: 0.6818181818181818\n",
      "Epoch: 25 Train Loss: tensor(135.3206) Train Accuracy: 0.5388699279484263 Test Accuracy: 0.6909090909090909\n",
      "Epoch: 26 Train Loss: tensor(124.1909) Train Accuracy: 0.5760333712552143 Test Accuracy: 0.6227272727272727\n",
      "Epoch: 27 Train Loss: tensor(25.7868) Train Accuracy: 0.695866514979143 Test Accuracy: 0.6378787878787879\n",
      "Epoch: 28 Train Loss: tensor(15.9533) Train Accuracy: 0.7322715206674251 Test Accuracy: 0.7318181818181818\n",
      "Epoch: 29 Train Loss: tensor(15.3694) Train Accuracy: 0.6537732271520668 Test Accuracy: 0.693939393939394\n",
      "Epoch: 30 Train Loss: tensor(22.8799) Train Accuracy: 0.6469472885855139 Test Accuracy: 0.6484848484848484\n",
      "Epoch: 31 Train Loss: tensor(10.5086) Train Accuracy: 0.6522563519150549 Test Accuracy: 0.6545454545454545\n",
      "Epoch: 32 Train Loss: tensor(16.4408) Train Accuracy: 0.6977626090254077 Test Accuracy: 0.6651515151515152\n",
      "Epoch: 33 Train Loss: tensor(6.2823) Train Accuracy: 0.7125521425862723 Test Accuracy: 0.6863636363636364\n",
      "Epoch: 34 Train Loss: tensor(3.6749) Train Accuracy: 0.7334091770951839 Test Accuracy: 0.7\n",
      "Epoch: 35 Train Loss: tensor(5.1998) Train Accuracy: 0.5077739855896852 Test Accuracy: 0.6893939393939394\n",
      "Epoch: 36 Train Loss: tensor(5.7825) Train Accuracy: 0.7061054228289723 Test Accuracy: 0.6984848484848485\n",
      "Epoch: 37 Train Loss: tensor(3.7853) Train Accuracy: 0.5980280621918848 Test Accuracy: 0.6606060606060606\n",
      "Epoch: 38 Train Loss: tensor(6.1197) Train Accuracy: 0.7049677664012135 Test Accuracy: 0.6681818181818182\n",
      "Epoch: 39 Train Loss: tensor(2.4487) Train Accuracy: 0.6734926052332195 Test Accuracy: 0.6666666666666666\n",
      "Epoch: 40 Train Loss: tensor(3.4194) Train Accuracy: 0.7186196435343193 Test Accuracy: 0.706060606060606\n",
      "Epoch: 41 Train Loss: tensor(1.9996) Train Accuracy: 0.5764125900644672 Test Accuracy: 0.6106060606060606\n",
      "Epoch: 42 Train Loss: tensor(3.4604) Train Accuracy: 0.7227910504361016 Test Accuracy: 0.6878787878787879\n",
      "Epoch: 43 Train Loss: tensor(1.8064) Train Accuracy: 0.5703450891164201 Test Accuracy: 0.5727272727272728\n",
      "Epoch: 44 Train Loss: tensor(2.8428) Train Accuracy: 0.7106560485400076 Test Accuracy: 0.693939393939394\n",
      "Epoch: 45 Train Loss: tensor(1.4388) Train Accuracy: 0.5828593098217671 Test Accuracy: 0.5545454545454546\n",
      "Epoch: 46 Train Loss: tensor(2.0091) Train Accuracy: 0.7167235494880546 Test Accuracy: 0.6818181818181818\n",
      "Epoch: 47 Train Loss: tensor(1.6446) Train Accuracy: 0.5073947667804323 Test Accuracy: 0.593939393939394\n",
      "Epoch: 48 Train Loss: tensor(2.1817) Train Accuracy: 0.714448236632537 Test Accuracy: 0.6833333333333333\n",
      "Epoch: 49 Train Loss: tensor(1.1694) Train Accuracy: 0.577550246492226 Test Accuracy: 0.5606060606060606\n",
      "Epoch: 50 Train Loss: tensor(1.6384) Train Accuracy: 0.708001516875237 Test Accuracy: 0.6878787878787879\n",
      "Epoch: 51 Train Loss: tensor(1.3197) Train Accuracy: 0.502844141069397 Test Accuracy: 0.5969696969696969\n",
      "Epoch: 52 Train Loss: tensor(2.0034) Train Accuracy: 0.7000379218809253 Test Accuracy: 0.6757575757575758\n",
      "Epoch: 53 Train Loss: tensor(1.0112) Train Accuracy: 0.5991657186196435 Test Accuracy: 0.5757575757575758\n",
      "Epoch: 54 Train Loss: tensor(1.7550) Train Accuracy: 0.6981418278346606 Test Accuracy: 0.6818181818181818\n",
      "Epoch: 55 Train Loss: tensor(1.1853) Train Accuracy: 0.521425862722791 Test Accuracy: 0.5878787878787879\n",
      "Epoch: 56 Train Loss: tensor(2.0413) Train Accuracy: 0.6966249525976489 Test Accuracy: 0.6787878787878788\n",
      "Epoch: 57 Train Loss: tensor(1.0472) Train Accuracy: 0.590443686006826 Test Accuracy: 0.6090909090909091\n",
      "Epoch: 58 Train Loss: tensor(1.7563) Train Accuracy: 0.6939704209328783 Test Accuracy: 0.6742424242424242\n",
      "Epoch: 59 Train Loss: tensor(1.0665) Train Accuracy: 0.540386803185438 Test Accuracy: 0.5893939393939394\n",
      "Epoch: 60 Train Loss: tensor(2.0352) Train Accuracy: 0.6841107318923019 Test Accuracy: 0.6621212121212121\n",
      "Epoch: 61 Train Loss: tensor(0.9786) Train Accuracy: 0.5843761850587789 Test Accuracy: 0.5893939393939394\n",
      "Epoch: 62 Train Loss: tensor(1.4473) Train Accuracy: 0.6681835419036785 Test Accuracy: 0.6666666666666666\n",
      "Epoch: 63 Train Loss: tensor(1.1798) Train Accuracy: 0.49222601441031477 Test Accuracy: 0.5378787878787878\n",
      "Epoch: 64 Train Loss: tensor(1.9105) Train Accuracy: 0.6636329161926432 Test Accuracy: 0.6545454545454545\n",
      "Epoch: 65 Train Loss: tensor(0.8703) Train Accuracy: 0.621160409556314 Test Accuracy: 0.5909090909090909\n",
      "Epoch: 66 Train Loss: tensor(1.4124) Train Accuracy: 0.670838073568449 Test Accuracy: 0.6712121212121213\n",
      "Epoch: 67 Train Loss: tensor(1.2046) Train Accuracy: 0.49829351535836175 Test Accuracy: 0.5893939393939394\n",
      "Epoch: 68 Train Loss: tensor(2.0297) Train Accuracy: 0.6723549488054608 Test Accuracy: 0.6515151515151515\n",
      "Epoch: 69 Train Loss: tensor(0.9716) Train Accuracy: 0.5885475919605613 Test Accuracy: 0.6151515151515151\n",
      "Epoch: 70 Train Loss: tensor(1.9555) Train Accuracy: 0.6765263557072431 Test Accuracy: 0.6621212121212121\n",
      "Epoch: 71 Train Loss: tensor(0.9261) Train Accuracy: 0.621160409556314 Test Accuracy: 0.6303030303030303\n",
      "Epoch: 72 Train Loss: tensor(1.7720) Train Accuracy: 0.6799393249905196 Test Accuracy: 0.6545454545454545\n",
      "Epoch: 73 Train Loss: tensor(1.0987) Train Accuracy: 0.5456958665149791 Test Accuracy: 0.5969696969696969\n",
      "Epoch: 74 Train Loss: tensor(2.0975) Train Accuracy: 0.6670458854759196 Test Accuracy: 0.6621212121212121\n",
      "Epoch: 75 Train Loss: tensor(0.9558) Train Accuracy: 0.6040955631399317 Test Accuracy: 0.6287878787878788\n",
      "Epoch: 76 Train Loss: tensor(1.9054) Train Accuracy: 0.6867652635570725 Test Accuracy: 0.6590909090909091\n",
      "Epoch: 77 Train Loss: tensor(1.0027) Train Accuracy: 0.5851346226772848 Test Accuracy: 0.6015151515151516\n"
     ]
    },
    {
     "name": "stdout",
     "output_type": "stream",
     "text": [
      "Epoch: 78 Train Loss: tensor(1.7578) Train Accuracy: 0.6442927569207433 Test Accuracy: 0.6530303030303031\n",
      "Epoch: 79 Train Loss: tensor(1.2926) Train Accuracy: 0.5293894577171028 Test Accuracy: 0.5666666666666667\n",
      "Epoch: 80 Train Loss: tensor(2.4310) Train Accuracy: 0.6173682214637846 Test Accuracy: 0.6333333333333333\n",
      "Epoch: 81 Train Loss: tensor(1.1389) Train Accuracy: 0.608646188850967 Test Accuracy: 0.5742424242424242\n",
      "Epoch: 82 Train Loss: tensor(2.0521) Train Accuracy: 0.6040955631399317 Test Accuracy: 0.6242424242424243\n",
      "Epoch: 83 Train Loss: tensor(1.2928) Train Accuracy: 0.5601061812665908 Test Accuracy: 0.5757575757575758\n",
      "Epoch: 84 Train Loss: tensor(2.1568) Train Accuracy: 0.6363291619264315 Test Accuracy: 0.6363636363636364\n",
      "Epoch: 85 Train Loss: tensor(1.0513) Train Accuracy: 0.5665529010238908 Test Accuracy: 0.5803030303030303\n",
      "Epoch: 86 Train Loss: tensor(2.2184) Train Accuracy: 0.6484641638225256 Test Accuracy: 0.6545454545454545\n",
      "Epoch: 87 Train Loss: tensor(0.9714) Train Accuracy: 0.6078877512324611 Test Accuracy: 0.6257575757575757\n",
      "Epoch: 88 Train Loss: tensor(1.9025) Train Accuracy: 0.6499810390595373 Test Accuracy: 0.656060606060606\n",
      "Epoch: 89 Train Loss: tensor(1.0968) Train Accuracy: 0.5491088357982556 Test Accuracy: 0.5984848484848485\n",
      "Epoch: 90 Train Loss: tensor(2.1846) Train Accuracy: 0.6469472885855139 Test Accuracy: 0.6606060606060606\n",
      "Epoch: 91 Train Loss: tensor(1.3624) Train Accuracy: 0.540386803185438 Test Accuracy: 0.5909090909090909\n",
      "Epoch: 92 Train Loss: tensor(2.8382) Train Accuracy: 0.6359499431171786 Test Accuracy: 0.6439393939393939\n",
      "Epoch: 93 Train Loss: tensor(1.0433) Train Accuracy: 0.6302616609783845 Test Accuracy: 0.6287878787878788\n",
      "Epoch: 94 Train Loss: tensor(1.7675) Train Accuracy: 0.645809632157755 Test Accuracy: 0.6515151515151515\n",
      "Epoch: 95 Train Loss: tensor(1.4312) Train Accuracy: 0.5305271141448615 Test Accuracy: 0.5893939393939394\n",
      "Epoch: 96 Train Loss: tensor(2.6140) Train Accuracy: 0.6238149412210846 Test Accuracy: 0.6303030303030303\n",
      "Epoch: 97 Train Loss: tensor(1.1751) Train Accuracy: 0.5923397800530906 Test Accuracy: 0.5878787878787879\n",
      "Epoch: 98 Train Loss: tensor(2.3346) Train Accuracy: 0.6412590064467197 Test Accuracy: 0.6393939393939394\n",
      "Epoch: 99 Train Loss: tensor(1.1774) Train Accuracy: 0.5722411831626849 Test Accuracy: 0.593939393939394\n"
     ]
    }
   ],
   "source": [
    "best_accuracy=0.0\n",
    "\n",
    "for epoch in range(num_epochs):\n",
    "    \n",
    "    #Evaluation and training on training dataset\n",
    "    model.train()\n",
    "    train_accuracy=0.0\n",
    "    train_loss=0.0\n",
    "    \n",
    "    for i, (images,labels) in enumerate(train_loader):\n",
    "        if torch.cuda.is_available():\n",
    "            images=Variable(images.cuda())\n",
    "            labels=Variable(labels.cuda())\n",
    "            \n",
    "        optimizer.zero_grad()\n",
    "        \n",
    "        outputs=model(images)\n",
    "        loss=loss_function(outputs,labels)\n",
    "        loss.backward()\n",
    "        optimizer.step()\n",
    "        \n",
    "        train_loss+= loss.cpu().data*images.size(0)\n",
    "        _,prediction=torch.max(outputs.data,1)\n",
    "        train_accuracy+=int(torch.sum(prediction==labels.data))\n",
    "        \n",
    "    train_accuracy=train_accuracy/train_count\n",
    "    train_loss=train_loss/train_count\n",
    "    \n",
    "    \n",
    "    # Evaluation on testing dataset\n",
    "    model.eval()\n",
    "    test_accuracy=0.0\n",
    "    test_loss=0.0\n",
    "    for i, (images,labels) in enumerate(test_loader):\n",
    "        if torch.cuda.is_available():\n",
    "            images=Variable(images.cuda())\n",
    "            labels=Variable(labels.cuda())\n",
    "            \n",
    "        outputs=model(images)\n",
    "        loss=loss_function(outputs,labels)\n",
    "        loss.backward()\n",
    "        optimizer.step()\n",
    "        test_loss+= loss.cpu().data*images.size(0)\n",
    "        _,prediction=torch.max(outputs.data,1)\n",
    "        test_accuracy+=int(torch.sum(prediction==labels.data))\n",
    "    \n",
    "    test_accuracy=test_accuracy/test_count\n",
    "    test_loss= test_loss/test_count\n",
    "    \n",
    "    print('Epoch: '+str(epoch)+' Train Loss: '+str(train_loss)+' Train Accuracy: '+str(train_accuracy)+' Test Accuracy: '+str(test_accuracy))\n",
    "    ta[epoch] = train_accuracy\n",
    "    tl[epoch] = train_loss\n",
    "    tea[epoch] = test_accuracy\n",
    "    tel[epoch] = test_loss\n",
    "    \n",
    "    #Save the best model\n",
    "    if test_accuracy>best_accuracy:\n",
    "        torch.save(model.state_dict(),'best_checkpoint_leakyrelu_48ch_4l.model')\n",
    "        best_accuracy=test_accuracy"
   ]
  },
  {
   "cell_type": "code",
   "execution_count": 64,
   "id": "9b27feb3",
   "metadata": {},
   "outputs": [],
   "source": [
    "import matplotlib.pyplot as plt"
   ]
  },
  {
   "cell_type": "code",
   "execution_count": 65,
   "id": "7fb0689c",
   "metadata": {},
   "outputs": [
    {
     "data": {
      "image/png": "[encoded data removed]",
      "text/plain": [
       "<Figure size 432x288 with 1 Axes>"
      ]
     },
     "metadata": {
      "needs_background": "light"
     },
     "output_type": "display_data"
    },
    {
     "data": {
      "image/png": "[encoded data removed]",
      "text/plain": [
       "<Figure size 432x288 with 1 Axes>"
      ]
     },
     "metadata": {
      "needs_background": "light"
     },
     "output_type": "display_data"
    }
   ],
   "source": [
    "plt.title('Leaky ReLU Accuracy')\n",
    "plt.plot(ta)\n",
    "plt.plot(tea)\n",
    "plt.legend(['Train Accuracy', 'Test Accuracy'])\n",
    "plt.show()\n",
    "\n",
    "plt.title('Leaky ReLU Loss')\n",
    "plt.plot(tl)\n",
    "plt.plot(tel)\n",
    "plt.legend(['Train Loss', 'Test Loss'])\n",
    "plt.show()"
   ]
  },
  {
   "cell_type": "code",
   "execution_count": 49,
   "id": "702832ce",
   "metadata": {},
   "outputs": [],
   "source": [
    "checkpoint = torch.load('best_checkpoint_leakyrelu.model')"
   ]
  },
  {
   "cell_type": "code",
   "execution_count": 50,
   "id": "69db8080",
   "metadata": {},
   "outputs": [
    {
     "data": {
      "text/plain": [
       "<All keys matched successfully>"
      ]
     },
     "execution_count": 50,
     "metadata": {},
     "output_type": "execute_result"
    }
   ],
   "source": [
    "model = ConvNet(num_classes=2)\n",
    "model.load_state_dict(checkpoint)"
   ]
  },
  {
   "cell_type": "code",
   "execution_count": 51,
   "id": "04116dbe",
   "metadata": {},
   "outputs": [],
   "source": [
    "from prettytable import PrettyTable\n",
    "def count_parameters(model):\n",
    "    table = PrettyTable(['Modules', 'Parameters'])\n",
    "    total_params = 0\n",
    "    for name, parameter in model.named_parameters():\n",
    "        if not parameter.requires_grad: continue\n",
    "        params = parameter.numel()\n",
    "        table.add_row([name, params])\n",
    "        total_params+=params\n",
    "    print(table)\n",
    "    print(f\"Total Trainable Params: {total_params}\")\n",
    "    return total_params"
   ]
  },
  {
   "cell_type": "code",
   "execution_count": 54,
   "id": "281d59e0",
   "metadata": {},
   "outputs": [
    {
     "name": "stdout",
     "output_type": "stream",
     "text": [
      "+--------------+------------+\n",
      "|   Modules    | Parameters |\n",
      "+--------------+------------+\n",
      "| conv1.weight |    324     |\n",
      "|  conv1.bias  |     12     |\n",
      "|  bn1.weight  |     12     |\n",
      "|   bn1.bias   |     12     |\n",
      "| conv2.weight |    2160    |\n",
      "|  conv2.bias  |     20     |\n",
      "| conv3.weight |    5760    |\n",
      "|  conv3.bias  |     32     |\n",
      "|  bn3.weight  |     32     |\n",
      "|   bn3.bias   |     32     |\n",
      "|  fc.weight   |   360000   |\n",
      "|   fc.bias    |     2      |\n",
      "+--------------+------------+\n",
      "Total Trainable Params: 368398\n"
     ]
    },
    {
     "data": {
      "text/plain": [
       "368398"
      ]
     },
     "execution_count": 54,
     "metadata": {},
     "output_type": "execute_result"
    }
   ],
   "source": [
    "count_parameters(model)"
   ]
  },
  {
   "cell_type": "code",
   "execution_count": 66,
   "id": "fbf63c2c",
   "metadata": {},
   "outputs": [
    {
     "data": {
      "text/plain": [
       "=====================================================================================================================================================================\n",
       "Layer (type:depth-idx)                   Input Shape               Output Shape              Param #                   Kernel Shape              Mult-Adds\n",
       "=====================================================================================================================================================================\n",
       "ConvNet                                  [1, 3, 150, 150]          [1, 2]                    --                        --                        --\n",
       "├─Conv2d: 1-1                            [1, 3, 150, 150]          [1, 12, 150, 150]         912                       [5, 5]                    20,520,000\n",
       "├─BatchNorm2d: 1-2                       [1, 12, 150, 150]         [1, 12, 150, 150]         24                        --                        24\n",
       "├─LeakyReLU: 1-3                         [1, 12, 150, 150]         [1, 12, 150, 150]         --                        --                        --\n",
       "├─MaxPool2d: 1-4                         [1, 12, 150, 150]         [1, 12, 75, 75]           --                        2                         --\n",
       "├─Conv2d: 1-5                            [1, 12, 75, 75]           [1, 20, 75, 75]           6,020                     [5, 5]                    33,862,500\n",
       "├─LeakyReLU: 1-6                         [1, 20, 75, 75]           [1, 20, 75, 75]           --                        --                        --\n",
       "├─Conv2d: 1-7                            [1, 20, 75, 75]           [1, 32, 75, 75]           16,032                    [5, 5]                    90,180,000\n",
       "├─LeakyReLU: 1-8                         [1, 32, 75, 75]           [1, 32, 75, 75]           --                        --                        --\n",
       "├─Conv2d: 1-9                            [1, 32, 75, 75]           [1, 48, 75, 75]           38,448                    [5, 5]                    216,270,000\n",
       "├─BatchNorm2d: 1-10                      [1, 48, 75, 75]           [1, 48, 75, 75]           96                        --                        96\n",
       "├─LeakyReLU: 1-11                        [1, 48, 75, 75]           [1, 48, 75, 75]           --                        --                        --\n",
       "├─Linear: 1-12                           [1, 270000]               [1, 2]                    540,002                   --                        540,002\n",
       "=====================================================================================================================================================================\n",
       "Total params: 601,534\n",
       "Trainable params: 601,534\n",
       "Non-trainable params: 0\n",
       "Total mult-adds (M): 361.37\n",
       "=====================================================================================================================================================================\n",
       "Input size (MB): 0.27\n",
       "Forward/backward pass size (MB): 10.98\n",
       "Params size (MB): 2.41\n",
       "Estimated Total Size (MB): 13.66\n",
       "====================================================================================================================================================================="
      ]
     },
     "execution_count": 66,
     "metadata": {},
     "output_type": "execute_result"
    }
   ],
   "source": [
    "import torchinfo\n",
    "torchinfo.summary(model, (3, 150, 150), batch_dim = 0, col_names = ('input_size', 'output_size', 'num_params', 'kernel_size', 'mult_adds'), verbose = 0)"
   ]
  },
  {
   "cell_type": "code",
   "execution_count": 67,
   "id": "729ea0ef",
   "metadata": {},
   "outputs": [],
   "source": [
    "a = [0]*100\n",
    "l = [0]*100\n",
    "for i in range(0,100):\n",
    "    a[i] = ta[i] - tea[i]\n",
    "    l[i] = tel[i] - tl[i]\n",
    "sa=0\n",
    "sl=0\n",
    "for i in range(0,100):\n",
    "    sa = sa + a[i]\n",
    "    sl = sl + l[i]"
   ]
  },
  {
   "cell_type": "code",
   "execution_count": 68,
   "id": "799744c6",
   "metadata": {},
   "outputs": [
    {
     "data": {
      "text/plain": [
       "-0.01503504326541869"
      ]
     },
     "execution_count": 68,
     "metadata": {},
     "output_type": "execute_result"
    }
   ],
   "source": [
    "#Avg Difference in Accuracy\n",
    "sa/100"
   ]
  },
  {
   "cell_type": "code",
   "execution_count": 69,
   "id": "c1f6edd9",
   "metadata": {},
   "outputs": [
    {
     "data": {
      "text/plain": [
       "tensor(-11.1671)"
      ]
     },
     "execution_count": 69,
     "metadata": {},
     "output_type": "execute_result"
    }
   ],
   "source": [
    "#Avg Difference in Loss\n",
    "sl/100"
   ]
  },
  {
   "cell_type": "code",
   "execution_count": 70,
   "id": "78291a94",
   "metadata": {},
   "outputs": [],
   "source": [
    "sa1=0\n",
    "sa2=0\n",
    "sl1=0\n",
    "sl2 = 0\n",
    "for i in range(0,100):\n",
    "    sa1 = sa1+ta[i]\n",
    "    sl1 = sl1+tl[i]\n",
    "    sa2 = sa2+tea[i]\n",
    "    sl2 = sl2+tel[i]"
   ]
  },
  {
   "cell_type": "code",
   "execution_count": 75,
   "id": "d1ce5fbc",
   "metadata": {},
   "outputs": [
    {
     "data": {
      "text/plain": [
       "tensor(14.2478)"
      ]
     },
     "execution_count": 75,
     "metadata": {},
     "output_type": "execute_result"
    }
   ],
   "source": [
    "sl2/100"
   ]
  },
  {
   "cell_type": "code",
   "execution_count": 76,
   "id": "aef34d84",
   "metadata": {},
   "outputs": [],
   "source": [
    "#increasing depth"
   ]
  },
  {
   "cell_type": "code",
   "execution_count": 95,
   "id": "88b2d728",
   "metadata": {},
   "outputs": [],
   "source": [
    "class ConvNet(nn.Module):\n",
    "    def __init__(self,num_classes=2):\n",
    "        super(ConvNet,self).__init__()\n",
    "        \n",
    "        #Output size after convolution filter\n",
    "        #Input shape= (256,3,150,150)\n",
    "        \n",
    "        self.conv1=nn.Conv2d(in_channels=3,out_channels=12,kernel_size=3,stride=1,padding=1)\n",
    "        #Shape= (256,12,150,150)\n",
    "        self.bn1=nn.BatchNorm2d(num_features=12)\n",
    "        #Shape= (256,12,150,150)\n",
    "        self.relu1=nn.LeakyReLU()\n",
    "        #Shape= (256,12,150,150)\n",
    "        \n",
    "        self.pool=nn.MaxPool2d(kernel_size=2)\n",
    "        #Reduce the image size be factor 2\n",
    "        #Shape= (256,12,75,75)\n",
    "        \n",
    "        self.conv2=nn.Conv2d(in_channels=12,out_channels=32,kernel_size=3,stride=1,padding=1)\n",
    "        #Shape= (256,20,75,75)\n",
    "        self.relu2=nn.LeakyReLU()\n",
    "        #Shape= (256,20,75,75)\n",
    "        \n",
    "        self.conv5=nn.Conv2d(in_channels=32,out_channels=64,kernel_size=3,stride=1,padding=1)\n",
    "        #Shape= (256,32,75,75)\n",
    "        self.bn5=nn.BatchNorm2d(num_features=64)\n",
    "        #Shape= (256,32,75,75)\n",
    "        self.relu5=nn.LeakyReLU()\n",
    "        #Shape= (256,32,75,75)\n",
    "        \n",
    "        self.fc=nn.Linear(in_features=75 * 75 * 64,out_features=num_classes)\n",
    "        \n",
    "    def forward(self,input):\n",
    "        output=self.conv1(input)\n",
    "        output=self.bn1(output)\n",
    "        output=self.relu1(output)\n",
    "            \n",
    "        output=self.pool(output)\n",
    "            \n",
    "        output=self.conv2(output)\n",
    "        output=self.relu2(output)\n",
    "\n",
    "        output=self.conv3(output)\n",
    "        output=self.relu3(output)\n",
    "        \n",
    "        output=self.conv4(output)\n",
    "        output=self.relu4(output)\n",
    "            \n",
    "        output=self.conv5(output)\n",
    "        output=self.bn5(output)\n",
    "        output=self.relu5(output)\n",
    "            \n",
    "            #Above output will be in matrix form, with shape (256,32,75,75)\n",
    "            \n",
    "        output=output.view(-1,64*75*75)\n",
    "        output=self.fc(output)            \n",
    "        return output"
   ]
  },
  {
   "cell_type": "code",
   "execution_count": 96,
   "id": "618d272a",
   "metadata": {},
   "outputs": [],
   "source": [
    "optimizer=NAdam(model.parameters(),lr=0.0005,weight_decay=0.0001)\n",
    "loss_function=nn.CrossEntropyLoss()"
   ]
  },
  {
   "cell_type": "code",
   "execution_count": 97,
   "id": "073c20ed",
   "metadata": {},
   "outputs": [
    {
     "ename": "RuntimeError",
     "evalue": "CUDA out of memory. Tried to allocate 132.00 MiB (GPU 0; 4.00 GiB total capacity; 3.12 GiB already allocated; 0 bytes free; 3.32 GiB reserved in total by PyTorch) If reserved memory is >> allocated memory try setting max_split_size_mb to avoid fragmentation.  See documentation for Memory Management and PYTORCH_CUDA_ALLOC_CONF",
     "output_type": "error",
     "traceback": [
      "\u001b[1;31m---------------------------------------------------------------------------\u001b[0m",
      "\u001b[1;31mRuntimeError\u001b[0m                              Traceback (most recent call last)",
      "\u001b[1;32m~\\AppData\\Local\\Temp/ipykernel_12620/313945964.py\u001b[0m in \u001b[0;36m<module>\u001b[1;34m\u001b[0m\n\u001b[0;32m     15\u001b[0m         \u001b[0moptimizer\u001b[0m\u001b[1;33m.\u001b[0m\u001b[0mzero_grad\u001b[0m\u001b[1;33m(\u001b[0m\u001b[1;33m)\u001b[0m\u001b[1;33m\u001b[0m\u001b[1;33m\u001b[0m\u001b[0m\n\u001b[0;32m     16\u001b[0m \u001b[1;33m\u001b[0m\u001b[0m\n\u001b[1;32m---> 17\u001b[1;33m         \u001b[0moutputs\u001b[0m\u001b[1;33m=\u001b[0m\u001b[0mmodel\u001b[0m\u001b[1;33m(\u001b[0m\u001b[0mimages\u001b[0m\u001b[1;33m)\u001b[0m\u001b[1;33m\u001b[0m\u001b[1;33m\u001b[0m\u001b[0m\n\u001b[0m\u001b[0;32m     18\u001b[0m         \u001b[0mloss\u001b[0m\u001b[1;33m=\u001b[0m\u001b[0mloss_function\u001b[0m\u001b[1;33m(\u001b[0m\u001b[0moutputs\u001b[0m\u001b[1;33m,\u001b[0m\u001b[0mlabels\u001b[0m\u001b[1;33m)\u001b[0m\u001b[1;33m\u001b[0m\u001b[1;33m\u001b[0m\u001b[0m\n\u001b[0;32m     19\u001b[0m         \u001b[0mloss\u001b[0m\u001b[1;33m.\u001b[0m\u001b[0mbackward\u001b[0m\u001b[1;33m(\u001b[0m\u001b[1;33m)\u001b[0m\u001b[1;33m\u001b[0m\u001b[1;33m\u001b[0m\u001b[0m\n",
      "\u001b[1;32m~\\anaconda3\\lib\\site-packages\\torch\\nn\\modules\\module.py\u001b[0m in \u001b[0;36m_call_impl\u001b[1;34m(self, *input, **kwargs)\u001b[0m\n\u001b[0;32m   1128\u001b[0m         if not (self._backward_hooks or self._forward_hooks or self._forward_pre_hooks or _global_backward_hooks\n\u001b[0;32m   1129\u001b[0m                 or _global_forward_hooks or _global_forward_pre_hooks):\n\u001b[1;32m-> 1130\u001b[1;33m             \u001b[1;32mreturn\u001b[0m \u001b[0mforward_call\u001b[0m\u001b[1;33m(\u001b[0m\u001b[1;33m*\u001b[0m\u001b[0minput\u001b[0m\u001b[1;33m,\u001b[0m \u001b[1;33m**\u001b[0m\u001b[0mkwargs\u001b[0m\u001b[1;33m)\u001b[0m\u001b[1;33m\u001b[0m\u001b[1;33m\u001b[0m\u001b[0m\n\u001b[0m\u001b[0;32m   1131\u001b[0m         \u001b[1;31m# Do not call functions when jit is used\u001b[0m\u001b[1;33m\u001b[0m\u001b[1;33m\u001b[0m\u001b[0m\n\u001b[0;32m   1132\u001b[0m         \u001b[0mfull_backward_hooks\u001b[0m\u001b[1;33m,\u001b[0m \u001b[0mnon_full_backward_hooks\u001b[0m \u001b[1;33m=\u001b[0m \u001b[1;33m[\u001b[0m\u001b[1;33m]\u001b[0m\u001b[1;33m,\u001b[0m \u001b[1;33m[\u001b[0m\u001b[1;33m]\u001b[0m\u001b[1;33m\u001b[0m\u001b[1;33m\u001b[0m\u001b[0m\n",
      "\u001b[1;32m~\\AppData\\Local\\Temp/ipykernel_12620/2115337072.py\u001b[0m in \u001b[0;36mforward\u001b[1;34m(self, input)\u001b[0m\n\u001b[0;32m     42\u001b[0m \u001b[1;33m\u001b[0m\u001b[0m\n\u001b[0;32m     43\u001b[0m     \u001b[1;32mdef\u001b[0m \u001b[0mforward\u001b[0m\u001b[1;33m(\u001b[0m\u001b[0mself\u001b[0m\u001b[1;33m,\u001b[0m\u001b[0minput\u001b[0m\u001b[1;33m)\u001b[0m\u001b[1;33m:\u001b[0m\u001b[1;33m\u001b[0m\u001b[1;33m\u001b[0m\u001b[0m\n\u001b[1;32m---> 44\u001b[1;33m         \u001b[0moutput\u001b[0m\u001b[1;33m=\u001b[0m\u001b[0mself\u001b[0m\u001b[1;33m.\u001b[0m\u001b[0mconv1\u001b[0m\u001b[1;33m(\u001b[0m\u001b[0minput\u001b[0m\u001b[1;33m)\u001b[0m\u001b[1;33m\u001b[0m\u001b[1;33m\u001b[0m\u001b[0m\n\u001b[0m\u001b[0;32m     45\u001b[0m         \u001b[0moutput\u001b[0m\u001b[1;33m=\u001b[0m\u001b[0mself\u001b[0m\u001b[1;33m.\u001b[0m\u001b[0mbn1\u001b[0m\u001b[1;33m(\u001b[0m\u001b[0moutput\u001b[0m\u001b[1;33m)\u001b[0m\u001b[1;33m\u001b[0m\u001b[1;33m\u001b[0m\u001b[0m\n\u001b[0;32m     46\u001b[0m         \u001b[0moutput\u001b[0m\u001b[1;33m=\u001b[0m\u001b[0mself\u001b[0m\u001b[1;33m.\u001b[0m\u001b[0mrelu1\u001b[0m\u001b[1;33m(\u001b[0m\u001b[0moutput\u001b[0m\u001b[1;33m)\u001b[0m\u001b[1;33m\u001b[0m\u001b[1;33m\u001b[0m\u001b[0m\n",
      "\u001b[1;32m~\\anaconda3\\lib\\site-packages\\torch\\nn\\modules\\module.py\u001b[0m in \u001b[0;36m_call_impl\u001b[1;34m(self, *input, **kwargs)\u001b[0m\n\u001b[0;32m   1128\u001b[0m         if not (self._backward_hooks or self._forward_hooks or self._forward_pre_hooks or _global_backward_hooks\n\u001b[0;32m   1129\u001b[0m                 or _global_forward_hooks or _global_forward_pre_hooks):\n\u001b[1;32m-> 1130\u001b[1;33m             \u001b[1;32mreturn\u001b[0m \u001b[0mforward_call\u001b[0m\u001b[1;33m(\u001b[0m\u001b[1;33m*\u001b[0m\u001b[0minput\u001b[0m\u001b[1;33m,\u001b[0m \u001b[1;33m**\u001b[0m\u001b[0mkwargs\u001b[0m\u001b[1;33m)\u001b[0m\u001b[1;33m\u001b[0m\u001b[1;33m\u001b[0m\u001b[0m\n\u001b[0m\u001b[0;32m   1131\u001b[0m         \u001b[1;31m# Do not call functions when jit is used\u001b[0m\u001b[1;33m\u001b[0m\u001b[1;33m\u001b[0m\u001b[0m\n\u001b[0;32m   1132\u001b[0m         \u001b[0mfull_backward_hooks\u001b[0m\u001b[1;33m,\u001b[0m \u001b[0mnon_full_backward_hooks\u001b[0m \u001b[1;33m=\u001b[0m \u001b[1;33m[\u001b[0m\u001b[1;33m]\u001b[0m\u001b[1;33m,\u001b[0m \u001b[1;33m[\u001b[0m\u001b[1;33m]\u001b[0m\u001b[1;33m\u001b[0m\u001b[1;33m\u001b[0m\u001b[0m\n",
      "\u001b[1;32m~\\anaconda3\\lib\\site-packages\\torch\\nn\\modules\\conv.py\u001b[0m in \u001b[0;36mforward\u001b[1;34m(self, input)\u001b[0m\n\u001b[0;32m    455\u001b[0m \u001b[1;33m\u001b[0m\u001b[0m\n\u001b[0;32m    456\u001b[0m     \u001b[1;32mdef\u001b[0m \u001b[0mforward\u001b[0m\u001b[1;33m(\u001b[0m\u001b[0mself\u001b[0m\u001b[1;33m,\u001b[0m \u001b[0minput\u001b[0m\u001b[1;33m:\u001b[0m \u001b[0mTensor\u001b[0m\u001b[1;33m)\u001b[0m \u001b[1;33m->\u001b[0m \u001b[0mTensor\u001b[0m\u001b[1;33m:\u001b[0m\u001b[1;33m\u001b[0m\u001b[1;33m\u001b[0m\u001b[0m\n\u001b[1;32m--> 457\u001b[1;33m         \u001b[1;32mreturn\u001b[0m \u001b[0mself\u001b[0m\u001b[1;33m.\u001b[0m\u001b[0m_conv_forward\u001b[0m\u001b[1;33m(\u001b[0m\u001b[0minput\u001b[0m\u001b[1;33m,\u001b[0m \u001b[0mself\u001b[0m\u001b[1;33m.\u001b[0m\u001b[0mweight\u001b[0m\u001b[1;33m,\u001b[0m \u001b[0mself\u001b[0m\u001b[1;33m.\u001b[0m\u001b[0mbias\u001b[0m\u001b[1;33m)\u001b[0m\u001b[1;33m\u001b[0m\u001b[1;33m\u001b[0m\u001b[0m\n\u001b[0m\u001b[0;32m    458\u001b[0m \u001b[1;33m\u001b[0m\u001b[0m\n\u001b[0;32m    459\u001b[0m \u001b[1;32mclass\u001b[0m \u001b[0mConv3d\u001b[0m\u001b[1;33m(\u001b[0m\u001b[0m_ConvNd\u001b[0m\u001b[1;33m)\u001b[0m\u001b[1;33m:\u001b[0m\u001b[1;33m\u001b[0m\u001b[1;33m\u001b[0m\u001b[0m\n",
      "\u001b[1;32m~\\anaconda3\\lib\\site-packages\\torch\\nn\\modules\\conv.py\u001b[0m in \u001b[0;36m_conv_forward\u001b[1;34m(self, input, weight, bias)\u001b[0m\n\u001b[0;32m    451\u001b[0m                             \u001b[0mweight\u001b[0m\u001b[1;33m,\u001b[0m \u001b[0mbias\u001b[0m\u001b[1;33m,\u001b[0m \u001b[0mself\u001b[0m\u001b[1;33m.\u001b[0m\u001b[0mstride\u001b[0m\u001b[1;33m,\u001b[0m\u001b[1;33m\u001b[0m\u001b[1;33m\u001b[0m\u001b[0m\n\u001b[0;32m    452\u001b[0m                             _pair(0), self.dilation, self.groups)\n\u001b[1;32m--> 453\u001b[1;33m         return F.conv2d(input, weight, bias, self.stride,\n\u001b[0m\u001b[0;32m    454\u001b[0m                         self.padding, self.dilation, self.groups)\n\u001b[0;32m    455\u001b[0m \u001b[1;33m\u001b[0m\u001b[0m\n",
      "\u001b[1;31mRuntimeError\u001b[0m: CUDA out of memory. Tried to allocate 132.00 MiB (GPU 0; 4.00 GiB total capacity; 3.12 GiB already allocated; 0 bytes free; 3.32 GiB reserved in total by PyTorch) If reserved memory is >> allocated memory try setting max_split_size_mb to avoid fragmentation.  See documentation for Memory Management and PYTORCH_CUDA_ALLOC_CONF"
     ]
    }
   ],
   "source": [
    "best_accuracy=0.0\n",
    "\n",
    "for epoch in range(num_epochs):\n",
    "    \n",
    "    #Evaluation and training on training dataset\n",
    "    model.train()\n",
    "    train_accuracy=0.0\n",
    "    train_loss=0.0\n",
    "    \n",
    "    for i, (images,labels) in enumerate(train_loader):\n",
    "        if torch.cuda.is_available():\n",
    "            images=Variable(images.cuda())\n",
    "            labels=Variable(labels.cuda())\n",
    "            \n",
    "        optimizer.zero_grad()\n",
    "        \n",
    "        outputs=model(images)\n",
    "        loss=loss_function(outputs,labels)\n",
    "        loss.backward()\n",
    "        optimizer.step()\n",
    "        \n",
    "        train_loss+= loss.cpu().data*images.size(0)\n",
    "        _,prediction=torch.max(outputs.data,1)\n",
    "        train_accuracy+=int(torch.sum(prediction==labels.data))\n",
    "        \n",
    "    train_accuracy=train_accuracy/train_count\n",
    "    train_loss=train_loss/train_count\n",
    "    \n",
    "    \n",
    "    # Evaluation on testing dataset\n",
    "    model.eval()\n",
    "    test_accuracy=0.0\n",
    "    test_loss=0.0\n",
    "    for i, (images,labels) in enumerate(test_loader):\n",
    "        if torch.cuda.is_available():\n",
    "            images=Variable(images.cuda())\n",
    "            labels=Variable(labels.cuda())\n",
    "            \n",
    "        outputs=model(images)\n",
    "        loss=loss_function(outputs,labels)\n",
    "        loss.backward()\n",
    "        optimizer.step()\n",
    "        test_loss+= loss.cpu().data*images.size(0)\n",
    "        _,prediction=torch.max(outputs.data,1)\n",
    "        test_accuracy+=int(torch.sum(prediction==labels.data))\n",
    "    \n",
    "    test_accuracy=test_accuracy/test_count\n",
    "    test_loss= test_loss/test_count\n",
    "    \n",
    "    print('Epoch: '+str(epoch)+' Train Loss: '+str(train_loss)+' Train Accuracy: '+str(train_accuracy)+' Test Accuracy: '+str(test_accuracy))\n",
    "    ta[epoch] = train_accuracy\n",
    "    tl[epoch] = train_loss\n",
    "    tea[epoch] = test_accuracy\n",
    "    tel[epoch] = test_loss\n",
    "    \n",
    "    #Save the best model\n",
    "    if test_accuracy>best_accuracy:\n",
    "        torch.save(model.state_dict(),'best_checkpoint_leakyrelu_64ch.model')\n",
    "        best_accuracy=test_accuracy"
   ]
  },
  {
   "cell_type": "code",
   "execution_count": null,
   "id": "e66601c0",
   "metadata": {},
   "outputs": [],
   "source": []
  }
 ],
 "metadata": {
  "kernelspec": {
   "display_name": "Python 3 (ipykernel)",
   "language": "python",
   "name": "python3"
  },
  "language_info": {
   "codemirror_mode": {
    "name": "ipython",
    "version": 3
   },
   "file_extension": ".py",
   "mimetype": "text/x-python",
   "name": "python",
   "nbconvert_exporter": "python",
   "pygments_lexer": "ipython3",
   "version": "3.9.7"
  }
 },
 "nbformat": 4,
 "nbformat_minor": 5
}
