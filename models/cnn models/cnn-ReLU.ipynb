{
 "cells": [
  {
   "cell_type": "code",
   "execution_count": 1,
   "id": "9a585b4a",
   "metadata": {},
   "outputs": [],
   "source": [
    "import os\n",
    "import numpy as np\n",
    "import torch\n",
    "import glob\n",
    "import torch.nn as nn\n",
    "from torchvision.transforms import transforms\n",
    "from torch.utils.data import DataLoader\n",
    "from torch.optim import Adam\n",
    "from torch.autograd import Variable\n",
    "import torchvision\n",
    "import pathlib\n",
    "import matplotlib.pyplot as plt"
   ]
  },
  {
   "cell_type": "code",
   "execution_count": 2,
   "id": "cf16236d",
   "metadata": {},
   "outputs": [],
   "source": [
    "device=torch.device('cuda' if torch.cuda.is_available() else 'cpu')"
   ]
  },
  {
   "cell_type": "code",
   "execution_count": 3,
   "id": "b4c17f8b",
   "metadata": {},
   "outputs": [
    {
     "name": "stdout",
     "output_type": "stream",
     "text": [
      "cuda\n"
     ]
    }
   ],
   "source": [
    "print(device)"
   ]
  },
  {
   "cell_type": "code",
   "execution_count": 4,
   "id": "4968cde6",
   "metadata": {},
   "outputs": [],
   "source": [
    "transformer=transforms.Compose([\n",
    "    transforms.Resize((150,150)),\n",
    "    transforms.RandomHorizontalFlip(),\n",
    "    transforms.ToTensor(),  #0-255 to 0-1, numpy to tensors\n",
    "    transforms.Normalize([0.5,0.5,0.5], # 0-1 to [-1,1] , formula (x-mean)/std\n",
    "                        [0.5,0.5,0.5])\n",
    "])"
   ]
  },
  {
   "cell_type": "code",
   "execution_count": 5,
   "id": "56e73df2",
   "metadata": {},
   "outputs": [],
   "source": [
    "train_path= r'C:\\Users\\DAWN\\Documents\\Python Scripts\\python\\data\\train'\n",
    "test_path= r'C:\\Users\\DAWN\\Documents\\Python Scripts\\python\\data\\test'\n",
    "\n",
    "train_loader=DataLoader(\n",
    "    torchvision.datasets.ImageFolder(train_path,transform=transformer),\n",
    "    batch_size=128, shuffle=True\n",
    ")\n",
    "test_loader=DataLoader(\n",
    "    torchvision.datasets.ImageFolder(test_path,transform=transformer),\n",
    "    batch_size=64, shuffle=True\n",
    ")"
   ]
  },
  {
   "cell_type": "code",
   "execution_count": 6,
   "id": "0b6af359",
   "metadata": {},
   "outputs": [],
   "source": [
    "root=pathlib.Path(train_path)\n",
    "classes=sorted([j.name.split('/')[-1] for j in root.iterdir()])"
   ]
  },
  {
   "cell_type": "code",
   "execution_count": 7,
   "id": "55227ebf",
   "metadata": {},
   "outputs": [
    {
     "name": "stdout",
     "output_type": "stream",
     "text": [
      "['benign', 'malignant']\n"
     ]
    }
   ],
   "source": [
    "print(classes)"
   ]
  },
  {
   "cell_type": "code",
   "execution_count": 8,
   "id": "3fe54610",
   "metadata": {},
   "outputs": [],
   "source": [
    "class ConvNet(nn.Module):\n",
    "    def __init__(self,num_classes=2):\n",
    "        super(ConvNet,self).__init__()\n",
    "        \n",
    "        #Output size after convolution filter\n",
    "        #Input shape= (256,3,150,150)\n",
    "        \n",
    "        self.conv1=nn.Conv2d(in_channels=3,out_channels=12,kernel_size=3,stride=1,padding=1)\n",
    "        #Shape= (256,12,150,150)\n",
    "        self.bn1=nn.BatchNorm2d(num_features=12)\n",
    "        #Shape= (256,12,150,150)\n",
    "        self.relu1=nn.ReLU()\n",
    "        #Shape= (256,12,150,150)\n",
    "        \n",
    "        self.pool=nn.MaxPool2d(kernel_size=2)\n",
    "        #Reduce the image size be factor 2\n",
    "        #Shape= (256,12,75,75)\n",
    "        \n",
    "        self.conv2=nn.Conv2d(in_channels=12,out_channels=20,kernel_size=3,stride=1,padding=1)\n",
    "        #Shape= (256,20,75,75)\n",
    "        self.relu2=nn.ReLU()\n",
    "        #Shape= (256,20,75,75)\n",
    "        \n",
    "        self.conv3=nn.Conv2d(in_channels=20,out_channels=32,kernel_size=3,stride=1,padding=1)\n",
    "        #Shape= (256,32,75,75)\n",
    "        self.bn3=nn.BatchNorm2d(num_features=32)\n",
    "        #Shape= (256,32,75,75)\n",
    "        self.relu3=nn.ReLU()\n",
    "        #Shape= (256,32,75,75)\n",
    "        \n",
    "        self.fc=nn.Linear(in_features=75 * 75 * 32,out_features=num_classes)\n",
    "        \n",
    "    def forward(self,input):\n",
    "        output=self.conv1(input)\n",
    "        output=self.bn1(output)\n",
    "        output=self.relu1(output)\n",
    "            \n",
    "        output=self.pool(output)\n",
    "            \n",
    "        output=self.conv2(output)\n",
    "        output=self.relu2(output)\n",
    "            \n",
    "        output=self.conv3(output)\n",
    "        output=self.bn3(output)\n",
    "        output=self.relu3(output)\n",
    "        #Above output will be in matrix form, with shape (256,32,75,75)\n",
    "            \n",
    "        output=output.view(-1,32*75*75)\n",
    "        output=self.fc(output)\n",
    "        \n",
    "        return output"
   ]
  },
  {
   "cell_type": "code",
   "execution_count": 9,
   "id": "78eb549e",
   "metadata": {},
   "outputs": [],
   "source": [
    "model=ConvNet(num_classes=2).to(device)"
   ]
  },
  {
   "cell_type": "code",
   "execution_count": 10,
   "id": "f833f84e",
   "metadata": {},
   "outputs": [],
   "source": [
    "optimizer=Adam(model.parameters(),lr=0.001,weight_decay=0.0001)\n",
    "loss_function=nn.CrossEntropyLoss()"
   ]
  },
  {
   "cell_type": "code",
   "execution_count": 11,
   "id": "c39586df",
   "metadata": {},
   "outputs": [],
   "source": [
    "num_epochs=100"
   ]
  },
  {
   "cell_type": "code",
   "execution_count": 12,
   "id": "2e609e28",
   "metadata": {},
   "outputs": [],
   "source": [
    "train_count=len(glob.glob(train_path+'/**/*.jpg'))\n",
    "test_count=len(glob.glob(test_path+'/**/*.jpg'))"
   ]
  },
  {
   "cell_type": "code",
   "execution_count": 13,
   "id": "fee6f35f",
   "metadata": {},
   "outputs": [
    {
     "name": "stdout",
     "output_type": "stream",
     "text": [
      "2637 660\n"
     ]
    }
   ],
   "source": [
    "print(train_count,test_count)"
   ]
  },
  {
   "cell_type": "code",
   "execution_count": 14,
   "id": "61fe0fae",
   "metadata": {},
   "outputs": [],
   "source": [
    "ta = [0]*100\n",
    "tl = [0]*100\n",
    "tea = [0]*100\n",
    "tel = [0]*100"
   ]
  },
  {
   "cell_type": "code",
   "execution_count": 15,
   "id": "cfb3e2eb",
   "metadata": {},
   "outputs": [
    {
     "name": "stdout",
     "output_type": "stream",
     "text": [
      "Epoch: 0 Train Loss: tensor(6.3445) Train Accuracy: 0.7049677664012135 Test Accuracy: 0.6530303030303031\n",
      "Epoch: 1 Train Loss: tensor(1.8914) Train Accuracy: 0.7607129313613955 Test Accuracy: 0.7803030303030303\n",
      "Epoch: 2 Train Loss: tensor(1.8738) Train Accuracy: 0.7717102768297307 Test Accuracy: 0.8242424242424242\n",
      "Epoch: 3 Train Loss: tensor(2.2093) Train Accuracy: 0.7785362153962837 Test Accuracy: 0.7818181818181819\n",
      "Epoch: 4 Train Loss: tensor(1.2699) Train Accuracy: 0.8191126279863481 Test Accuracy: 0.7787878787878788\n",
      "Epoch: 5 Train Loss: tensor(0.6740) Train Accuracy: 0.8490709139173302 Test Accuracy: 0.7909090909090909\n",
      "Epoch: 6 Train Loss: tensor(0.5050) Train Accuracy: 0.8748577929465301 Test Accuracy: 0.7924242424242425\n",
      "Epoch: 7 Train Loss: tensor(0.4458) Train Accuracy: 0.8824421691315889 Test Accuracy: 0.7893939393939394\n",
      "Epoch: 8 Train Loss: tensor(0.4769) Train Accuracy: 0.8767538869927949 Test Accuracy: 0.8045454545454546\n",
      "Epoch: 9 Train Loss: tensor(0.4493) Train Accuracy: 0.8763746681835419 Test Accuracy: 0.7287878787878788\n",
      "Epoch: 10 Train Loss: tensor(0.4650) Train Accuracy: 0.8843382631778536 Test Accuracy: 0.803030303030303\n",
      "Epoch: 11 Train Loss: tensor(0.2117) Train Accuracy: 0.9332574895714827 Test Accuracy: 0.8227272727272728\n",
      "Epoch: 12 Train Loss: tensor(0.1768) Train Accuracy: 0.944254835039818 Test Accuracy: 0.8227272727272728\n",
      "Epoch: 13 Train Loss: tensor(0.1210) Train Accuracy: 0.9598028062191885 Test Accuracy: 0.8136363636363636\n",
      "Epoch: 14 Train Loss: tensor(0.0737) Train Accuracy: 0.9772468714448237 Test Accuracy: 0.8242424242424242\n",
      "Epoch: 15 Train Loss: tensor(0.0746) Train Accuracy: 0.9726962457337884 Test Accuracy: 0.8181818181818182\n",
      "Epoch: 16 Train Loss: tensor(0.0912) Train Accuracy: 0.9681456200227532 Test Accuracy: 0.8166666666666667\n",
      "Epoch: 17 Train Loss: tensor(0.0552) Train Accuracy: 0.981039059537353 Test Accuracy: 0.803030303030303\n",
      "Epoch: 18 Train Loss: tensor(0.0344) Train Accuracy: 0.9905195297686765 Test Accuracy: 0.8151515151515152\n",
      "Epoch: 19 Train Loss: tensor(0.0302) Train Accuracy: 0.9912779673871824 Test Accuracy: 0.806060606060606\n",
      "Epoch: 20 Train Loss: tensor(0.0248) Train Accuracy: 0.993932499051953 Test Accuracy: 0.806060606060606\n",
      "Epoch: 21 Train Loss: tensor(0.0228) Train Accuracy: 0.9943117178612059 Test Accuracy: 0.8196969696969697\n",
      "Epoch: 22 Train Loss: tensor(0.0192) Train Accuracy: 0.9962078119074707 Test Accuracy: 0.8121212121212121\n",
      "Epoch: 23 Train Loss: tensor(0.0128) Train Accuracy: 0.9984831247629883 Test Accuracy: 0.8287878787878787\n",
      "Epoch: 24 Train Loss: tensor(0.0082) Train Accuracy: 0.999620781190747 Test Accuracy: 0.8242424242424242\n",
      "Epoch: 25 Train Loss: tensor(0.0070) Train Accuracy: 1.0 Test Accuracy: 0.8181818181818182\n",
      "Epoch: 26 Train Loss: tensor(0.0051) Train Accuracy: 1.0 Test Accuracy: 0.8272727272727273\n",
      "Epoch: 27 Train Loss: tensor(0.0058) Train Accuracy: 0.999620781190747 Test Accuracy: 0.8212121212121212\n",
      "Epoch: 28 Train Loss: tensor(0.0040) Train Accuracy: 1.0 Test Accuracy: 0.8242424242424242\n",
      "Epoch: 29 Train Loss: tensor(0.0042) Train Accuracy: 0.999620781190747 Test Accuracy: 0.8181818181818182\n",
      "Epoch: 30 Train Loss: tensor(0.0035) Train Accuracy: 1.0 Test Accuracy: 0.8151515151515152\n",
      "Epoch: 31 Train Loss: tensor(0.0030) Train Accuracy: 1.0 Test Accuracy: 0.8151515151515152\n",
      "Epoch: 32 Train Loss: tensor(0.0029) Train Accuracy: 1.0 Test Accuracy: 0.8166666666666667\n",
      "Epoch: 33 Train Loss: tensor(0.0028) Train Accuracy: 1.0 Test Accuracy: 0.8151515151515152\n",
      "Epoch: 34 Train Loss: tensor(0.0024) Train Accuracy: 1.0 Test Accuracy: 0.8181818181818182\n",
      "Epoch: 35 Train Loss: tensor(0.0020) Train Accuracy: 1.0 Test Accuracy: 0.8121212121212121\n",
      "Epoch: 36 Train Loss: tensor(0.0020) Train Accuracy: 1.0 Test Accuracy: 0.8272727272727273\n",
      "Epoch: 37 Train Loss: tensor(0.0020) Train Accuracy: 1.0 Test Accuracy: 0.8272727272727273\n",
      "Epoch: 38 Train Loss: tensor(0.0017) Train Accuracy: 1.0 Test Accuracy: 0.8212121212121212\n",
      "Epoch: 39 Train Loss: tensor(0.0017) Train Accuracy: 1.0 Test Accuracy: 0.8151515151515152\n",
      "Epoch: 40 Train Loss: tensor(0.0015) Train Accuracy: 1.0 Test Accuracy: 0.8181818181818182\n",
      "Epoch: 41 Train Loss: tensor(0.0014) Train Accuracy: 1.0 Test Accuracy: 0.8196969696969697\n",
      "Epoch: 42 Train Loss: tensor(0.0013) Train Accuracy: 1.0 Test Accuracy: 0.8272727272727273\n",
      "Epoch: 43 Train Loss: tensor(0.0012) Train Accuracy: 1.0 Test Accuracy: 0.8227272727272728\n",
      "Epoch: 44 Train Loss: tensor(0.0013) Train Accuracy: 1.0 Test Accuracy: 0.8106060606060606\n",
      "Epoch: 45 Train Loss: tensor(0.0012) Train Accuracy: 1.0 Test Accuracy: 0.8212121212121212\n",
      "Epoch: 46 Train Loss: tensor(0.0011) Train Accuracy: 1.0 Test Accuracy: 0.8136363636363636\n",
      "Epoch: 47 Train Loss: tensor(0.0012) Train Accuracy: 1.0 Test Accuracy: 0.8106060606060606\n",
      "Epoch: 48 Train Loss: tensor(0.0012) Train Accuracy: 1.0 Test Accuracy: 0.806060606060606\n",
      "Epoch: 49 Train Loss: tensor(0.0011) Train Accuracy: 1.0 Test Accuracy: 0.8106060606060606\n",
      "Epoch: 50 Train Loss: tensor(0.0012) Train Accuracy: 1.0 Test Accuracy: 0.8212121212121212\n",
      "Epoch: 51 Train Loss: tensor(0.0011) Train Accuracy: 1.0 Test Accuracy: 0.8136363636363636\n",
      "Epoch: 52 Train Loss: tensor(0.0010) Train Accuracy: 1.0 Test Accuracy: 0.8227272727272728\n",
      "Epoch: 53 Train Loss: tensor(0.0009) Train Accuracy: 1.0 Test Accuracy: 0.8181818181818182\n",
      "Epoch: 54 Train Loss: tensor(0.0009) Train Accuracy: 1.0 Test Accuracy: 0.8106060606060606\n",
      "Epoch: 55 Train Loss: tensor(0.0008) Train Accuracy: 1.0 Test Accuracy: 0.8212121212121212\n",
      "Epoch: 56 Train Loss: tensor(0.0009) Train Accuracy: 1.0 Test Accuracy: 0.8136363636363636\n",
      "Epoch: 57 Train Loss: tensor(0.0008) Train Accuracy: 1.0 Test Accuracy: 0.8212121212121212\n",
      "Epoch: 58 Train Loss: tensor(0.0008) Train Accuracy: 1.0 Test Accuracy: 0.8196969696969697\n",
      "Epoch: 59 Train Loss: tensor(0.0008) Train Accuracy: 1.0 Test Accuracy: 0.8136363636363636\n",
      "Epoch: 60 Train Loss: tensor(0.0007) Train Accuracy: 1.0 Test Accuracy: 0.8196969696969697\n",
      "Epoch: 61 Train Loss: tensor(0.0007) Train Accuracy: 1.0 Test Accuracy: 0.8227272727272728\n",
      "Epoch: 62 Train Loss: tensor(0.0006) Train Accuracy: 1.0 Test Accuracy: 0.8272727272727273\n",
      "Epoch: 63 Train Loss: tensor(0.0007) Train Accuracy: 1.0 Test Accuracy: 0.8227272727272728\n",
      "Epoch: 64 Train Loss: tensor(0.0007) Train Accuracy: 1.0 Test Accuracy: 0.8121212121212121\n",
      "Epoch: 65 Train Loss: tensor(0.0007) Train Accuracy: 1.0 Test Accuracy: 0.8212121212121212\n",
      "Epoch: 66 Train Loss: tensor(0.0006) Train Accuracy: 1.0 Test Accuracy: 0.8121212121212121\n",
      "Epoch: 67 Train Loss: tensor(0.0006) Train Accuracy: 1.0 Test Accuracy: 0.8181818181818182\n",
      "Epoch: 68 Train Loss: tensor(0.0006) Train Accuracy: 1.0 Test Accuracy: 0.8166666666666667\n",
      "Epoch: 69 Train Loss: tensor(0.0005) Train Accuracy: 1.0 Test Accuracy: 0.8242424242424242\n",
      "Epoch: 70 Train Loss: tensor(0.0005) Train Accuracy: 1.0 Test Accuracy: 0.8166666666666667\n",
      "Epoch: 71 Train Loss: tensor(0.0005) Train Accuracy: 1.0 Test Accuracy: 0.8136363636363636\n",
      "Epoch: 72 Train Loss: tensor(0.0005) Train Accuracy: 1.0 Test Accuracy: 0.8196969696969697\n",
      "Epoch: 73 Train Loss: tensor(0.0005) Train Accuracy: 1.0 Test Accuracy: 0.8166666666666667\n",
      "Epoch: 74 Train Loss: tensor(0.0005) Train Accuracy: 1.0 Test Accuracy: 0.8272727272727273\n",
      "Epoch: 75 Train Loss: tensor(0.0005) Train Accuracy: 1.0 Test Accuracy: 0.8136363636363636\n",
      "Epoch: 76 Train Loss: tensor(0.0004) Train Accuracy: 1.0 Test Accuracy: 0.8166666666666667\n",
      "Epoch: 77 Train Loss: tensor(0.0005) Train Accuracy: 1.0 Test Accuracy: 0.8272727272727273\n",
      "Epoch: 78 Train Loss: tensor(0.0004) Train Accuracy: 1.0 Test Accuracy: 0.8272727272727273\n",
      "Epoch: 79 Train Loss: tensor(0.0004) Train Accuracy: 1.0 Test Accuracy: 0.8227272727272728\n",
      "Epoch: 80 Train Loss: tensor(0.0005) Train Accuracy: 1.0 Test Accuracy: 0.8272727272727273\n",
      "Epoch: 81 Train Loss: tensor(0.0004) Train Accuracy: 1.0 Test Accuracy: 0.8227272727272728\n",
      "Epoch: 82 Train Loss: tensor(0.0004) Train Accuracy: 1.0 Test Accuracy: 0.8196969696969697\n",
      "Epoch: 83 Train Loss: tensor(0.0004) Train Accuracy: 1.0 Test Accuracy: 0.8318181818181818\n",
      "Epoch: 84 Train Loss: tensor(0.0004) Train Accuracy: 1.0 Test Accuracy: 0.8257575757575758\n",
      "Epoch: 85 Train Loss: tensor(0.0005) Train Accuracy: 1.0 Test Accuracy: 0.8181818181818182\n"
     ]
    },
    {
     "name": "stdout",
     "output_type": "stream",
     "text": [
      "Epoch: 86 Train Loss: tensor(0.0004) Train Accuracy: 1.0 Test Accuracy: 0.8196969696969697\n",
      "Epoch: 87 Train Loss: tensor(0.0004) Train Accuracy: 1.0 Test Accuracy: 0.8196969696969697\n",
      "Epoch: 88 Train Loss: tensor(0.0004) Train Accuracy: 1.0 Test Accuracy: 0.8151515151515152\n",
      "Epoch: 89 Train Loss: tensor(0.0003) Train Accuracy: 1.0 Test Accuracy: 0.8257575757575758\n",
      "Epoch: 90 Train Loss: tensor(0.0003) Train Accuracy: 1.0 Test Accuracy: 0.8151515151515152\n",
      "Epoch: 91 Train Loss: tensor(0.0004) Train Accuracy: 1.0 Test Accuracy: 0.8348484848484848\n",
      "Epoch: 92 Train Loss: tensor(0.0003) Train Accuracy: 1.0 Test Accuracy: 0.8227272727272728\n",
      "Epoch: 93 Train Loss: tensor(0.0003) Train Accuracy: 1.0 Test Accuracy: 0.8121212121212121\n",
      "Epoch: 94 Train Loss: tensor(0.0003) Train Accuracy: 1.0 Test Accuracy: 0.8227272727272728\n",
      "Epoch: 95 Train Loss: tensor(0.0003) Train Accuracy: 1.0 Test Accuracy: 0.803030303030303\n",
      "Epoch: 96 Train Loss: tensor(0.0004) Train Accuracy: 1.0 Test Accuracy: 0.8181818181818182\n",
      "Epoch: 97 Train Loss: tensor(0.0003) Train Accuracy: 1.0 Test Accuracy: 0.8242424242424242\n",
      "Epoch: 98 Train Loss: tensor(0.0004) Train Accuracy: 1.0 Test Accuracy: 0.8196969696969697\n",
      "Epoch: 99 Train Loss: tensor(0.0003) Train Accuracy: 1.0 Test Accuracy: 0.8212121212121212\n"
     ]
    }
   ],
   "source": [
    "best_accuracy=0.0\n",
    "\n",
    "for epoch in range(num_epochs):\n",
    "    \n",
    "    #Evaluation and training on training dataset\n",
    "    model.train()\n",
    "    train_accuracy=0.0\n",
    "    train_loss=0.0\n",
    "    \n",
    "    for i, (images,labels) in enumerate(train_loader):\n",
    "        if torch.cuda.is_available():\n",
    "            images=Variable(images.cuda())\n",
    "            labels=Variable(labels.cuda())\n",
    "            \n",
    "        optimizer.zero_grad()\n",
    "        \n",
    "        outputs=model(images)\n",
    "        loss=loss_function(outputs,labels)\n",
    "        loss.backward()\n",
    "        optimizer.step()\n",
    "        train_loss+= loss.cpu().data*images.size(0)\n",
    "        _,prediction=torch.max(outputs.data,1)\n",
    "        train_accuracy+=int(torch.sum(prediction==labels.data))\n",
    "        \n",
    "    train_accuracy=train_accuracy/train_count\n",
    "    train_loss=train_loss/train_count\n",
    "    \n",
    "    # Evaluation on testing dataset\n",
    "    model.eval()\n",
    "    test_accuracy=0.0\n",
    "    test_loss=0.0\n",
    "    for i, (images,labels) in enumerate(test_loader):\n",
    "        if torch.cuda.is_available():\n",
    "            images=Variable(images.cuda())\n",
    "            labels=Variable(labels.cuda())\n",
    "        outputs=model(images)\n",
    "        loss=loss_function(outputs,labels)\n",
    "        loss.backward()\n",
    "        test_loss+= loss.cpu().data*images.size(0)        \n",
    "        _,prediction=torch.max(outputs.data,1)\n",
    "        test_accuracy+=int(torch.sum(prediction==labels.data))\n",
    "    \n",
    "    test_accuracy=test_accuracy/test_count\n",
    "    test_loss=test_loss/test_count\n",
    "    \n",
    "    print('Epoch: '+str(epoch)+' Train Loss: '+str(train_loss)+' Train Accuracy: '+str(train_accuracy)+' Test Accuracy: '+str(test_accuracy))\n",
    "    ta[epoch] = train_accuracy\n",
    "    tl[epoch] = train_loss\n",
    "    tea[epoch] = test_accuracy\n",
    "    tel[epoch] = test_loss\n",
    "    \n",
    "    #Save the best model\n",
    "    if test_accuracy>best_accuracy:\n",
    "        torch.save(model.state_dict(),'best_checkpoint_relu.model')\n",
    "        best_accuracy=test_accuracy"
   ]
  },
  {
   "cell_type": "code",
   "execution_count": 43,
   "id": "8d8406fe",
   "metadata": {},
   "outputs": [
    {
     "data": {
      "image/png": "[encoded data removed]",
      "text/plain": [
       "<Figure size 432x288 with 1 Axes>"
      ]
     },
     "metadata": {
      "needs_background": "light"
     },
     "output_type": "display_data"
    },
    {
     "data": {
      "image/png": "[encoded data removed]",
      "text/plain": [
       "<Figure size 432x288 with 1 Axes>"
      ]
     },
     "metadata": {
      "needs_background": "light"
     },
     "output_type": "display_data"
    }
   ],
   "source": [
    "plt.title(\"ReLU Train Accuracy\")\n",
    "plt.plot(ta)\n",
    "plt.show()\n",
    "\n",
    "plt.title(\"ReLU Train Loss\")\n",
    "plt.plot(tl)\n",
    "plt.show()"
   ]
  },
  {
   "cell_type": "code",
   "execution_count": 26,
   "id": "4c0555d2",
   "metadata": {},
   "outputs": [
    {
     "data": {
      "image/png": "[encoded data removed]",
      "text/plain": [
       "<Figure size 432x288 with 1 Axes>"
      ]
     },
     "metadata": {
      "needs_background": "light"
     },
     "output_type": "display_data"
    },
    {
     "data": {
      "image/png": "[encoded data removed]",
      "text/plain": [
       "<Figure size 432x288 with 1 Axes>"
      ]
     },
     "metadata": {
      "needs_background": "light"
     },
     "output_type": "display_data"
    }
   ],
   "source": [
    "plt.title(\"ReLU Test Accuracy\")\n",
    "plt.ylim([0,1])\n",
    "plt.plot(tea)\n",
    "plt.show()\n",
    "\n",
    "plt.title(\"ReLU Test Loss\")\n",
    "plt.ylim([0.5,3])\n",
    "plt.plot(tel)\n",
    "plt.show()"
   ]
  },
  {
   "cell_type": "code",
   "execution_count": 50,
   "id": "0e80df5d",
   "metadata": {},
   "outputs": [
    {
     "data": {
      "image/png": "[encoded data removed]",
      "text/plain": [
       "<Figure size 432x288 with 1 Axes>"
      ]
     },
     "metadata": {
      "needs_background": "light"
     },
     "output_type": "display_data"
    },
    {
     "data": {
      "image/png": "[encoded data removed]",
      "text/plain": [
       "<Figure size 432x288 with 1 Axes>"
      ]
     },
     "metadata": {
      "needs_background": "light"
     },
     "output_type": "display_data"
    }
   ],
   "source": [
    "plt.title('ReLU Accuracy')\n",
    "plt.plot(ta)\n",
    "plt.plot(tea)\n",
    "plt.legend(['Train Accuracy', 'Test Accuracy'])\n",
    "plt.show()\n",
    "\n",
    "plt.title('ReLU Loss')\n",
    "plt.plot(tl)\n",
    "plt.plot(tel)\n",
    "plt.legend(['Train Loss', 'Test Loss'])\n",
    "plt.show()"
   ]
  },
  {
   "cell_type": "code",
   "execution_count": 18,
   "id": "6c6830ef",
   "metadata": {},
   "outputs": [],
   "source": [
    "checkpoint = torch.load('best_checkpoint_relu.model')"
   ]
  },
  {
   "cell_type": "code",
   "execution_count": 19,
   "id": "7878bf07",
   "metadata": {},
   "outputs": [],
   "source": [
    "model = ConvNet(num_classes=2)"
   ]
  },
  {
   "cell_type": "code",
   "execution_count": 20,
   "id": "c38eb0f2",
   "metadata": {},
   "outputs": [
    {
     "data": {
      "text/plain": [
       "<All keys matched successfully>"
      ]
     },
     "execution_count": 20,
     "metadata": {},
     "output_type": "execute_result"
    }
   ],
   "source": [
    "model.load_state_dict(checkpoint)"
   ]
  },
  {
   "cell_type": "code",
   "execution_count": 21,
   "id": "21a68cc5",
   "metadata": {},
   "outputs": [],
   "source": [
    "from prettytable import PrettyTable"
   ]
  },
  {
   "cell_type": "code",
   "execution_count": 22,
   "id": "1d4d9c61",
   "metadata": {},
   "outputs": [],
   "source": [
    "def count_parameters(model):\n",
    "    table = PrettyTable(['Modules', 'Parameters'])\n",
    "    total_params = 0\n",
    "    for name, parameter in model.named_parameters():\n",
    "        if not parameter.requires_grad: continue\n",
    "        params = parameter.numel()\n",
    "        table.add_row([name, params])\n",
    "        total_params+=params\n",
    "    print(table)\n",
    "    print(f\"Total Trainable Params: {total_params}\")\n",
    "    return total_params"
   ]
  },
  {
   "cell_type": "code",
   "execution_count": 23,
   "id": "b0873259",
   "metadata": {},
   "outputs": [
    {
     "name": "stdout",
     "output_type": "stream",
     "text": [
      "+--------------+------------+\n",
      "|   Modules    | Parameters |\n",
      "+--------------+------------+\n",
      "| conv1.weight |    324     |\n",
      "|  conv1.bias  |     12     |\n",
      "|  bn1.weight  |     12     |\n",
      "|   bn1.bias   |     12     |\n",
      "| conv2.weight |    2160    |\n",
      "|  conv2.bias  |     20     |\n",
      "| conv3.weight |    5760    |\n",
      "|  conv3.bias  |     32     |\n",
      "|  bn3.weight  |     32     |\n",
      "|   bn3.bias   |     32     |\n",
      "|  fc.weight   |   360000   |\n",
      "|   fc.bias    |     2      |\n",
      "+--------------+------------+\n",
      "Total Trainable Params: 368398\n"
     ]
    },
    {
     "data": {
      "text/plain": [
       "368398"
      ]
     },
     "execution_count": 23,
     "metadata": {},
     "output_type": "execute_result"
    }
   ],
   "source": [
    "count_parameters(model)"
   ]
  },
  {
   "cell_type": "code",
   "execution_count": 26,
   "id": "9e892a03",
   "metadata": {},
   "outputs": [
    {
     "data": {
      "text/plain": [
       "=====================================================================================================================================================================\n",
       "Layer (type:depth-idx)                   Input Shape               Output Shape              Param #                   Kernel Shape              Mult-Adds\n",
       "=====================================================================================================================================================================\n",
       "ConvNet                                  [1, 3, 150, 150]          [1, 2]                    --                        --                        --\n",
       "├─Conv2d: 1-1                            [1, 3, 150, 150]          [1, 12, 150, 150]         336                       [3, 3]                    7,560,000\n",
       "├─BatchNorm2d: 1-2                       [1, 12, 150, 150]         [1, 12, 150, 150]         24                        --                        24\n",
       "├─ReLU: 1-3                              [1, 12, 150, 150]         [1, 12, 150, 150]         --                        --                        --\n",
       "├─MaxPool2d: 1-4                         [1, 12, 150, 150]         [1, 12, 75, 75]           --                        2                         --\n",
       "├─Conv2d: 1-5                            [1, 12, 75, 75]           [1, 20, 75, 75]           2,180                     [3, 3]                    12,262,500\n",
       "├─ReLU: 1-6                              [1, 20, 75, 75]           [1, 20, 75, 75]           --                        --                        --\n",
       "├─Conv2d: 1-7                            [1, 20, 75, 75]           [1, 32, 75, 75]           5,792                     [3, 3]                    32,580,000\n",
       "├─BatchNorm2d: 1-8                       [1, 32, 75, 75]           [1, 32, 75, 75]           64                        --                        64\n",
       "├─ReLU: 1-9                              [1, 32, 75, 75]           [1, 32, 75, 75]           --                        --                        --\n",
       "├─Dropout: 1-10                          [1, 32, 75, 75]           [1, 32, 75, 75]           --                        --                        --\n",
       "├─Linear: 1-11                           [1, 180000]               [1, 2]                    360,002                   --                        360,002\n",
       "=====================================================================================================================================================================\n",
       "Total params: 368,398\n",
       "Trainable params: 368,398\n",
       "Non-trainable params: 0\n",
       "Total mult-adds (M): 52.76\n",
       "=====================================================================================================================================================================\n",
       "Input size (MB): 0.27\n",
       "Forward/backward pass size (MB): 8.10\n",
       "Params size (MB): 1.47\n",
       "Estimated Total Size (MB): 9.84\n",
       "====================================================================================================================================================================="
      ]
     },
     "execution_count": 26,
     "metadata": {},
     "output_type": "execute_result"
    }
   ],
   "source": [
    "torchinfo.summary(model, (3, 150, 150), batch_dim = 0, col_names = ('input_size', 'output_size', 'num_params', \n",
    "                                                                    'kernel_size', 'mult_adds'), verbose = 0)"
   ]
  },
  {
   "cell_type": "code",
   "execution_count": 15,
   "id": "7839b4b6",
   "metadata": {},
   "outputs": [],
   "source": [
    "# Using Dropouts\n",
    "\n",
    "class ConvNet(nn.Module):\n",
    "    def __init__(self,num_classes=2):\n",
    "        super(ConvNet,self).__init__()\n",
    "        \n",
    "        #Output size after convolution filter\n",
    "        #Input shape= (256,3,150,150)\n",
    "        \n",
    "        self.conv1=nn.Conv2d(in_channels=3,out_channels=12,kernel_size=3,stride=1,padding=1)\n",
    "        #Shape= (256,12,150,150)\n",
    "        self.bn1=nn.BatchNorm2d(num_features=12)\n",
    "        #Shape= (256,12,150,150)\n",
    "        self.relu1=nn.ReLU()\n",
    "        #Shape= (256,12,150,150)\n",
    "        \n",
    "        self.pool=nn.MaxPool2d(kernel_size=2)\n",
    "        #Reduce the image size be factor 2\n",
    "        #Shape= (256,12,75,75)\n",
    "        \n",
    "        self.conv2=nn.Conv2d(in_channels=12,out_channels=20,kernel_size=3,stride=1,padding=1)\n",
    "        #Shape= (256,20,75,75)\n",
    "        self.relu2=nn.ReLU()\n",
    "        #Shape= (256,20,75,75)\n",
    "        \n",
    "        self.conv3=nn.Conv2d(in_channels=20,out_channels=32,kernel_size=3,stride=1,padding=1)\n",
    "        #Shape= (256,32,75,75)\n",
    "        self.bn3=nn.BatchNorm2d(num_features=32)\n",
    "        #Shape= (256,32,75,75)\n",
    "        self.relu3=nn.ReLU()\n",
    "        #Shape= (256,32,75,75)\n",
    "        \n",
    "        self.fc=nn.Linear(in_features=75*75*32,out_features=num_classes)\n",
    "        self.dropout = nn.Dropout(0.50)\n",
    "\n",
    "    def forward(self,input):\n",
    "        output=self.conv1(input)\n",
    "        output=self.bn1(output)\n",
    "        output=self.relu1(output)\n",
    "            \n",
    "        output=self.pool(output)\n",
    "            \n",
    "        output=self.conv2(output)\n",
    "        output=self.relu2(output)\n",
    "            \n",
    "        output=self.conv3(output)\n",
    "        output=self.bn3(output)\n",
    "        output=self.relu3(output)\n",
    "        output=self.dropout(output)\n",
    "        #Above output will be in matrix form, with shape (256,32,75,75)\n",
    "            \n",
    "        output=output.view(-1,32*75*75)\n",
    "        output=self.fc(output)\n",
    "        \n",
    "        return output"
   ]
  },
  {
   "cell_type": "code",
   "execution_count": 16,
   "id": "7922628c",
   "metadata": {},
   "outputs": [
    {
     "name": "stdout",
     "output_type": "stream",
     "text": [
      "Epoch: 0 Train Loss: tensor(8.2435) Train Accuracy: 0.7023132347364429 Test Accuracy: 0.5681818181818182\n",
      "Epoch: 1 Train Loss: tensor(2.2236) Train Accuracy: 0.7781569965870307 Test Accuracy: 0.6151515151515151\n",
      "Epoch: 2 Train Loss: tensor(1.9384) Train Accuracy: 0.7732271520667425 Test Accuracy: 0.7924242424242425\n",
      "Epoch: 3 Train Loss: tensor(1.9642) Train Accuracy: 0.7705726204019719 Test Accuracy: 0.7818181818181819\n",
      "Epoch: 4 Train Loss: tensor(1.1556) Train Accuracy: 0.819491846795601 Test Accuracy: 0.806060606060606\n",
      "Epoch: 5 Train Loss: tensor(0.4956) Train Accuracy: 0.8543799772468714 Test Accuracy: 0.8015151515151515\n",
      "Epoch: 6 Train Loss: tensor(0.3317) Train Accuracy: 0.8729616989002654 Test Accuracy: 0.7984848484848485\n",
      "Epoch: 7 Train Loss: tensor(0.3055) Train Accuracy: 0.8892681076981418 Test Accuracy: 0.8090909090909091\n",
      "Epoch: 8 Train Loss: tensor(0.2282) Train Accuracy: 0.9177095183921122 Test Accuracy: 0.8075757575757576\n",
      "Epoch: 9 Train Loss: tensor(0.2292) Train Accuracy: 0.9082290481607888 Test Accuracy: 0.8212121212121212\n",
      "Epoch: 10 Train Loss: tensor(0.2161) Train Accuracy: 0.9207432688661358 Test Accuracy: 0.8106060606060606\n",
      "Epoch: 11 Train Loss: tensor(0.4638) Train Accuracy: 0.8835798255593478 Test Accuracy: 0.7121212121212122\n",
      "Epoch: 12 Train Loss: tensor(0.6233) Train Accuracy: 0.8558968524838833 Test Accuracy: 0.8287878787878787\n",
      "Epoch: 13 Train Loss: tensor(0.2780) Train Accuracy: 0.9124004550625711 Test Accuracy: 0.806060606060606\n",
      "Epoch: 14 Train Loss: tensor(0.2187) Train Accuracy: 0.9230185817216534 Test Accuracy: 0.8045454545454546\n",
      "Epoch: 15 Train Loss: tensor(0.1341) Train Accuracy: 0.9510807736063709 Test Accuracy: 0.806060606060606\n",
      "Epoch: 16 Train Loss: tensor(0.1227) Train Accuracy: 0.9537353052711415 Test Accuracy: 0.8090909090909091\n",
      "Epoch: 17 Train Loss: tensor(0.1164) Train Accuracy: 0.9601820250284414 Test Accuracy: 0.8151515151515152\n",
      "Epoch: 18 Train Loss: tensor(0.0857) Train Accuracy: 0.9654910883579826 Test Accuracy: 0.8090909090909091\n",
      "Epoch: 19 Train Loss: tensor(0.0675) Train Accuracy: 0.9787637466818354 Test Accuracy: 0.8272727272727273\n",
      "Epoch: 20 Train Loss: tensor(0.0485) Train Accuracy: 0.9859689040576413 Test Accuracy: 0.8181818181818182\n",
      "Epoch: 21 Train Loss: tensor(0.0378) Train Accuracy: 0.9908987485779295 Test Accuracy: 0.8151515151515152\n",
      "Epoch: 22 Train Loss: tensor(0.0307) Train Accuracy: 0.9927948426241942 Test Accuracy: 0.8166666666666667\n",
      "Epoch: 23 Train Loss: tensor(0.0232) Train Accuracy: 0.9950701554797118 Test Accuracy: 0.8166666666666667\n",
      "Epoch: 24 Train Loss: tensor(0.0221) Train Accuracy: 0.9965870307167235 Test Accuracy: 0.8166666666666667\n",
      "Epoch: 25 Train Loss: tensor(0.0231) Train Accuracy: 0.9958285930982177 Test Accuracy: 0.8121212121212121\n",
      "Epoch: 26 Train Loss: tensor(0.0222) Train Accuracy: 0.9965870307167235 Test Accuracy: 0.8196969696969697\n",
      "Epoch: 27 Train Loss: tensor(0.0245) Train Accuracy: 0.9958285930982177 Test Accuracy: 0.8212121212121212\n",
      "Epoch: 28 Train Loss: tensor(0.0248) Train Accuracy: 0.9943117178612059 Test Accuracy: 0.803030303030303\n",
      "Epoch: 29 Train Loss: tensor(0.0224) Train Accuracy: 0.9950701554797118 Test Accuracy: 0.8090909090909091\n",
      "Epoch: 30 Train Loss: tensor(0.0202) Train Accuracy: 0.9962078119074707 Test Accuracy: 0.8196969696969697\n",
      "Epoch: 31 Train Loss: tensor(0.0145) Train Accuracy: 0.9984831247629883 Test Accuracy: 0.8166666666666667\n",
      "Epoch: 32 Train Loss: tensor(0.0107) Train Accuracy: 0.9988623435722411 Test Accuracy: 0.8196969696969697\n",
      "Epoch: 33 Train Loss: tensor(0.0078) Train Accuracy: 1.0 Test Accuracy: 0.8227272727272728\n",
      "Epoch: 34 Train Loss: tensor(0.0056) Train Accuracy: 0.999620781190747 Test Accuracy: 0.8045454545454546\n",
      "Epoch: 35 Train Loss: tensor(0.0052) Train Accuracy: 1.0 Test Accuracy: 0.8106060606060606\n",
      "Epoch: 36 Train Loss: tensor(0.0042) Train Accuracy: 0.999620781190747 Test Accuracy: 0.8212121212121212\n",
      "Epoch: 37 Train Loss: tensor(0.0037) Train Accuracy: 1.0 Test Accuracy: 0.8090909090909091\n",
      "Epoch: 38 Train Loss: tensor(0.0046) Train Accuracy: 0.999620781190747 Test Accuracy: 0.8227272727272728\n",
      "Epoch: 39 Train Loss: tensor(0.0036) Train Accuracy: 1.0 Test Accuracy: 0.8287878787878787\n",
      "Epoch: 40 Train Loss: tensor(0.0030) Train Accuracy: 1.0 Test Accuracy: 0.8227272727272728\n",
      "Epoch: 41 Train Loss: tensor(0.0027) Train Accuracy: 1.0 Test Accuracy: 0.8287878787878787\n",
      "Epoch: 42 Train Loss: tensor(0.0022) Train Accuracy: 1.0 Test Accuracy: 0.8227272727272728\n",
      "Epoch: 43 Train Loss: tensor(0.0021) Train Accuracy: 1.0 Test Accuracy: 0.8151515151515152\n",
      "Epoch: 44 Train Loss: tensor(0.0020) Train Accuracy: 1.0 Test Accuracy: 0.8106060606060606\n",
      "Epoch: 45 Train Loss: tensor(0.0017) Train Accuracy: 1.0 Test Accuracy: 0.8196969696969697\n",
      "Epoch: 46 Train Loss: tensor(0.0021) Train Accuracy: 1.0 Test Accuracy: 0.8090909090909091\n",
      "Epoch: 47 Train Loss: tensor(0.0022) Train Accuracy: 1.0 Test Accuracy: 0.8212121212121212\n",
      "Epoch: 48 Train Loss: tensor(0.0021) Train Accuracy: 0.999620781190747 Test Accuracy: 0.8318181818181818\n",
      "Epoch: 49 Train Loss: tensor(0.0016) Train Accuracy: 1.0 Test Accuracy: 0.8121212121212121\n",
      "Epoch: 50 Train Loss: tensor(0.0013) Train Accuracy: 1.0 Test Accuracy: 0.806060606060606\n",
      "Epoch: 51 Train Loss: tensor(0.0013) Train Accuracy: 1.0 Test Accuracy: 0.8196969696969697\n",
      "Epoch: 52 Train Loss: tensor(0.0013) Train Accuracy: 1.0 Test Accuracy: 0.8166666666666667\n",
      "Epoch: 53 Train Loss: tensor(0.0014) Train Accuracy: 1.0 Test Accuracy: 0.8181818181818182\n",
      "Epoch: 54 Train Loss: tensor(0.0011) Train Accuracy: 1.0 Test Accuracy: 0.8121212121212121\n",
      "Epoch: 55 Train Loss: tensor(0.0011) Train Accuracy: 1.0 Test Accuracy: 0.8181818181818182\n",
      "Epoch: 56 Train Loss: tensor(0.0011) Train Accuracy: 1.0 Test Accuracy: 0.8287878787878787\n",
      "Epoch: 57 Train Loss: tensor(0.0011) Train Accuracy: 1.0 Test Accuracy: 0.8196969696969697\n",
      "Epoch: 58 Train Loss: tensor(0.0010) Train Accuracy: 1.0 Test Accuracy: 0.8196969696969697\n",
      "Epoch: 59 Train Loss: tensor(0.0009) Train Accuracy: 1.0 Test Accuracy: 0.8196969696969697\n",
      "Epoch: 60 Train Loss: tensor(0.0009) Train Accuracy: 1.0 Test Accuracy: 0.8151515151515152\n",
      "Epoch: 61 Train Loss: tensor(0.0010) Train Accuracy: 1.0 Test Accuracy: 0.8227272727272728\n",
      "Epoch: 62 Train Loss: tensor(0.0009) Train Accuracy: 1.0 Test Accuracy: 0.8136363636363636\n",
      "Epoch: 63 Train Loss: tensor(0.0008) Train Accuracy: 1.0 Test Accuracy: 0.803030303030303\n",
      "Epoch: 64 Train Loss: tensor(0.0007) Train Accuracy: 1.0 Test Accuracy: 0.8075757575757576\n",
      "Epoch: 65 Train Loss: tensor(0.0007) Train Accuracy: 1.0 Test Accuracy: 0.8136363636363636\n",
      "Epoch: 66 Train Loss: tensor(0.0006) Train Accuracy: 1.0 Test Accuracy: 0.8151515151515152\n",
      "Epoch: 67 Train Loss: tensor(0.0007) Train Accuracy: 1.0 Test Accuracy: 0.8045454545454546\n",
      "Epoch: 68 Train Loss: tensor(0.0007) Train Accuracy: 1.0 Test Accuracy: 0.7984848484848485\n",
      "Epoch: 69 Train Loss: tensor(0.0006) Train Accuracy: 1.0 Test Accuracy: 0.803030303030303\n",
      "Epoch: 70 Train Loss: tensor(0.0006) Train Accuracy: 1.0 Test Accuracy: 0.8151515151515152\n",
      "Epoch: 71 Train Loss: tensor(0.0006) Train Accuracy: 1.0 Test Accuracy: 0.8121212121212121\n",
      "Epoch: 72 Train Loss: tensor(0.0007) Train Accuracy: 1.0 Test Accuracy: 0.8106060606060606\n",
      "Epoch: 73 Train Loss: tensor(0.0005) Train Accuracy: 1.0 Test Accuracy: 0.8121212121212121\n",
      "Epoch: 74 Train Loss: tensor(0.0005) Train Accuracy: 1.0 Test Accuracy: 0.803030303030303\n",
      "Epoch: 75 Train Loss: tensor(0.0007) Train Accuracy: 1.0 Test Accuracy: 0.8090909090909091\n",
      "Epoch: 76 Train Loss: tensor(0.0006) Train Accuracy: 1.0 Test Accuracy: 0.8272727272727273\n",
      "Epoch: 77 Train Loss: tensor(0.0005) Train Accuracy: 1.0 Test Accuracy: 0.8\n",
      "Epoch: 78 Train Loss: tensor(0.0005) Train Accuracy: 1.0 Test Accuracy: 0.8090909090909091\n",
      "Epoch: 79 Train Loss: tensor(0.0005) Train Accuracy: 1.0 Test Accuracy: 0.8181818181818182\n",
      "Epoch: 80 Train Loss: tensor(0.0005) Train Accuracy: 1.0 Test Accuracy: 0.8151515151515152\n",
      "Epoch: 81 Train Loss: tensor(0.0005) Train Accuracy: 1.0 Test Accuracy: 0.8242424242424242\n",
      "Epoch: 82 Train Loss: tensor(0.0005) Train Accuracy: 1.0 Test Accuracy: 0.8106060606060606\n",
      "Epoch: 83 Train Loss: tensor(0.0004) Train Accuracy: 1.0 Test Accuracy: 0.8287878787878787\n",
      "Epoch: 84 Train Loss: tensor(0.0005) Train Accuracy: 1.0 Test Accuracy: 0.8151515151515152\n"
     ]
    },
    {
     "name": "stdout",
     "output_type": "stream",
     "text": [
      "Epoch: 85 Train Loss: tensor(0.0004) Train Accuracy: 1.0 Test Accuracy: 0.8045454545454546\n",
      "Epoch: 86 Train Loss: tensor(0.0006) Train Accuracy: 1.0 Test Accuracy: 0.8136363636363636\n",
      "Epoch: 87 Train Loss: tensor(0.0004) Train Accuracy: 1.0 Test Accuracy: 0.8136363636363636\n",
      "Epoch: 88 Train Loss: tensor(0.0004) Train Accuracy: 1.0 Test Accuracy: 0.8196969696969697\n",
      "Epoch: 89 Train Loss: tensor(0.0004) Train Accuracy: 1.0 Test Accuracy: 0.8166666666666667\n",
      "Epoch: 90 Train Loss: tensor(0.0004) Train Accuracy: 1.0 Test Accuracy: 0.8106060606060606\n",
      "Epoch: 91 Train Loss: tensor(0.0003) Train Accuracy: 1.0 Test Accuracy: 0.8257575757575758\n",
      "Epoch: 92 Train Loss: tensor(0.0004) Train Accuracy: 1.0 Test Accuracy: 0.8196969696969697\n",
      "Epoch: 93 Train Loss: tensor(0.0009) Train Accuracy: 1.0 Test Accuracy: 0.8136363636363636\n",
      "Epoch: 94 Train Loss: tensor(0.0005) Train Accuracy: 1.0 Test Accuracy: 0.803030303030303\n",
      "Epoch: 95 Train Loss: tensor(0.0004) Train Accuracy: 1.0 Test Accuracy: 0.8212121212121212\n",
      "Epoch: 96 Train Loss: tensor(0.0003) Train Accuracy: 1.0 Test Accuracy: 0.8227272727272728\n",
      "Epoch: 97 Train Loss: tensor(0.0004) Train Accuracy: 1.0 Test Accuracy: 0.8363636363636363\n",
      "Epoch: 98 Train Loss: tensor(0.0004) Train Accuracy: 1.0 Test Accuracy: 0.8272727272727273\n",
      "Epoch: 99 Train Loss: tensor(0.0003) Train Accuracy: 1.0 Test Accuracy: 0.8227272727272728\n"
     ]
    }
   ],
   "source": [
    "best_accuracy=0.0\n",
    "\n",
    "for epoch in range(num_epochs):\n",
    "    \n",
    "    #Evaluation and training on training dataset\n",
    "    model.train()\n",
    "    train_accuracy=0.0\n",
    "    train_loss=0.0\n",
    "    \n",
    "    for i, (images,labels) in enumerate(train_loader):\n",
    "        if torch.cuda.is_available():\n",
    "            images=Variable(images.cuda())\n",
    "            labels=Variable(labels.cuda())\n",
    "            \n",
    "        optimizer.zero_grad()\n",
    "        \n",
    "        outputs=model(images)\n",
    "        loss=loss_function(outputs,labels)\n",
    "        loss.backward()\n",
    "        optimizer.step()\n",
    "        train_loss+= loss.cpu().data*images.size(0)\n",
    "        _,prediction=torch.max(outputs.data,1)\n",
    "        train_accuracy+=int(torch.sum(prediction==labels.data))\n",
    "        \n",
    "    train_accuracy=train_accuracy/train_count\n",
    "    train_loss=train_loss/train_count\n",
    "    \n",
    "    # Evaluation on testing dataset\n",
    "    model.eval()\n",
    "    test_accuracy=0.0\n",
    "    test_loss=0.0\n",
    "    for i, (images,labels) in enumerate(test_loader):\n",
    "        if torch.cuda.is_available():\n",
    "            images=Variable(images.cuda())\n",
    "            labels=Variable(labels.cuda())\n",
    "        outputs=model(images)\n",
    "        loss=loss_function(outputs,labels)\n",
    "        loss.backward()\n",
    "        test_loss+= loss.cpu().data*images.size(0)        \n",
    "        _,prediction=torch.max(outputs.data,1)\n",
    "        test_accuracy+=int(torch.sum(prediction==labels.data))\n",
    "    \n",
    "    test_accuracy=test_accuracy/test_count\n",
    "    test_loss=test_loss/test_count\n",
    "    \n",
    "    print('Epoch: '+str(epoch)+' Train Loss: '+str(train_loss)+' Train Accuracy: '+str(train_accuracy)+' Test Accuracy: '+str(test_accuracy))\n",
    "    ta[epoch] = train_accuracy\n",
    "    tl[epoch] = train_loss\n",
    "    tea[epoch] = test_accuracy\n",
    "    tel[epoch] = test_loss\n",
    "    \n",
    "    #Save the best model\n",
    "    if test_accuracy>best_accuracy:\n",
    "        torch.save(model.state_dict(),'best_checkpoint_relu.model')\n",
    "        best_accuracy=test_accuracy"
   ]
  },
  {
   "cell_type": "code",
   "execution_count": 17,
   "id": "fee4daf6",
   "metadata": {},
   "outputs": [
    {
     "data": {
      "image/png": "[encoded data removed]",
      "text/plain": [
       "<Figure size 432x288 with 1 Axes>"
      ]
     },
     "metadata": {
      "needs_background": "light"
     },
     "output_type": "display_data"
    },
    {
     "data": {
      "image/png": "[encoded data removed]",
      "text/plain": [
       "<Figure size 432x288 with 1 Axes>"
      ]
     },
     "metadata": {
      "needs_background": "light"
     },
     "output_type": "display_data"
    }
   ],
   "source": [
    "plt.title('ReLU Accuracy (Dropout 50%)')\n",
    "plt.plot(ta)\n",
    "plt.plot(tea)\n",
    "plt.legend(['Train Accuracy', 'Test Accuracy'])\n",
    "plt.show()\n",
    "\n",
    "plt.title('ReLU Loss (Dropout 50%)')\n",
    "plt.plot(tl)\n",
    "plt.plot(tel)\n",
    "plt.legend(['Train Loss', 'Test Loss'])\n",
    "plt.show()"
   ]
  },
  {
   "cell_type": "code",
   "execution_count": 22,
   "id": "4653d384",
   "metadata": {},
   "outputs": [
    {
     "data": {
      "image/png": "[encoded data removed]",
      "text/plain": [
       "<Figure size 432x288 with 1 Axes>"
      ]
     },
     "metadata": {
      "needs_background": "light"
     },
     "output_type": "display_data"
    },
    {
     "data": {
      "image/png": "[encoded data removed]",
      "text/plain": [
       "<Figure size 432x288 with 1 Axes>"
      ]
     },
     "metadata": {
      "needs_background": "light"
     },
     "output_type": "display_data"
    }
   ],
   "source": [
    "plt.title('ReLU Accuracy (Dropout 20%)')\n",
    "plt.plot(ta)\n",
    "plt.plot(tea)\n",
    "plt.legend(['Train Accuracy', 'Test Accuracy'])\n",
    "plt.show()\n",
    "\n",
    "plt.title('ReLU Loss (Dropout 20%)')\n",
    "plt.plot(tl)\n",
    "plt.plot(tel)\n",
    "plt.legend(['Train Loss', 'Test Loss'])\n",
    "plt.show()"
   ]
  },
  {
   "cell_type": "code",
   "execution_count": 27,
   "id": "3e61013c",
   "metadata": {},
   "outputs": [
    {
     "name": "stdout",
     "output_type": "stream",
     "text": [
      "+--------------+------------+\n",
      "|   Modules    | Parameters |\n",
      "+--------------+------------+\n",
      "| conv1.weight |    324     |\n",
      "|  conv1.bias  |     12     |\n",
      "|  bn1.weight  |     12     |\n",
      "|   bn1.bias   |     12     |\n",
      "| conv2.weight |    2160    |\n",
      "|  conv2.bias  |     20     |\n",
      "| conv3.weight |    5760    |\n",
      "|  conv3.bias  |     32     |\n",
      "|  bn3.weight  |     32     |\n",
      "|   bn3.bias   |     32     |\n",
      "|  fc.weight   |   360000   |\n",
      "|   fc.bias    |     2      |\n",
      "+--------------+------------+\n",
      "Total Trainable Params: 368398\n"
     ]
    },
    {
     "data": {
      "text/plain": [
       "368398"
      ]
     },
     "execution_count": 27,
     "metadata": {},
     "output_type": "execute_result"
    }
   ],
   "source": [
    "count_parameters(model)"
   ]
  },
  {
   "cell_type": "code",
   "execution_count": 28,
   "id": "8e37517f",
   "metadata": {},
   "outputs": [
    {
     "data": {
      "text/plain": [
       "=====================================================================================================================================================================\n",
       "Layer (type:depth-idx)                   Input Shape               Output Shape              Param #                   Kernel Shape              Mult-Adds\n",
       "=====================================================================================================================================================================\n",
       "ConvNet                                  [1, 3, 150, 150]          [1, 2]                    --                        --                        --\n",
       "├─Conv2d: 1-1                            [1, 3, 150, 150]          [1, 12, 150, 150]         336                       [3, 3]                    7,560,000\n",
       "├─BatchNorm2d: 1-2                       [1, 12, 150, 150]         [1, 12, 150, 150]         24                        --                        24\n",
       "├─ReLU: 1-3                              [1, 12, 150, 150]         [1, 12, 150, 150]         --                        --                        --\n",
       "├─MaxPool2d: 1-4                         [1, 12, 150, 150]         [1, 12, 75, 75]           --                        2                         --\n",
       "├─Conv2d: 1-5                            [1, 12, 75, 75]           [1, 20, 75, 75]           2,180                     [3, 3]                    12,262,500\n",
       "├─ReLU: 1-6                              [1, 20, 75, 75]           [1, 20, 75, 75]           --                        --                        --\n",
       "├─Conv2d: 1-7                            [1, 20, 75, 75]           [1, 32, 75, 75]           5,792                     [3, 3]                    32,580,000\n",
       "├─BatchNorm2d: 1-8                       [1, 32, 75, 75]           [1, 32, 75, 75]           64                        --                        64\n",
       "├─ReLU: 1-9                              [1, 32, 75, 75]           [1, 32, 75, 75]           --                        --                        --\n",
       "├─Dropout: 1-10                          [1, 32, 75, 75]           [1, 32, 75, 75]           --                        --                        --\n",
       "├─Linear: 1-11                           [1, 180000]               [1, 2]                    360,002                   --                        360,002\n",
       "=====================================================================================================================================================================\n",
       "Total params: 368,398\n",
       "Trainable params: 368,398\n",
       "Non-trainable params: 0\n",
       "Total mult-adds (M): 52.76\n",
       "=====================================================================================================================================================================\n",
       "Input size (MB): 0.27\n",
       "Forward/backward pass size (MB): 8.10\n",
       "Params size (MB): 1.47\n",
       "Estimated Total Size (MB): 9.84\n",
       "====================================================================================================================================================================="
      ]
     },
     "execution_count": 28,
     "metadata": {},
     "output_type": "execute_result"
    }
   ],
   "source": [
    "torchinfo.summary(model, (3, 150, 150), batch_dim = 0, col_names = ('input_size', 'output_size', 'num_params', \n",
    "                                                                    'kernel_size', 'mult_adds'), verbose = 0)"
   ]
  }
 ],
 "metadata": {
  "kernelspec": {
   "display_name": "Python 3 (ipykernel)",
   "language": "python",
   "name": "python3"
  },
  "language_info": {
   "codemirror_mode": {
    "name": "ipython",
    "version": 3
   },
   "file_extension": ".py",
   "mimetype": "text/x-python",
   "name": "python",
   "nbconvert_exporter": "python",
   "pygments_lexer": "ipython3",
   "version": "3.9.7"
  }
 },
 "nbformat": 4,
 "nbformat_minor": 5
}
