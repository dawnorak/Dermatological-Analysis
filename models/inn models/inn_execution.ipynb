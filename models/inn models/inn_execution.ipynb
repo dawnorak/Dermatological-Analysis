{
 "cells": [
  {
   "cell_type": "code",
   "execution_count": 1,
   "id": "fb8a9056",
   "metadata": {},
   "outputs": [],
   "source": [
    "import tensorflow as tf\n",
    "from tensorflow import keras\n",
    "import matplotlib.pyplot as plt\n",
    "from torchvision.transforms import transforms\n",
    "import os\n",
    "import numpy as np\n",
    "import torch\n",
    "import glob\n",
    "import torch.nn as nn\n",
    "from torch.utils.data import DataLoader\n",
    "from torch.optim import Adam\n",
    "from torch.autograd import Variable\n",
    "import torchvision\n",
    "import pathlib"
   ]
  },
  {
   "cell_type": "code",
   "execution_count": 2,
   "id": "2c08b64f",
   "metadata": {},
   "outputs": [],
   "source": [
    "from keras_preprocessing.image import ImageDataGenerator"
   ]
  },
  {
   "cell_type": "code",
   "execution_count": 3,
   "id": "13c47f9b",
   "metadata": {},
   "outputs": [],
   "source": [
    "device=torch.device('cuda' if torch.cuda.is_available() else 'cpu')"
   ]
  },
  {
   "cell_type": "code",
   "execution_count": 4,
   "id": "e4775ea2",
   "metadata": {},
   "outputs": [
    {
     "name": "stdout",
     "output_type": "stream",
     "text": [
      "Found 2637 images belonging to 2 classes.\n",
      "Found 660 images belonging to 2 classes.\n"
     ]
    }
   ],
   "source": [
    "train_datagen = ImageDataGenerator(\n",
    "        rescale=1./255,\n",
    "        shear_range=0.2,\n",
    "        zoom_range=0.2,\n",
    "        horizontal_flip=True)\n",
    "test_datagen = ImageDataGenerator(rescale=1./255)\n",
    "train_ds = train_datagen.flow_from_directory(\n",
    "        'data/train',\n",
    "        target_size=(150, 150),\n",
    "        batch_size=64,\n",
    "        class_mode='categorical')\n",
    "test_ds = test_datagen.flow_from_directory(\n",
    "        'data/test',\n",
    "        target_size=(150, 150),\n",
    "        batch_size=64,\n",
    "        class_mode='categorical')"
   ]
  },
  {
   "cell_type": "code",
   "execution_count": 6,
   "id": "b88f71d8",
   "metadata": {},
   "outputs": [],
   "source": [
    "class Involution(keras.layers.Layer):\n",
    "    def __init__(\n",
    "        self, channel, group_number, kernel_size, stride, reduction_ratio, name\n",
    "    ):\n",
    "        super().__init__(name=name)\n",
    "\n",
    "        # Initialize the parameters.\n",
    "        self.channel = channel\n",
    "        self.group_number = group_number\n",
    "        self.kernel_size = kernel_size\n",
    "        self.stride = stride\n",
    "        self.reduction_ratio = reduction_ratio\n",
    "\n",
    "    def build(self, input_shape):\n",
    "        # Get the shape of the input.\n",
    "        (_, height, width, num_channels) = input_shape\n",
    "\n",
    "        # Scale the height and width with respect to the strides.\n",
    "        height = height // self.stride\n",
    "        width = width // self.stride\n",
    "\n",
    "        # Define a layer that average pools the input tensor\n",
    "        # if stride is more than 1.\n",
    "        self.stride_layer = (\n",
    "            keras.layers.AveragePooling2D(\n",
    "                pool_size=self.stride, strides=self.stride, padding=\"same\"\n",
    "            )\n",
    "            if self.stride > 1\n",
    "            else tf.identity\n",
    "        )\n",
    "        # Define the kernel generation layer.\n",
    "        self.kernel_gen = keras.Sequential(\n",
    "            [\n",
    "                keras.layers.Conv2D(\n",
    "                    filters=self.channel // self.reduction_ratio, kernel_size=1\n",
    "                ),\n",
    "                keras.layers.BatchNormalization(),\n",
    "                keras.layers.ReLU(),\n",
    "                keras.layers.Conv2D(\n",
    "                    filters=self.kernel_size * self.kernel_size * self.group_number,\n",
    "                    kernel_size=1,\n",
    "                ),\n",
    "            ]\n",
    "        )\n",
    "        # Define reshape layers\n",
    "        self.kernel_reshape = keras.layers.Reshape(\n",
    "            target_shape=(\n",
    "                height,\n",
    "                width,\n",
    "                self.kernel_size * self.kernel_size,\n",
    "                1,\n",
    "                self.group_number,\n",
    "            )\n",
    "        )\n",
    "        self.input_patches_reshape = keras.layers.Reshape(\n",
    "            target_shape=(\n",
    "                height,\n",
    "                width,\n",
    "                self.kernel_size * self.kernel_size,\n",
    "                num_channels // self.group_number,\n",
    "                self.group_number,\n",
    "            )\n",
    "        )\n",
    "        self.output_reshape = keras.layers.Reshape(\n",
    "            target_shape=(height, width, num_channels)\n",
    "        )\n",
    "\n",
    "    def call(self, x):\n",
    "        # Generate the kernel with respect to the input tensor.\n",
    "        # B, H, W, K*K*G\n",
    "        kernel_input = self.stride_layer(x)\n",
    "        kernel = self.kernel_gen(kernel_input)\n",
    "\n",
    "        # reshape the kerenl\n",
    "        # B, H, W, K*K, 1, G\n",
    "        kernel = self.kernel_reshape(kernel)\n",
    "\n",
    "        # Extract input patches.\n",
    "        # B, H, W, K*K*C\n",
    "        input_patches = tf.image.extract_patches(\n",
    "            images=x,\n",
    "            sizes=[1, self.kernel_size, self.kernel_size, 1],\n",
    "            strides=[1, self.stride, self.stride, 1],\n",
    "            rates=[1, 1, 1, 1],\n",
    "            padding=\"SAME\",\n",
    "        )\n",
    "\n",
    "        # Reshape the input patches to align with later operations.\n",
    "        # B, H, W, K*K, C//G, G\n",
    "        input_patches = self.input_patches_reshape(input_patches)\n",
    "\n",
    "        # Compute the multiply-add operation of kernels and patches.\n",
    "        # B, H, W, K*K, C//G, G\n",
    "        output = tf.multiply(kernel, input_patches)\n",
    "        # B, H, W, C//G, G\n",
    "        output = tf.reduce_sum(output, axis=3)\n",
    "\n",
    "        # Reshape the output kernel.\n",
    "        # B, H, W, C\n",
    "        output = self.output_reshape(output)\n",
    "\n",
    "        # Return the output tensor and the kernel.\n",
    "        return output, kernel"
   ]
  },
  {
   "cell_type": "code",
   "execution_count": 7,
   "id": "fadefcc3",
   "metadata": {
    "scrolled": false
   },
   "outputs": [
    {
     "name": "stdout",
     "output_type": "stream",
     "text": [
      "building the involution model...\n",
      "compiling the involution model...\n",
      "inv model training...\n",
      "Epoch 1/100\n",
      "42/42 [==============================] - 27s 429ms/step - loss: 0.6920 - accuracy: 0.5374 - val_loss: 0.6909 - val_accuracy: 0.5455\n",
      "Epoch 2/100\n",
      "42/42 [==============================] - 14s 331ms/step - loss: 0.6902 - accuracy: 0.5461 - val_loss: 0.6897 - val_accuracy: 0.5455\n",
      "Epoch 3/100\n",
      "42/42 [==============================] - 15s 345ms/step - loss: 0.6894 - accuracy: 0.5461 - val_loss: 0.6893 - val_accuracy: 0.5455\n",
      "Epoch 4/100\n",
      "42/42 [==============================] - 17s 393ms/step - loss: 0.6892 - accuracy: 0.5461 - val_loss: 0.6890 - val_accuracy: 0.5455\n",
      "Epoch 5/100\n",
      "42/42 [==============================] - 17s 411ms/step - loss: 0.6890 - accuracy: 0.5461 - val_loss: 0.6890 - val_accuracy: 0.5455\n",
      "Epoch 6/100\n",
      "42/42 [==============================] - 15s 354ms/step - loss: 0.6890 - accuracy: 0.5461 - val_loss: 0.6890 - val_accuracy: 0.5455\n",
      "Epoch 7/100\n",
      "42/42 [==============================] - 15s 362ms/step - loss: 0.6891 - accuracy: 0.5461 - val_loss: 0.6890 - val_accuracy: 0.5455\n",
      "Epoch 8/100\n",
      "42/42 [==============================] - 14s 328ms/step - loss: 0.6890 - accuracy: 0.5461 - val_loss: 0.6890 - val_accuracy: 0.5455\n",
      "Epoch 9/100\n",
      "42/42 [==============================] - 13s 317ms/step - loss: 0.6890 - accuracy: 0.5461 - val_loss: 0.6890 - val_accuracy: 0.5455\n",
      "Epoch 10/100\n",
      "42/42 [==============================] - 14s 327ms/step - loss: 0.6889 - accuracy: 0.5461 - val_loss: 0.6890 - val_accuracy: 0.5455\n",
      "Epoch 11/100\n",
      "42/42 [==============================] - 14s 334ms/step - loss: 0.6889 - accuracy: 0.5461 - val_loss: 0.6890 - val_accuracy: 0.5455\n",
      "Epoch 12/100\n",
      "42/42 [==============================] - 18s 421ms/step - loss: 0.6890 - accuracy: 0.5461 - val_loss: 0.6890 - val_accuracy: 0.5455\n",
      "Epoch 13/100\n",
      "42/42 [==============================] - 15s 350ms/step - loss: 0.6890 - accuracy: 0.5461 - val_loss: 0.6890 - val_accuracy: 0.5455\n",
      "Epoch 14/100\n",
      "42/42 [==============================] - 14s 333ms/step - loss: 0.6889 - accuracy: 0.5461 - val_loss: 0.6890 - val_accuracy: 0.5455\n",
      "Epoch 15/100\n",
      "42/42 [==============================] - 13s 314ms/step - loss: 0.6889 - accuracy: 0.5461 - val_loss: 0.6890 - val_accuracy: 0.5455\n",
      "Epoch 16/100\n",
      "42/42 [==============================] - 14s 327ms/step - loss: 0.6889 - accuracy: 0.5461 - val_loss: 0.6890 - val_accuracy: 0.5455\n",
      "Epoch 17/100\n",
      "42/42 [==============================] - 14s 322ms/step - loss: 0.6890 - accuracy: 0.5461 - val_loss: 0.6890 - val_accuracy: 0.5455\n",
      "Epoch 18/100\n",
      "42/42 [==============================] - 19s 456ms/step - loss: 0.6890 - accuracy: 0.5461 - val_loss: 0.6890 - val_accuracy: 0.5455\n",
      "Epoch 19/100\n",
      "42/42 [==============================] - 14s 337ms/step - loss: 0.6889 - accuracy: 0.5461 - val_loss: 0.6890 - val_accuracy: 0.5455\n",
      "Epoch 20/100\n",
      "42/42 [==============================] - 14s 335ms/step - loss: 0.6890 - accuracy: 0.5461 - val_loss: 0.6890 - val_accuracy: 0.5455\n",
      "Epoch 21/100\n",
      "42/42 [==============================] - 14s 327ms/step - loss: 0.6889 - accuracy: 0.5461 - val_loss: 0.6890 - val_accuracy: 0.5455\n",
      "Epoch 22/100\n",
      "42/42 [==============================] - 14s 331ms/step - loss: 0.6890 - accuracy: 0.5461 - val_loss: 0.6890 - val_accuracy: 0.5455\n",
      "Epoch 23/100\n",
      "42/42 [==============================] - 14s 325ms/step - loss: 0.6889 - accuracy: 0.5461 - val_loss: 0.6890 - val_accuracy: 0.5455\n",
      "Epoch 24/100\n",
      "42/42 [==============================] - 14s 328ms/step - loss: 0.6890 - accuracy: 0.5461 - val_loss: 0.6890 - val_accuracy: 0.5455\n",
      "Epoch 25/100\n",
      "42/42 [==============================] - 17s 411ms/step - loss: 0.6890 - accuracy: 0.5461 - val_loss: 0.6890 - val_accuracy: 0.5455\n",
      "Epoch 26/100\n",
      "42/42 [==============================] - 15s 354ms/step - loss: 0.6890 - accuracy: 0.5461 - val_loss: 0.6890 - val_accuracy: 0.5455\n",
      "Epoch 27/100\n",
      "42/42 [==============================] - 14s 329ms/step - loss: 0.6890 - accuracy: 0.5461 - val_loss: 0.6890 - val_accuracy: 0.5455\n",
      "Epoch 28/100\n",
      "42/42 [==============================] - 15s 349ms/step - loss: 0.6890 - accuracy: 0.5461 - val_loss: 0.6890 - val_accuracy: 0.5455\n",
      "Epoch 29/100\n",
      "42/42 [==============================] - 15s 350ms/step - loss: 0.6889 - accuracy: 0.5461 - val_loss: 0.6890 - val_accuracy: 0.5455\n",
      "Epoch 30/100\n",
      "42/42 [==============================] - 15s 346ms/step - loss: 0.6890 - accuracy: 0.5461 - val_loss: 0.6890 - val_accuracy: 0.5455\n",
      "Epoch 31/100\n",
      "42/42 [==============================] - 14s 342ms/step - loss: 0.6890 - accuracy: 0.5461 - val_loss: 0.6890 - val_accuracy: 0.5455\n",
      "Epoch 32/100\n",
      "42/42 [==============================] - 17s 407ms/step - loss: 0.6891 - accuracy: 0.5461 - val_loss: 0.6890 - val_accuracy: 0.5455\n",
      "Epoch 33/100\n",
      "42/42 [==============================] - 19s 458ms/step - loss: 0.6889 - accuracy: 0.5461 - val_loss: 0.6890 - val_accuracy: 0.5455\n",
      "Epoch 34/100\n",
      "42/42 [==============================] - 14s 337ms/step - loss: 0.6889 - accuracy: 0.5461 - val_loss: 0.6890 - val_accuracy: 0.5455\n",
      "Epoch 35/100\n",
      "42/42 [==============================] - 14s 337ms/step - loss: 0.6889 - accuracy: 0.5461 - val_loss: 0.6890 - val_accuracy: 0.5455\n",
      "Epoch 36/100\n",
      "42/42 [==============================] - 15s 347ms/step - loss: 0.6889 - accuracy: 0.5461 - val_loss: 0.6890 - val_accuracy: 0.5455\n",
      "Epoch 37/100\n",
      "42/42 [==============================] - 14s 340ms/step - loss: 0.6890 - accuracy: 0.5461 - val_loss: 0.6890 - val_accuracy: 0.5455\n",
      "Epoch 38/100\n",
      "42/42 [==============================] - 15s 354ms/step - loss: 0.6889 - accuracy: 0.5461 - val_loss: 0.6890 - val_accuracy: 0.5455\n",
      "Epoch 39/100\n",
      "42/42 [==============================] - 15s 340ms/step - loss: 0.6889 - accuracy: 0.5461 - val_loss: 0.6890 - val_accuracy: 0.5455\n",
      "Epoch 40/100\n",
      "42/42 [==============================] - 14s 329ms/step - loss: 0.6889 - accuracy: 0.5461 - val_loss: 0.6890 - val_accuracy: 0.5455\n",
      "Epoch 41/100\n",
      "42/42 [==============================] - 16s 385ms/step - loss: 0.6889 - accuracy: 0.5461 - val_loss: 0.6890 - val_accuracy: 0.5455\n",
      "Epoch 42/100\n",
      "42/42 [==============================] - 20s 465ms/step - loss: 0.6889 - accuracy: 0.5461 - val_loss: 0.6890 - val_accuracy: 0.5455\n",
      "Epoch 43/100\n",
      "42/42 [==============================] - 19s 455ms/step - loss: 0.6890 - accuracy: 0.5461 - val_loss: 0.6890 - val_accuracy: 0.5455\n",
      "Epoch 44/100\n",
      "42/42 [==============================] - 18s 435ms/step - loss: 0.6890 - accuracy: 0.5461 - val_loss: 0.6890 - val_accuracy: 0.5455\n",
      "Epoch 45/100\n",
      "42/42 [==============================] - 16s 378ms/step - loss: 0.6889 - accuracy: 0.5461 - val_loss: 0.6890 - val_accuracy: 0.5455\n",
      "Epoch 46/100\n",
      "42/42 [==============================] - 16s 382ms/step - loss: 0.6890 - accuracy: 0.5461 - val_loss: 0.6890 - val_accuracy: 0.5455\n",
      "Epoch 47/100\n",
      "42/42 [==============================] - 16s 367ms/step - loss: 0.6890 - accuracy: 0.5461 - val_loss: 0.6890 - val_accuracy: 0.5455\n",
      "Epoch 48/100\n",
      "42/42 [==============================] - 15s 345ms/step - loss: 0.6889 - accuracy: 0.5461 - val_loss: 0.6890 - val_accuracy: 0.5455\n",
      "Epoch 49/100\n",
      "42/42 [==============================] - 14s 337ms/step - loss: 0.6889 - accuracy: 0.5461 - val_loss: 0.6890 - val_accuracy: 0.5455\n",
      "Epoch 50/100\n",
      "42/42 [==============================] - 14s 342ms/step - loss: 0.6890 - accuracy: 0.5461 - val_loss: 0.6890 - val_accuracy: 0.5455\n",
      "Epoch 51/100\n",
      "42/42 [==============================] - 15s 350ms/step - loss: 0.6889 - accuracy: 0.5461 - val_loss: 0.6890 - val_accuracy: 0.5455\n",
      "Epoch 52/100\n",
      "42/42 [==============================] - 14s 342ms/step - loss: 0.6889 - accuracy: 0.5461 - val_loss: 0.6890 - val_accuracy: 0.5455\n",
      "Epoch 53/100\n",
      "42/42 [==============================] - 15s 346ms/step - loss: 0.6892 - accuracy: 0.5461 - val_loss: 0.6890 - val_accuracy: 0.5455\n",
      "Epoch 54/100\n",
      "42/42 [==============================] - 15s 347ms/step - loss: 0.6890 - accuracy: 0.5461 - val_loss: 0.6890 - val_accuracy: 0.5455\n",
      "Epoch 55/100\n",
      "42/42 [==============================] - 15s 357ms/step - loss: 0.6890 - accuracy: 0.5461 - val_loss: 0.6890 - val_accuracy: 0.5455\n",
      "Epoch 56/100\n",
      "42/42 [==============================] - 16s 370ms/step - loss: 0.6890 - accuracy: 0.5461 - val_loss: 0.6890 - val_accuracy: 0.5455\n"
     ]
    },
    {
     "name": "stdout",
     "output_type": "stream",
     "text": [
      "Epoch 57/100\n",
      "42/42 [==============================] - 15s 365ms/step - loss: 0.6891 - accuracy: 0.5461 - val_loss: 0.6890 - val_accuracy: 0.5455\n",
      "Epoch 58/100\n",
      "42/42 [==============================] - 19s 441ms/step - loss: 0.6890 - accuracy: 0.5461 - val_loss: 0.6890 - val_accuracy: 0.5455\n",
      "Epoch 59/100\n",
      "42/42 [==============================] - 17s 391ms/step - loss: 0.6889 - accuracy: 0.5461 - val_loss: 0.6890 - val_accuracy: 0.5455\n",
      "Epoch 60/100\n",
      "42/42 [==============================] - 14s 329ms/step - loss: 0.6889 - accuracy: 0.5461 - val_loss: 0.6890 - val_accuracy: 0.5455\n",
      "Epoch 61/100\n",
      "42/42 [==============================] - 14s 341ms/step - loss: 0.6889 - accuracy: 0.5461 - val_loss: 0.6890 - val_accuracy: 0.5455\n",
      "Epoch 62/100\n",
      "42/42 [==============================] - 14s 330ms/step - loss: 0.6890 - accuracy: 0.5461 - val_loss: 0.6890 - val_accuracy: 0.5455\n",
      "Epoch 63/100\n",
      "42/42 [==============================] - 17s 403ms/step - loss: 0.6889 - accuracy: 0.5461 - val_loss: 0.6890 - val_accuracy: 0.5455\n",
      "Epoch 64/100\n",
      "42/42 [==============================] - 14s 322ms/step - loss: 0.6889 - accuracy: 0.5461 - val_loss: 0.6890 - val_accuracy: 0.5455\n",
      "Epoch 65/100\n",
      "42/42 [==============================] - 14s 325ms/step - loss: 0.6889 - accuracy: 0.5461 - val_loss: 0.6890 - val_accuracy: 0.5455\n",
      "Epoch 66/100\n",
      "42/42 [==============================] - 14s 331ms/step - loss: 0.6889 - accuracy: 0.5461 - val_loss: 0.6890 - val_accuracy: 0.5455\n",
      "Epoch 67/100\n",
      "42/42 [==============================] - 15s 344ms/step - loss: 0.6890 - accuracy: 0.5461 - val_loss: 0.6890 - val_accuracy: 0.5455\n",
      "Epoch 68/100\n",
      "42/42 [==============================] - 15s 341ms/step - loss: 0.6890 - accuracy: 0.5461 - val_loss: 0.6890 - val_accuracy: 0.5455\n",
      "Epoch 69/100\n",
      "42/42 [==============================] - 14s 337ms/step - loss: 0.6890 - accuracy: 0.5461 - val_loss: 0.6890 - val_accuracy: 0.5455\n",
      "Epoch 70/100\n",
      "42/42 [==============================] - 14s 334ms/step - loss: 0.6889 - accuracy: 0.5461 - val_loss: 0.6890 - val_accuracy: 0.5455\n",
      "Epoch 71/100\n",
      "42/42 [==============================] - 15s 345ms/step - loss: 0.6890 - accuracy: 0.5461 - val_loss: 0.6890 - val_accuracy: 0.5455\n",
      "Epoch 72/100\n",
      "42/42 [==============================] - 15s 358ms/step - loss: 0.6889 - accuracy: 0.5461 - val_loss: 0.6890 - val_accuracy: 0.5455\n",
      "Epoch 73/100\n",
      "42/42 [==============================] - 16s 379ms/step - loss: 0.6890 - accuracy: 0.5461 - val_loss: 0.6890 - val_accuracy: 0.5455\n",
      "Epoch 74/100\n",
      "42/42 [==============================] - 16s 375ms/step - loss: 0.6890 - accuracy: 0.5461 - val_loss: 0.6890 - val_accuracy: 0.5455\n",
      "Epoch 75/100\n",
      "42/42 [==============================] - 15s 360ms/step - loss: 0.6889 - accuracy: 0.5461 - val_loss: 0.6890 - val_accuracy: 0.5455\n",
      "Epoch 76/100\n",
      "42/42 [==============================] - 16s 369ms/step - loss: 0.6890 - accuracy: 0.5461 - val_loss: 0.6890 - val_accuracy: 0.5455\n",
      "Epoch 77/100\n",
      "42/42 [==============================] - 16s 372ms/step - loss: 0.6889 - accuracy: 0.5461 - val_loss: 0.6890 - val_accuracy: 0.5455\n",
      "Epoch 78/100\n",
      "42/42 [==============================] - 15s 366ms/step - loss: 0.6889 - accuracy: 0.5461 - val_loss: 0.6890 - val_accuracy: 0.5455\n",
      "Epoch 79/100\n",
      "42/42 [==============================] - 16s 367ms/step - loss: 0.6889 - accuracy: 0.5461 - val_loss: 0.6890 - val_accuracy: 0.5455\n",
      "Epoch 80/100\n",
      "42/42 [==============================] - 16s 367ms/step - loss: 0.6889 - accuracy: 0.5461 - val_loss: 0.6890 - val_accuracy: 0.5455\n",
      "Epoch 81/100\n",
      "42/42 [==============================] - 16s 377ms/step - loss: 0.6891 - accuracy: 0.5461 - val_loss: 0.6890 - val_accuracy: 0.5455\n",
      "Epoch 82/100\n",
      "42/42 [==============================] - 16s 371ms/step - loss: 0.6890 - accuracy: 0.5461 - val_loss: 0.6890 - val_accuracy: 0.5455\n",
      "Epoch 83/100\n",
      "42/42 [==============================] - 16s 372ms/step - loss: 0.6889 - accuracy: 0.5461 - val_loss: 0.6890 - val_accuracy: 0.5455\n",
      "Epoch 84/100\n",
      "42/42 [==============================] - 17s 395ms/step - loss: 0.6889 - accuracy: 0.5461 - val_loss: 0.6890 - val_accuracy: 0.5455\n",
      "Epoch 85/100\n",
      "42/42 [==============================] - 17s 394ms/step - loss: 0.6890 - accuracy: 0.5461 - val_loss: 0.6890 - val_accuracy: 0.5455\n",
      "Epoch 86/100\n",
      "42/42 [==============================] - 16s 383ms/step - loss: 0.6889 - accuracy: 0.5461 - val_loss: 0.6890 - val_accuracy: 0.5455\n",
      "Epoch 87/100\n",
      "42/42 [==============================] - 16s 387ms/step - loss: 0.6890 - accuracy: 0.5461 - val_loss: 0.6890 - val_accuracy: 0.5455\n",
      "Epoch 88/100\n",
      "42/42 [==============================] - 17s 394ms/step - loss: 0.6889 - accuracy: 0.5461 - val_loss: 0.6890 - val_accuracy: 0.5455\n",
      "Epoch 89/100\n",
      "42/42 [==============================] - 17s 402ms/step - loss: 0.6889 - accuracy: 0.5461 - val_loss: 0.6890 - val_accuracy: 0.5455\n",
      "Epoch 90/100\n",
      "42/42 [==============================] - 17s 394ms/step - loss: 0.6890 - accuracy: 0.5461 - val_loss: 0.6890 - val_accuracy: 0.5455\n",
      "Epoch 91/100\n",
      "42/42 [==============================] - 17s 410ms/step - loss: 0.6889 - accuracy: 0.5461 - val_loss: 0.6890 - val_accuracy: 0.5455\n",
      "Epoch 92/100\n",
      "42/42 [==============================] - 17s 393ms/step - loss: 0.6890 - accuracy: 0.5461 - val_loss: 0.6890 - val_accuracy: 0.5455\n",
      "Epoch 93/100\n",
      "42/42 [==============================] - 17s 403ms/step - loss: 0.6890 - accuracy: 0.5461 - val_loss: 0.6890 - val_accuracy: 0.5455\n",
      "Epoch 94/100\n",
      "42/42 [==============================] - 17s 408ms/step - loss: 0.6889 - accuracy: 0.5461 - val_loss: 0.6890 - val_accuracy: 0.5455\n",
      "Epoch 95/100\n",
      "42/42 [==============================] - 17s 402ms/step - loss: 0.6889 - accuracy: 0.5461 - val_loss: 0.6890 - val_accuracy: 0.5455\n",
      "Epoch 96/100\n",
      "42/42 [==============================] - 17s 395ms/step - loss: 0.6889 - accuracy: 0.5461 - val_loss: 0.6890 - val_accuracy: 0.5455\n",
      "Epoch 97/100\n",
      "42/42 [==============================] - 16s 387ms/step - loss: 0.6890 - accuracy: 0.5461 - val_loss: 0.6890 - val_accuracy: 0.5455\n",
      "Epoch 98/100\n",
      "42/42 [==============================] - 16s 388ms/step - loss: 0.6890 - accuracy: 0.5461 - val_loss: 0.6890 - val_accuracy: 0.5455\n",
      "Epoch 99/100\n",
      "42/42 [==============================] - 17s 397ms/step - loss: 0.6890 - accuracy: 0.5461 - val_loss: 0.6890 - val_accuracy: 0.5455\n",
      "Epoch 100/100\n",
      "42/42 [==============================] - 17s 399ms/step - loss: 0.6889 - accuracy: 0.5461 - val_loss: 0.6890 - val_accuracy: 0.5455\n"
     ]
    }
   ],
   "source": [
    "print(\"building the involution model...\")\n",
    "\n",
    "inputs = keras.Input(shape=(150, 150, 3))\n",
    "x, _ = Involution(\n",
    "    channel=3, group_number=1, kernel_size=3, stride=1, reduction_ratio=2, name=\"inv_1\"\n",
    ")(inputs)\n",
    "x = keras.layers.ReLU()(x)\n",
    "x = keras.layers.MaxPooling2D((2, 2))(x)\n",
    "#112,112,3\n",
    "x, _ = Involution(\n",
    "    channel=3, group_number=1, kernel_size=3, stride=1, reduction_ratio=2, name=\"inv_2\"\n",
    ")(x)\n",
    "x = keras.layers.ReLU()(x)\n",
    "#56,56,3\n",
    "x, _ = Involution(\n",
    "    channel=3, group_number=1, kernel_size=3, stride=1, reduction_ratio=2, name=\"inv_3\"\n",
    ")(x)\n",
    "x = keras.layers.ReLU()(x)\n",
    "#28,28,3\n",
    "x = keras.layers.MaxPooling2D((2, 2))(x)\n",
    "x = keras.layers.Flatten()(x)\n",
    "x = keras.layers.Dense(64, activation=\"relu\")(x)\n",
    "outputs = keras.layers.Dense(2)(x)\n",
    "\n",
    "inv_model = keras.Model(inputs=[inputs], outputs=[outputs], name=\"inv_model\")\n",
    "\n",
    "# Compile the mode with the necessary loss function and optimizer.\n",
    "print(\"compiling the involution model...\")\n",
    "inv_model.compile(\n",
    "    optimizer=\"adam\",\n",
    "    loss=keras.losses.CategoricalCrossentropy(from_logits=True),\n",
    "    metrics=[\"accuracy\"],\n",
    ")\n",
    "\n",
    "# train the model\n",
    "print(\"inv model training...\")\n",
    "inv_hist = inv_model.fit(train_ds, epochs=100, validation_data=test_ds)"
   ]
  },
  {
   "cell_type": "code",
   "execution_count": 8,
   "id": "f73d5625",
   "metadata": {},
   "outputs": [
    {
     "name": "stdout",
     "output_type": "stream",
     "text": [
      "Model: \"inv_model\"\n",
      "_________________________________________________________________\n",
      " Layer (type)                Output Shape              Param #   \n",
      "=================================================================\n",
      " input_1 (InputLayer)        [(None, 150, 150, 3)]     0         \n",
      "                                                                 \n",
      " inv_1 (Involution)          ((None, 150, 150, 3),     26        \n",
      "                              (None, 150, 150, 9, 1,             \n",
      "                             1))                                 \n",
      "                                                                 \n",
      " re_lu (ReLU)                (None, 150, 150, 3)       0         \n",
      "                                                                 \n",
      " max_pooling2d (MaxPooling2D  (None, 75, 75, 3)        0         \n",
      " )                                                               \n",
      "                                                                 \n",
      " inv_2 (Involution)          ((None, 75, 75, 3),       26        \n",
      "                              (None, 75, 75, 9, 1, 1)            \n",
      "                             )                                   \n",
      "                                                                 \n",
      " re_lu_1 (ReLU)              (None, 75, 75, 3)         0         \n",
      "                                                                 \n",
      " inv_3 (Involution)          ((None, 75, 75, 3),       26        \n",
      "                              (None, 75, 75, 9, 1, 1)            \n",
      "                             )                                   \n",
      "                                                                 \n",
      " re_lu_2 (ReLU)              (None, 75, 75, 3)         0         \n",
      "                                                                 \n",
      " max_pooling2d_1 (MaxPooling  (None, 37, 37, 3)        0         \n",
      " 2D)                                                             \n",
      "                                                                 \n",
      " flatten (Flatten)           (None, 4107)              0         \n",
      "                                                                 \n",
      " dense (Dense)               (None, 64)                262912    \n",
      "                                                                 \n",
      " dense_1 (Dense)             (None, 2)                 130       \n",
      "                                                                 \n",
      "=================================================================\n",
      "Total params: 263,120\n",
      "Trainable params: 263,114\n",
      "Non-trainable params: 6\n",
      "_________________________________________________________________\n"
     ]
    }
   ],
   "source": [
    "inv_model.summary()"
   ]
  },
  {
   "cell_type": "code",
   "execution_count": 12,
   "id": "baafffb2",
   "metadata": {},
   "outputs": [
    {
     "name": "stdout",
     "output_type": "stream",
     "text": [
      "building the involution model...\n",
      "compiling the involution model...\n",
      "inv model training...\n"
     ]
    },
    {
     "ename": "IndexError",
     "evalue": "tuple index out of range",
     "output_type": "error",
     "traceback": [
      "\u001b[1;31m---------------------------------------------------------------------------\u001b[0m",
      "\u001b[1;31mIndexError\u001b[0m                                Traceback (most recent call last)",
      "\u001b[1;32m~\\AppData\\Local\\Temp/ipykernel_4620/4178259908.py\u001b[0m in \u001b[0;36m<module>\u001b[1;34m\u001b[0m\n\u001b[0;32m     32\u001b[0m \u001b[1;31m# train the model\u001b[0m\u001b[1;33m\u001b[0m\u001b[1;33m\u001b[0m\u001b[0m\n\u001b[0;32m     33\u001b[0m \u001b[0mprint\u001b[0m\u001b[1;33m(\u001b[0m\u001b[1;34m\"inv model training...\"\u001b[0m\u001b[1;33m)\u001b[0m\u001b[1;33m\u001b[0m\u001b[1;33m\u001b[0m\u001b[0m\n\u001b[1;32m---> 34\u001b[1;33m \u001b[0minv_hist\u001b[0m \u001b[1;33m=\u001b[0m \u001b[0minv_model\u001b[0m\u001b[1;33m.\u001b[0m\u001b[0mfit\u001b[0m\u001b[1;33m(\u001b[0m\u001b[0mtrain_ds\u001b[0m\u001b[1;33m,\u001b[0m \u001b[0mepochs\u001b[0m\u001b[1;33m=\u001b[0m\u001b[1;36m1\u001b[0m\u001b[1;33m,\u001b[0m \u001b[0mvalidation_data\u001b[0m\u001b[1;33m=\u001b[0m\u001b[0mtest_ds\u001b[0m\u001b[1;33m)\u001b[0m\u001b[1;33m\u001b[0m\u001b[1;33m\u001b[0m\u001b[0m\n\u001b[0m",
      "\u001b[1;32m~\\anaconda3\\lib\\site-packages\\keras\\utils\\traceback_utils.py\u001b[0m in \u001b[0;36merror_handler\u001b[1;34m(*args, **kwargs)\u001b[0m\n\u001b[0;32m     68\u001b[0m             \u001b[1;31m# To get the full stack trace, call:\u001b[0m\u001b[1;33m\u001b[0m\u001b[1;33m\u001b[0m\u001b[0m\n\u001b[0;32m     69\u001b[0m             \u001b[1;31m# `tf.debugging.disable_traceback_filtering()`\u001b[0m\u001b[1;33m\u001b[0m\u001b[1;33m\u001b[0m\u001b[0m\n\u001b[1;32m---> 70\u001b[1;33m             \u001b[1;32mraise\u001b[0m \u001b[0me\u001b[0m\u001b[1;33m.\u001b[0m\u001b[0mwith_traceback\u001b[0m\u001b[1;33m(\u001b[0m\u001b[0mfiltered_tb\u001b[0m\u001b[1;33m)\u001b[0m \u001b[1;32mfrom\u001b[0m \u001b[1;32mNone\u001b[0m\u001b[1;33m\u001b[0m\u001b[1;33m\u001b[0m\u001b[0m\n\u001b[0m\u001b[0;32m     71\u001b[0m         \u001b[1;32mfinally\u001b[0m\u001b[1;33m:\u001b[0m\u001b[1;33m\u001b[0m\u001b[1;33m\u001b[0m\u001b[0m\n\u001b[0;32m     72\u001b[0m             \u001b[1;32mdel\u001b[0m \u001b[0mfiltered_tb\u001b[0m\u001b[1;33m\u001b[0m\u001b[1;33m\u001b[0m\u001b[0m\n",
      "\u001b[1;32m~\\anaconda3\\lib\\site-packages\\tensorflow\\python\\framework\\tensor_shape.py\u001b[0m in \u001b[0;36m__getitem__\u001b[1;34m(self, key)\u001b[0m\n\u001b[0;32m    908\u001b[0m       \u001b[1;32melse\u001b[0m\u001b[1;33m:\u001b[0m\u001b[1;33m\u001b[0m\u001b[1;33m\u001b[0m\u001b[0m\n\u001b[0;32m    909\u001b[0m         \u001b[1;32mif\u001b[0m \u001b[0mself\u001b[0m\u001b[1;33m.\u001b[0m\u001b[0m_v2_behavior\u001b[0m\u001b[1;33m:\u001b[0m\u001b[1;33m\u001b[0m\u001b[1;33m\u001b[0m\u001b[0m\n\u001b[1;32m--> 910\u001b[1;33m           \u001b[1;32mreturn\u001b[0m \u001b[0mself\u001b[0m\u001b[1;33m.\u001b[0m\u001b[0m_dims\u001b[0m\u001b[1;33m[\u001b[0m\u001b[0mkey\u001b[0m\u001b[1;33m]\u001b[0m\u001b[1;33m\u001b[0m\u001b[1;33m\u001b[0m\u001b[0m\n\u001b[0m\u001b[0;32m    911\u001b[0m         \u001b[1;32melse\u001b[0m\u001b[1;33m:\u001b[0m\u001b[1;33m\u001b[0m\u001b[1;33m\u001b[0m\u001b[0m\n\u001b[0;32m    912\u001b[0m           \u001b[1;32mreturn\u001b[0m \u001b[0mself\u001b[0m\u001b[1;33m.\u001b[0m\u001b[0mdims\u001b[0m\u001b[1;33m[\u001b[0m\u001b[0mkey\u001b[0m\u001b[1;33m]\u001b[0m\u001b[1;33m\u001b[0m\u001b[1;33m\u001b[0m\u001b[0m\n",
      "\u001b[1;31mIndexError\u001b[0m: tuple index out of range"
     ]
    }
   ],
   "source": []
  },
  {
   "cell_type": "code",
   "execution_count": 8,
   "id": "f5de6612",
   "metadata": {},
   "outputs": [
    {
     "name": "stdout",
     "output_type": "stream",
     "text": [
      "Model: \"inv_model\"\n",
      "_________________________________________________________________\n",
      " Layer (type)                Output Shape              Param #   \n",
      "=================================================================\n",
      " input_1 (InputLayer)        [(None, 150, 150, 3)]     0         \n",
      "                                                                 \n",
      " inv_1 (Involution)          ((None, 150, 150, 3),     26        \n",
      "                              (None, 150, 150, 9, 1,             \n",
      "                             1))                                 \n",
      "                                                                 \n",
      " leaky_re_lu (LeakyReLU)     (None, 150, 150, 3)       0         \n",
      "                                                                 \n",
      " max_pooling2d (MaxPooling2D  (None, 75, 75, 3)        0         \n",
      " )                                                               \n",
      "                                                                 \n",
      " inv_2 (Involution)          ((None, 75, 75, 3),       26        \n",
      "                              (None, 75, 75, 9, 1, 1)            \n",
      "                             )                                   \n",
      "                                                                 \n",
      " leaky_re_lu_1 (LeakyReLU)   (None, 75, 75, 3)         0         \n",
      "                                                                 \n",
      " max_pooling2d_1 (MaxPooling  (None, 37, 37, 3)        0         \n",
      " 2D)                                                             \n",
      "                                                                 \n",
      " inv_3 (Involution)          ((None, 37, 37, 3),       26        \n",
      "                              (None, 37, 37, 9, 1, 1)            \n",
      "                             )                                   \n",
      "                                                                 \n",
      " leaky_re_lu_2 (LeakyReLU)   (None, 37, 37, 3)         0         \n",
      "                                                                 \n",
      " flatten (Flatten)           (None, 4107)              0         \n",
      "                                                                 \n",
      " dense (Dense)               (None, 64)                262912    \n",
      "                                                                 \n",
      " dense_1 (Dense)             (None, 2)                 130       \n",
      "                                                                 \n",
      "=================================================================\n",
      "Total params: 263,120\n",
      "Trainable params: 263,114\n",
      "Non-trainable params: 6\n",
      "_________________________________________________________________\n"
     ]
    }
   ],
   "source": [
    "inv_model.summary()"
   ]
  },
  {
   "cell_type": "code",
   "execution_count": 9,
   "id": "10f5e727",
   "metadata": {
    "scrolled": false
   },
   "outputs": [
    {
     "name": "stdout",
     "output_type": "stream",
     "text": [
      "Model: \"inv_model\"\n",
      "_________________________________________________________________\n",
      " Layer (type)                Output Shape              Param #   \n",
      "=================================================================\n",
      " input_1 (InputLayer)        [(None, 150, 150, 3)]     0         \n",
      "                                                                 \n",
      " inv_1 (Involution)          ((None, 150, 150, 3),     26        \n",
      "                              (None, 150, 150, 9, 1,             \n",
      "                             1))                                 \n",
      "                                                                 \n",
      " re_lu (ReLU)                (None, 150, 150, 3)       0         \n",
      "                                                                 \n",
      " max_pooling2d (MaxPooling2D  (None, 75, 75, 3)        0         \n",
      " )                                                               \n",
      "                                                                 \n",
      " inv_2 (Involution)          ((None, 75, 75, 3),       26        \n",
      "                              (None, 75, 75, 9, 1, 1)            \n",
      "                             )                                   \n",
      "                                                                 \n",
      " re_lu_1 (ReLU)              (None, 75, 75, 3)         0         \n",
      "                                                                 \n",
      " inv_3 (Involution)          ((None, 75, 75, 3),       26        \n",
      "                              (None, 75, 75, 9, 1, 1)            \n",
      "                             )                                   \n",
      "                                                                 \n",
      " re_lu_2 (ReLU)              (None, 75, 75, 3)         0         \n",
      "                                                                 \n",
      " max_pooling2d_1 (MaxPooling  (None, 37, 37, 3)        0         \n",
      " 2D)                                                             \n",
      "                                                                 \n",
      " flatten (Flatten)           (None, 4107)              0         \n",
      "                                                                 \n",
      " dense (Dense)               (None, 64)                262912    \n",
      "                                                                 \n",
      " dense_1 (Dense)             (None, 2)                 130       \n",
      "                                                                 \n",
      "=================================================================\n",
      "Total params: 263,120\n",
      "Trainable params: 263,114\n",
      "Non-trainable params: 6\n",
      "_________________________________________________________________\n"
     ]
    }
   ],
   "source": [
    "inv_model.summary()"
   ]
  },
  {
   "cell_type": "code",
   "execution_count": 10,
   "id": "fac90f1d",
   "metadata": {},
   "outputs": [
    {
     "ename": "ValueError",
     "evalue": "Input 0 of layer \"inv_model\" is incompatible with the layer: expected shape=(None, 150, 150, 3), found shape=(1, 8001, 1)",
     "output_type": "error",
     "traceback": [
      "\u001b[1;31m---------------------------------------------------------------------------\u001b[0m",
      "\u001b[1;31mValueError\u001b[0m                                Traceback (most recent call last)",
      "Input \u001b[1;32mIn [10]\u001b[0m, in \u001b[0;36m<cell line: 1>\u001b[1;34m()\u001b[0m\n\u001b[1;32m----> 1\u001b[0m \u001b[43minv_model\u001b[49m\u001b[43m(\u001b[49m\u001b[43mnp\u001b[49m\u001b[38;5;241;43m.\u001b[39;49m\u001b[43mzeros\u001b[49m\u001b[43m(\u001b[49m\u001b[43m(\u001b[49m\u001b[38;5;241;43m1\u001b[39;49m\u001b[43m,\u001b[49m\u001b[43m \u001b[49m\u001b[38;5;241;43m8001\u001b[39;49m\u001b[43m,\u001b[49m\u001b[43m \u001b[49m\u001b[38;5;241;43m1\u001b[39;49m\u001b[43m)\u001b[49m\u001b[43m)\u001b[49m\u001b[43m)\u001b[49m\n",
      "File \u001b[1;32m~\\anaconda3\\lib\\site-packages\\keras\\utils\\traceback_utils.py:70\u001b[0m, in \u001b[0;36mfilter_traceback.<locals>.error_handler\u001b[1;34m(*args, **kwargs)\u001b[0m\n\u001b[0;32m     67\u001b[0m     filtered_tb \u001b[38;5;241m=\u001b[39m _process_traceback_frames(e\u001b[38;5;241m.\u001b[39m__traceback__)\n\u001b[0;32m     68\u001b[0m     \u001b[38;5;66;03m# To get the full stack trace, call:\u001b[39;00m\n\u001b[0;32m     69\u001b[0m     \u001b[38;5;66;03m# `tf.debugging.disable_traceback_filtering()`\u001b[39;00m\n\u001b[1;32m---> 70\u001b[0m     \u001b[38;5;28;01mraise\u001b[39;00m e\u001b[38;5;241m.\u001b[39mwith_traceback(filtered_tb) \u001b[38;5;28;01mfrom\u001b[39;00m \u001b[38;5;28mNone\u001b[39m\n\u001b[0;32m     71\u001b[0m \u001b[38;5;28;01mfinally\u001b[39;00m:\n\u001b[0;32m     72\u001b[0m     \u001b[38;5;28;01mdel\u001b[39;00m filtered_tb\n",
      "File \u001b[1;32m~\\anaconda3\\lib\\site-packages\\keras\\engine\\input_spec.py:295\u001b[0m, in \u001b[0;36massert_input_compatibility\u001b[1;34m(input_spec, inputs, layer_name)\u001b[0m\n\u001b[0;32m    293\u001b[0m \u001b[38;5;28;01mif\u001b[39;00m spec_dim \u001b[38;5;129;01mis\u001b[39;00m \u001b[38;5;129;01mnot\u001b[39;00m \u001b[38;5;28;01mNone\u001b[39;00m \u001b[38;5;129;01mand\u001b[39;00m dim \u001b[38;5;129;01mis\u001b[39;00m \u001b[38;5;129;01mnot\u001b[39;00m \u001b[38;5;28;01mNone\u001b[39;00m:\n\u001b[0;32m    294\u001b[0m     \u001b[38;5;28;01mif\u001b[39;00m spec_dim \u001b[38;5;241m!=\u001b[39m dim:\n\u001b[1;32m--> 295\u001b[0m         \u001b[38;5;28;01mraise\u001b[39;00m \u001b[38;5;167;01mValueError\u001b[39;00m(\n\u001b[0;32m    296\u001b[0m             \u001b[38;5;124mf\u001b[39m\u001b[38;5;124m'\u001b[39m\u001b[38;5;124mInput \u001b[39m\u001b[38;5;132;01m{\u001b[39;00minput_index\u001b[38;5;132;01m}\u001b[39;00m\u001b[38;5;124m of layer \u001b[39m\u001b[38;5;124m\"\u001b[39m\u001b[38;5;132;01m{\u001b[39;00mlayer_name\u001b[38;5;132;01m}\u001b[39;00m\u001b[38;5;124m\"\u001b[39m\u001b[38;5;124m is \u001b[39m\u001b[38;5;124m'\u001b[39m\n\u001b[0;32m    297\u001b[0m             \u001b[38;5;124m\"\u001b[39m\u001b[38;5;124mincompatible with the layer: \u001b[39m\u001b[38;5;124m\"\u001b[39m\n\u001b[0;32m    298\u001b[0m             \u001b[38;5;124mf\u001b[39m\u001b[38;5;124m\"\u001b[39m\u001b[38;5;124mexpected shape=\u001b[39m\u001b[38;5;132;01m{\u001b[39;00mspec\u001b[38;5;241m.\u001b[39mshape\u001b[38;5;132;01m}\u001b[39;00m\u001b[38;5;124m, \u001b[39m\u001b[38;5;124m\"\u001b[39m\n\u001b[0;32m    299\u001b[0m             \u001b[38;5;124mf\u001b[39m\u001b[38;5;124m\"\u001b[39m\u001b[38;5;124mfound shape=\u001b[39m\u001b[38;5;132;01m{\u001b[39;00mdisplay_shape(x\u001b[38;5;241m.\u001b[39mshape)\u001b[38;5;132;01m}\u001b[39;00m\u001b[38;5;124m\"\u001b[39m\n\u001b[0;32m    300\u001b[0m         )\n",
      "\u001b[1;31mValueError\u001b[0m: Input 0 of layer \"inv_model\" is incompatible with the layer: expected shape=(None, 150, 150, 3), found shape=(1, 8001, 1)"
     ]
    }
   ],
   "source": [
    "inv_model(np.zeros((1, 8001, 1)))"
   ]
  },
  {
   "cell_type": "code",
   "execution_count": 11,
   "id": "3079e377",
   "metadata": {},
   "outputs": [
    {
     "data": {
      "image/png": "[encoded data removed]",
      "text/plain": [
       "<Figure size 432x288 with 1 Axes>"
      ]
     },
     "metadata": {
      "needs_background": "light"
     },
     "output_type": "display_data"
    }
   ],
   "source": [
    "plt.title(\"Involution Loss\")\n",
    "plt.plot(inv_hist.history[\"loss\"], label=\"loss\")\n",
    "plt.plot(inv_hist.history[\"val_loss\"], label=\"val_loss\")\n",
    "plt.legend()\n",
    "plt.show()"
   ]
  },
  {
   "cell_type": "code",
   "execution_count": 12,
   "id": "67d45960",
   "metadata": {},
   "outputs": [
    {
     "data": {
      "image/png": "[encoded data removed]",
      "text/plain": [
       "<Figure size 432x288 with 1 Axes>"
      ]
     },
     "metadata": {
      "needs_background": "light"
     },
     "output_type": "display_data"
    }
   ],
   "source": [
    "plt.title(\"Involution Accuracy\")\n",
    "plt.plot(inv_hist.history[\"accuracy\"], label=\"accuracy\")\n",
    "plt.plot(inv_hist.history[\"val_accuracy\"], label=\"val_accuracy\")\n",
    "plt.legend()\n",
    "plt.show()"
   ]
  },
  {
   "cell_type": "code",
   "execution_count": 13,
   "id": "10944f87",
   "metadata": {},
   "outputs": [
    {
     "data": {
      "image/png": "[encoded data removed]",
      "text/plain": [
       "<Figure size 432x288 with 1 Axes>"
      ]
     },
     "metadata": {
      "needs_background": "light"
     },
     "output_type": "display_data"
    },
    {
     "data": {
      "image/png": "[encoded data removed]",
      "text/plain": [
       "<Figure size 432x288 with 1 Axes>"
      ]
     },
     "metadata": {
      "needs_background": "light"
     },
     "output_type": "display_data"
    }
   ],
   "source": [
    "plt.title(\"Involution Loss\")\n",
    "plt.plot(inv_hist.history[\"loss\"], label=\"loss\")\n",
    "plt.plot(inv_hist.history[\"val_loss\"], label=\"val_loss\")\n",
    "plt.legend()\n",
    "plt.show()\n",
    "\n",
    "plt.title(\"Involution Accuracy\")\n",
    "plt.plot(inv_hist.history[\"accuracy\"], label=\"accuracy\")\n",
    "plt.plot(inv_hist.history[\"val_accuracy\"], label=\"val_accuracy\")\n",
    "plt.legend()\n",
    "plt.show()"
   ]
  },
  {
   "cell_type": "code",
   "execution_count": 1,
   "id": "c0f2c842",
   "metadata": {},
   "outputs": [
    {
     "ename": "NameError",
     "evalue": "name 'plt' is not defined",
     "output_type": "error",
     "traceback": [
      "\u001b[1;31m---------------------------------------------------------------------------\u001b[0m",
      "\u001b[1;31mNameError\u001b[0m                                 Traceback (most recent call last)",
      "Input \u001b[1;32mIn [1]\u001b[0m, in \u001b[0;36m<cell line: 1>\u001b[1;34m()\u001b[0m\n\u001b[1;32m----> 1\u001b[0m \u001b[43mplt\u001b[49m\u001b[38;5;241m.\u001b[39mtitle(\u001b[38;5;124m\"\u001b[39m\u001b[38;5;124mInvolution Loss\u001b[39m\u001b[38;5;124m\"\u001b[39m)\n\u001b[0;32m      2\u001b[0m plt\u001b[38;5;241m.\u001b[39mplot(inv_hist\u001b[38;5;241m.\u001b[39mhistory[\u001b[38;5;124m\"\u001b[39m\u001b[38;5;124mloss\u001b[39m\u001b[38;5;124m\"\u001b[39m], label\u001b[38;5;241m=\u001b[39m\u001b[38;5;124m\"\u001b[39m\u001b[38;5;124mloss\u001b[39m\u001b[38;5;124m\"\u001b[39m)\n\u001b[0;32m      3\u001b[0m plt\u001b[38;5;241m.\u001b[39mplot(inv_hist\u001b[38;5;241m.\u001b[39mhistory[\u001b[38;5;124m\"\u001b[39m\u001b[38;5;124mval_loss\u001b[39m\u001b[38;5;124m\"\u001b[39m], label\u001b[38;5;241m=\u001b[39m\u001b[38;5;124m\"\u001b[39m\u001b[38;5;124mval_loss\u001b[39m\u001b[38;5;124m\"\u001b[39m)\n",
      "\u001b[1;31mNameError\u001b[0m: name 'plt' is not defined"
     ]
    }
   ],
   "source": [
    "plt.title(\"Involution Loss\")\n",
    "plt.plot(inv_hist.history[\"loss\"], label=\"loss\")\n",
    "plt.plot(inv_hist.history[\"val_loss\"], label=\"val_loss\")\n",
    "plt.legend()\n",
    "plt.show()\n",
    "\n",
    "plt.title(\"Involution Accuracy\")\n",
    "plt.plot(inv_hist.history[\"accuracy\"], label=\"accuracy\")\n",
    "plt.plot(inv_hist.history[\"val_accuracy\"], label=\"val_accuracy\")\n",
    "plt.legend()\n",
    "plt.show()"
   ]
  },
  {
   "cell_type": "code",
   "execution_count": 14,
   "id": "e8e2511a",
   "metadata": {},
   "outputs": [
    {
     "data": {
      "image/png": "[encoded data removed]",
      "text/plain": [
       "<Figure size 432x288 with 1 Axes>"
      ]
     },
     "metadata": {
      "needs_background": "light"
     },
     "output_type": "display_data"
    },
    {
     "data": {
      "image/png": "[encoded data removed]",
      "text/plain": [
       "<Figure size 432x288 with 1 Axes>"
      ]
     },
     "metadata": {
      "needs_background": "light"
     },
     "output_type": "display_data"
    }
   ],
   "source": [
    "plt.title(\"Involution Loss\")\n",
    "plt.plot(inv_hist.history[\"loss\"], label=\"loss\")\n",
    "plt.plot(inv_hist.history[\"val_loss\"], label=\"val_loss\")\n",
    "plt.legend()\n",
    "plt.show()\n",
    "\n",
    "plt.title(\"Involution Accuracy\")\n",
    "plt.plot(inv_hist.history[\"accuracy\"], label=\"accuracy\")\n",
    "plt.plot(inv_hist.history[\"val_accuracy\"], label=\"val_accuracy\")\n",
    "plt.legend()\n",
    "plt.show()"
   ]
  },
  {
   "cell_type": "code",
   "execution_count": 17,
   "id": "ebc6a901",
   "metadata": {},
   "outputs": [
    {
     "data": {
      "image/png": "[encoded data removed]",
      "text/plain": [
       "<Figure size 432x288 with 1 Axes>"
      ]
     },
     "metadata": {
      "needs_background": "light"
     },
     "output_type": "display_data"
    },
    {
     "data": {
      "image/png": "[encoded data removed]",
      "text/plain": [
       "<Figure size 432x288 with 1 Axes>"
      ]
     },
     "metadata": {
      "needs_background": "light"
     },
     "output_type": "display_data"
    }
   ],
   "source": [
    "plt.title(\"Involution Loss\")\n",
    "plt.plot(inv_hist.history[\"loss\"], label=\"loss\")\n",
    "plt.plot(inv_hist.history[\"val_loss\"], label=\"val_loss\")\n",
    "plt.legend()\n",
    "plt.show()\n",
    "\n",
    "plt.title(\"Involution Accuracy\")\n",
    "plt.plot(inv_hist.history[\"accuracy\"], label=\"accuracy\")\n",
    "plt.plot(inv_hist.history[\"val_accuracy\"], label=\"val_accuracy\")\n",
    "plt.legend()\n",
    "plt.show()"
   ]
  },
  {
   "cell_type": "code",
   "execution_count": 18,
   "id": "724e4f8f",
   "metadata": {},
   "outputs": [],
   "source": [
    "a = [0]*100\n",
    "l = [0]*100\n",
    "for i in range(0,100):\n",
    "    l[i] = inv_hist.history[\"val_loss\"][i] - inv_hist.history[\"loss\"][i]\n",
    "    a[i] = inv_hist.history[\"accuracy\"][i] - inv_hist.history[\"val_accuracy\"][i]\n",
    "sa=0\n",
    "sl=0\n",
    "for i in range(0,100):\n",
    "    sa = sa + a[i]\n",
    "    sl = sl + l[i]\n",
    "sa1=0\n",
    "sa2=0\n",
    "sl1=0\n",
    "sl2 = 0\n",
    "for i in range(0,100):\n",
    "    sa1 = sa1+inv_hist.history[\"accuracy\"][i]\n",
    "    sl1 = sl1+inv_hist.history[\"loss\"][i]\n",
    "    sa2 = sa2+inv_hist.history[\"val_accuracy\"][i]\n",
    "    sl2 = sl2+inv_hist.history[\"val_loss\"][i]"
   ]
  },
  {
   "cell_type": "code",
   "execution_count": 19,
   "id": "6f80c98c",
   "metadata": {},
   "outputs": [
    {
     "name": "stdout",
     "output_type": "stream",
     "text": [
      "0.0005333232879638672\n"
     ]
    }
   ],
   "source": [
    "#Avg Difference in Accuracy\n",
    "print(sa/100)"
   ]
  },
  {
   "cell_type": "code",
   "execution_count": 20,
   "id": "bb78c5fd",
   "metadata": {},
   "outputs": [
    {
     "data": {
      "text/plain": [
       "3.134429454803467e-05"
      ]
     },
     "execution_count": 20,
     "metadata": {},
     "output_type": "execute_result"
    }
   ],
   "source": [
    "#Avg Difference in Loss\n",
    "sl/100"
   ]
  },
  {
   "cell_type": "code",
   "execution_count": 21,
   "id": "a6de3a47",
   "metadata": {},
   "outputs": [
    {
     "data": {
      "text/plain": [
       "54.59878849983215"
      ]
     },
     "execution_count": 21,
     "metadata": {},
     "output_type": "execute_result"
    }
   ],
   "source": [
    "#Avg Train Accuracy\n",
    "sa1"
   ]
  },
  {
   "cell_type": "code",
   "execution_count": 22,
   "id": "f88f4a65",
   "metadata": {},
   "outputs": [
    {
     "data": {
      "text/plain": [
       "54.54545617103577"
      ]
     },
     "execution_count": 22,
     "metadata": {},
     "output_type": "execute_result"
    }
   ],
   "source": [
    "#Avg Test Accuracy\n",
    "sa2"
   ]
  },
  {
   "cell_type": "code",
   "execution_count": 23,
   "id": "1189e52e",
   "metadata": {},
   "outputs": [
    {
     "data": {
      "text/plain": [
       "0.6890133512020111"
      ]
     },
     "execution_count": 23,
     "metadata": {},
     "output_type": "execute_result"
    }
   ],
   "source": [
    "#Avg Train Loss\n",
    "sl1/100"
   ]
  },
  {
   "cell_type": "code",
   "execution_count": 24,
   "id": "be4d2e69",
   "metadata": {},
   "outputs": [
    {
     "data": {
      "text/plain": [
       "0.6890446954965591"
      ]
     },
     "execution_count": 24,
     "metadata": {},
     "output_type": "execute_result"
    }
   ],
   "source": [
    "#Avg Test Loss\n",
    "sl2/100"
   ]
  },
  {
   "cell_type": "code",
   "execution_count": null,
   "id": "e14ce314",
   "metadata": {},
   "outputs": [],
   "source": []
  }
 ],
 "metadata": {
  "kernelspec": {
   "display_name": "Python 3 (ipykernel)",
   "language": "python",
   "name": "python3"
  },
  "language_info": {
   "codemirror_mode": {
    "name": "ipython",
    "version": 3
   },
   "file_extension": ".py",
   "mimetype": "text/x-python",
   "name": "python",
   "nbconvert_exporter": "python",
   "pygments_lexer": "ipython3",
   "version": "3.9.12"
  }
 },
 "nbformat": 4,
 "nbformat_minor": 5
}
