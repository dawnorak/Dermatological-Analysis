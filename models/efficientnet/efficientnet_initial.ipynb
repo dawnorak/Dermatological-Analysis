{
 "cells": [
  {
   "cell_type": "code",
   "execution_count": 7,
   "id": "8f9c84d1",
   "metadata": {},
   "outputs": [
    {
     "name": "stdout",
     "output_type": "stream",
     "text": [
      "['benign', 'malignant']\n",
      "Types of classes labels found:  2\n"
     ]
    }
   ],
   "source": [
    "import numpy as np\n",
    "import tensorflow as tf\n",
    "\n",
    "import numpy as np \n",
    "import pandas as pd \n",
    "import matplotlib.pyplot as plt\n",
    "import os\n",
    "\n",
    "dataset_path = os.listdir('data/train')\n",
    "\n",
    "print (dataset_path)  #what kinds of classes are in this dataset\n",
    "\n",
    "print(\"Types of classes labels found: \", len(dataset_path))"
   ]
  },
  {
   "cell_type": "code",
   "execution_count": 13,
   "id": "4fee2827",
   "metadata": {},
   "outputs": [],
   "source": [
    "class_labels = []\n",
    "\n",
    "for item in dataset_path:\n",
    " # Get all the file names\n",
    " all_classes = os.listdir('data'+'/train/'+item)\n",
    " #print(all_classes)\n",
    "\n",
    " # Add them to the list\n",
    " for room in all_classes:\n",
    "    class_labels.append((item, str('dataset_path' + '/' +item) + '/' + room))"
   ]
  },
  {
   "cell_type": "code",
   "execution_count": 14,
   "id": "f4c076e6",
   "metadata": {},
   "outputs": [
    {
     "name": "stdout",
     "output_type": "stream",
     "text": [
      "   Labels                         image\n",
      "0  benign   dataset_path/benign/100.jpg\n",
      "1  benign  dataset_path/benign/1000.jpg\n",
      "2  benign  dataset_path/benign/1001.jpg\n",
      "3  benign  dataset_path/benign/1002.jpg\n",
      "4  benign  dataset_path/benign/1004.jpg\n",
      "         Labels                           image\n",
      "2632  malignant  dataset_path/malignant/993.jpg\n",
      "2633  malignant  dataset_path/malignant/996.jpg\n",
      "2634  malignant  dataset_path/malignant/997.jpg\n",
      "2635  malignant  dataset_path/malignant/998.jpg\n",
      "2636  malignant  dataset_path/malignant/999.jpg\n"
     ]
    }
   ],
   "source": [
    "# Build a dataframe        \n",
    "df = pd.DataFrame(data=class_labels, columns=['Labels', 'image'])\n",
    "print(df.head())\n",
    "print(df.tail())"
   ]
  },
  {
   "cell_type": "code",
   "execution_count": 15,
   "id": "aa1bcfe7",
   "metadata": {},
   "outputs": [
    {
     "name": "stdout",
     "output_type": "stream",
     "text": [
      "Total number of images in the dataset:  2637\n",
      "benign       1440\n",
      "malignant    1197\n",
      "Name: Labels, dtype: int64\n"
     ]
    }
   ],
   "source": [
    "print(\"Total number of images in the dataset: \", len(df))\n",
    "\n",
    "label_count = df['Labels'].value_counts()\n",
    "print(label_count)"
   ]
  },
  {
   "cell_type": "code",
   "execution_count": 18,
   "id": "d73caf81",
   "metadata": {},
   "outputs": [],
   "source": [
    "import cv2\n",
    "path = 'data/train/'\n",
    "dataset_path = os.listdir('data/train/')\n",
    "\n",
    "im_size = 224\n",
    "\n",
    "images = []\n",
    "labels = []\n",
    "\n",
    "for i in dataset_path:\n",
    "    data_path = path + str(i)  \n",
    "    filenames = [i for i in os.listdir(data_path) ]\n",
    "   \n",
    "    for f in filenames:\n",
    "        img = cv2.imread(data_path + '/' + f)\n",
    "        img = cv2.resize(img, (im_size, im_size))\n",
    "        images.append(img)\n",
    "        labels.append(i)"
   ]
  },
  {
   "cell_type": "code",
   "execution_count": 19,
   "id": "b4c3b917",
   "metadata": {},
   "outputs": [
    {
     "data": {
      "text/plain": [
       "(2637, 224, 224, 3)"
      ]
     },
     "execution_count": 19,
     "metadata": {},
     "output_type": "execute_result"
    }
   ],
   "source": [
    "images = np.array(images)\n",
    "\n",
    "images = images.astype('float32') / 255.0\n",
    "images.shape"
   ]
  },
  {
   "cell_type": "code",
   "execution_count": 20,
   "id": "18dbe16b",
   "metadata": {},
   "outputs": [
    {
     "name": "stdout",
     "output_type": "stream",
     "text": [
      "['benign' 'benign' 'benign' ... 'malignant' 'malignant' 'malignant']\n",
      "[0 0 0 ... 1 1 1]\n"
     ]
    }
   ],
   "source": [
    "from sklearn.preprocessing import LabelEncoder , OneHotEncoder\n",
    "y=df['Labels'].values\n",
    "print(y)\n",
    "\n",
    "y_labelencoder = LabelEncoder ()\n",
    "y = y_labelencoder.fit_transform (y)\n",
    "print (y)"
   ]
  },
  {
   "cell_type": "code",
   "execution_count": 21,
   "id": "24c56acc",
   "metadata": {},
   "outputs": [
    {
     "name": "stdout",
     "output_type": "stream",
     "text": [
      "[[1. 0.]\n",
      " [1. 0.]\n",
      " [1. 0.]\n",
      " [1. 0.]\n",
      " [1. 0.]]\n",
      "[[1. 0.]\n",
      " [1. 0.]\n",
      " [1. 0.]\n",
      " ...\n",
      " [0. 1.]\n",
      " [0. 1.]\n",
      " [0. 1.]]\n"
     ]
    }
   ],
   "source": [
    "y=y.reshape(-1,1)\n",
    "\n",
    "from sklearn.compose import ColumnTransformer\n",
    "ct = ColumnTransformer([('my_ohe', OneHotEncoder(), [0])], remainder='passthrough')\n",
    "Y = ct.fit_transform(y) #.toarray()\n",
    "print(Y[:5])\n",
    "print(Y[35:])"
   ]
  },
  {
   "cell_type": "code",
   "execution_count": 22,
   "id": "90ef9ece",
   "metadata": {},
   "outputs": [
    {
     "name": "stdout",
     "output_type": "stream",
     "text": [
      "(2505, 224, 224, 3)\n",
      "(2505, 2)\n",
      "(132, 224, 224, 3)\n",
      "(132, 2)\n"
     ]
    }
   ],
   "source": [
    "from sklearn.utils import shuffle\n",
    "from sklearn.model_selection import train_test_split\n",
    "\n",
    "\n",
    "images, Y = shuffle(images, Y, random_state=1)\n",
    "\n",
    "\n",
    "train_x, test_x, train_y, test_y = train_test_split(images, Y, test_size=0.05, random_state=415)\n",
    "\n",
    "#inpect the shape of the training and testing.\n",
    "print(train_x.shape)\n",
    "print(train_y.shape)\n",
    "print(test_x.shape)\n",
    "print(test_y.shape)"
   ]
  },
  {
   "cell_type": "code",
   "execution_count": 25,
   "id": "5e6fd1a6",
   "metadata": {},
   "outputs": [],
   "source": [
    "from tensorflow.keras import layers\n",
    "from tensorflow.keras.applications import EfficientNetB0\n",
    "\n",
    "NUM_CLASSES = 2\n",
    "IMG_SIZE = 224\n",
    "size = (IMG_SIZE, IMG_SIZE)\n",
    "\n",
    "inputs = layers.Input(shape=(IMG_SIZE, IMG_SIZE, 3))\n",
    "\n",
    "# Using model without transfer learning\n",
    "\n",
    "outputs = EfficientNetB0(include_top=True, weights=None, classes=NUM_CLASSES)(inputs)"
   ]
  },
  {
   "cell_type": "code",
   "execution_count": 26,
   "id": "c3c65ce2",
   "metadata": {},
   "outputs": [
    {
     "name": "stdout",
     "output_type": "stream",
     "text": [
      "Model: \"model_1\"\n",
      "_________________________________________________________________\n",
      " Layer (type)                Output Shape              Param #   \n",
      "=================================================================\n",
      " input_3 (InputLayer)        [(None, 224, 224, 3)]     0         \n",
      "                                                                 \n",
      " efficientnetb0 (Functional)  (None, 2)                4052133   \n",
      "                                                                 \n",
      "=================================================================\n",
      "Total params: 4,052,133\n",
      "Trainable params: 4,010,110\n",
      "Non-trainable params: 42,023\n",
      "_________________________________________________________________\n",
      "Epoch 1/30\n",
      "79/79 - 336s - loss: 1.9587 - accuracy: 0.6563 - 336s/epoch - 4s/step\n",
      "Epoch 2/30\n",
      "79/79 - 314s - loss: 1.0909 - accuracy: 0.7134 - 314s/epoch - 4s/step\n",
      "Epoch 3/30\n",
      "79/79 - 307s - loss: 1.0018 - accuracy: 0.7429 - 307s/epoch - 4s/step\n",
      "Epoch 4/30\n",
      "79/79 - 312s - loss: 0.6884 - accuracy: 0.7521 - 312s/epoch - 4s/step\n",
      "Epoch 5/30\n",
      "79/79 - 295s - loss: 0.6816 - accuracy: 0.7573 - 295s/epoch - 4s/step\n",
      "Epoch 6/30\n",
      "79/79 - 282s - loss: 0.5792 - accuracy: 0.7860 - 282s/epoch - 4s/step\n",
      "Epoch 7/30\n",
      "79/79 - 283s - loss: 0.5606 - accuracy: 0.7900 - 283s/epoch - 4s/step\n",
      "Epoch 8/30\n",
      "79/79 - 275s - loss: 0.5615 - accuracy: 0.7948 - 275s/epoch - 3s/step\n",
      "Epoch 9/30\n",
      "79/79 - 277s - loss: 0.4318 - accuracy: 0.7916 - 277s/epoch - 4s/step\n",
      "Epoch 10/30\n",
      "79/79 - 283s - loss: 0.4545 - accuracy: 0.7960 - 283s/epoch - 4s/step\n",
      "Epoch 11/30\n",
      "79/79 - 279s - loss: 0.5451 - accuracy: 0.8036 - 279s/epoch - 4s/step\n",
      "Epoch 12/30\n",
      "79/79 - 269s - loss: 0.4301 - accuracy: 0.8124 - 269s/epoch - 3s/step\n",
      "Epoch 13/30\n",
      "79/79 - 280s - loss: 0.3639 - accuracy: 0.8347 - 280s/epoch - 4s/step\n",
      "Epoch 14/30\n",
      "79/79 - 275s - loss: 0.3561 - accuracy: 0.8595 - 275s/epoch - 3s/step\n",
      "Epoch 15/30\n",
      "79/79 - 271s - loss: 0.3333 - accuracy: 0.8647 - 271s/epoch - 3s/step\n",
      "Epoch 16/30\n",
      "79/79 - 269s - loss: 0.2921 - accuracy: 0.8994 - 269s/epoch - 3s/step\n",
      "Epoch 17/30\n",
      "79/79 - 267s - loss: 0.2767 - accuracy: 0.9062 - 267s/epoch - 3s/step\n",
      "Epoch 18/30\n",
      "79/79 - 266s - loss: 0.3319 - accuracy: 0.9042 - 266s/epoch - 3s/step\n",
      "Epoch 19/30\n",
      "79/79 - 265s - loss: 0.2157 - accuracy: 0.9150 - 265s/epoch - 3s/step\n",
      "Epoch 20/30\n",
      "79/79 - 265s - loss: 0.2148 - accuracy: 0.9289 - 265s/epoch - 3s/step\n",
      "Epoch 21/30\n",
      "79/79 - 266s - loss: 0.1742 - accuracy: 0.9393 - 266s/epoch - 3s/step\n",
      "Epoch 22/30\n",
      "79/79 - 266s - loss: 0.2063 - accuracy: 0.9409 - 266s/epoch - 3s/step\n",
      "Epoch 23/30\n",
      "79/79 - 266s - loss: 0.2311 - accuracy: 0.9265 - 266s/epoch - 3s/step\n",
      "Epoch 24/30\n",
      "79/79 - 264s - loss: 0.1479 - accuracy: 0.9509 - 264s/epoch - 3s/step\n",
      "Epoch 25/30\n",
      "79/79 - 267s - loss: 0.3454 - accuracy: 0.8878 - 267s/epoch - 3s/step\n",
      "Epoch 26/30\n",
      "79/79 - 265s - loss: 0.3367 - accuracy: 0.9010 - 265s/epoch - 3s/step\n",
      "Epoch 27/30\n",
      "79/79 - 266s - loss: 0.2545 - accuracy: 0.9210 - 266s/epoch - 3s/step\n",
      "Epoch 28/30\n",
      "79/79 - 266s - loss: 0.1637 - accuracy: 0.9485 - 266s/epoch - 3s/step\n",
      "Epoch 29/30\n",
      "79/79 - 1404s - loss: 0.1958 - accuracy: 0.9349 - 1404s/epoch - 18s/step\n",
      "Epoch 30/30\n",
      "79/79 - 339s - loss: 0.1333 - accuracy: 0.9509 - 339s/epoch - 4s/step\n"
     ]
    }
   ],
   "source": [
    "model = tf.keras.Model(inputs, outputs)\n",
    "\n",
    "model.compile(optimizer=\"adam\", loss=\"categorical_crossentropy\", metrics=[\"accuracy\"] )\n",
    "\n",
    "model.summary()\n",
    "\n",
    "hist = model.fit(train_x, train_y, epochs=30, verbose=2)"
   ]
  },
  {
   "cell_type": "code",
   "execution_count": 29,
   "id": "88518373",
   "metadata": {},
   "outputs": [
    {
     "data": {
      "image/png": "[encoded data removed]",
      "text/plain": [
       "<Figure size 432x288 with 1 Axes>"
      ]
     },
     "metadata": {
      "needs_background": "light"
     },
     "output_type": "display_data"
    }
   ],
   "source": [
    "import matplotlib.pyplot as plt\n",
    "\n",
    "def plot_hist(hist):\n",
    "    plt.plot(hist.history[\"accuracy\"])\n",
    "    plt.title(\"model accuracy\")\n",
    "    plt.ylabel(\"accuracy\")\n",
    "    plt.xlabel(\"epoch\")\n",
    "    plt.legend([\"train\", \"validation\"], loc=\"upper left\")\n",
    "    plt.show()\n",
    "\n",
    "plot_hist(hist)"
   ]
  },
  {
   "cell_type": "code",
   "execution_count": null,
   "id": "0d521f11",
   "metadata": {},
   "outputs": [],
   "source": []
  }
 ],
 "metadata": {
  "kernelspec": {
   "display_name": "Python 3 (ipykernel)",
   "language": "python",
   "name": "python3"
  },
  "language_info": {
   "codemirror_mode": {
    "name": "ipython",
    "version": 3
   },
   "file_extension": ".py",
   "mimetype": "text/x-python",
   "name": "python",
   "nbconvert_exporter": "python",
   "pygments_lexer": "ipython3",
   "version": "3.9.7"
  }
 },
 "nbformat": 4,
 "nbformat_minor": 5
}
