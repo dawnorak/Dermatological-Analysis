{
 "cells": [
  {
   "cell_type": "code",
   "execution_count": 1,
   "id": "b7d73b7d",
   "metadata": {},
   "outputs": [],
   "source": [
    "import os\n",
    "import numpy as np\n",
    "import torch\n",
    "import glob\n",
    "import torch.nn as nn\n",
    "from torchvision.transforms import transforms\n",
    "from torch.utils.data import DataLoader\n",
    "from torch.optim import Adam\n",
    "from torch.autograd import Variable\n",
    "import torchvision\n",
    "import pathlib"
   ]
  },
  {
   "cell_type": "code",
   "execution_count": 2,
   "id": "63342a21",
   "metadata": {},
   "outputs": [],
   "source": [
    "device=torch.device('cuda' if torch.cuda.is_available() else 'cpu')"
   ]
  },
  {
   "cell_type": "code",
   "execution_count": 3,
   "id": "74f481bb",
   "metadata": {},
   "outputs": [],
   "source": [
    "transformer=transforms.Compose([\n",
    "    transforms.Resize((150,150)),\n",
    "    transforms.RandomHorizontalFlip(),\n",
    "    transforms.ToTensor(),  #0-255 to 0-1, numpy to tensors\n",
    "    transforms.Normalize([0.5,0.5,0.5], # 0-1 to [-1,1] , formula (x-mean)/std\n",
    "                        [0.5,0.5,0.5])\n",
    "])"
   ]
  },
  {
   "cell_type": "code",
   "execution_count": 4,
   "id": "79a5cb74",
   "metadata": {},
   "outputs": [],
   "source": [
    "train_path= r'C:\\Users\\DAWN\\Documents\\Python Scripts\\python\\data\\train'\n",
    "test_path= r'C:\\Users\\DAWN\\Documents\\Python Scripts\\python\\data\\test'\n",
    "\n",
    "train_loader=DataLoader(\n",
    "    torchvision.datasets.ImageFolder(train_path,transform=transformer),\n",
    "    batch_size=164, shuffle=True\n",
    ")\n",
    "test_loader=DataLoader(\n",
    "    torchvision.datasets.ImageFolder(test_path,transform=transformer),\n",
    "    batch_size=132, shuffle=True\n",
    ")"
   ]
  },
  {
   "cell_type": "code",
   "execution_count": 5,
   "id": "a0694293",
   "metadata": {},
   "outputs": [
    {
     "name": "stdout",
     "output_type": "stream",
     "text": [
      "['benign', 'malignant']\n"
     ]
    }
   ],
   "source": [
    "root=pathlib.Path(train_path)\n",
    "classes=sorted([j.name.split('/')[-1] for j in root.iterdir()])\n",
    "print(classes)"
   ]
  },
  {
   "cell_type": "code",
   "execution_count": 6,
   "id": "724ffc79",
   "metadata": {},
   "outputs": [],
   "source": [
    "class ConvNet(nn.Module):\n",
    "    def __init__(self,num_classes=2):\n",
    "        super(ConvNet,self).__init__()\n",
    "        \n",
    "        #Output size after convolution filter\n",
    "        #Input shape= (256,3,150,150)\n",
    "        \n",
    "        self.conv1=nn.Conv2d(in_channels=3,out_channels=12,kernel_size=3,stride=1,padding=1)\n",
    "        #Shape= (256,12,150,150)\n",
    "        self.bn1=nn.BatchNorm2d(num_features=12)\n",
    "        #Shape= (256,12,150,150)\n",
    "        self.relu1=nn.ELU()\n",
    "        #Shape= (256,12,150,150)\n",
    "        \n",
    "        self.pool=nn.MaxPool2d(kernel_size=2)\n",
    "        #Reduce the image size be factor 2\n",
    "        #Shape= (256,12,75,75)\n",
    "        \n",
    "        self.conv2=nn.Conv2d(in_channels=12,out_channels=20,kernel_size=3,stride=1,padding=1)\n",
    "        #Shape= (256,20,75,75)\n",
    "        self.relu2=nn.ELU()\n",
    "        #Shape= (256,20,75,75)\n",
    "        \n",
    "        self.conv3=nn.Conv2d(in_channels=20,out_channels=32,kernel_size=3,stride=1,padding=1)\n",
    "        #Shape= (256,32,75,75)\n",
    "        self.bn3=nn.BatchNorm2d(num_features=32)\n",
    "        #Shape= (256,32,75,75)\n",
    "        self.relu3=nn.ELU()\n",
    "        #Shape= (256,32,75,75)\n",
    "        \n",
    "        self.fc=nn.Linear(in_features=75 * 75 * 32,out_features=num_classes)\n",
    "        \n",
    "    def forward(self,input):\n",
    "        output=self.conv1(input)\n",
    "        output=self.bn1(output)\n",
    "        output=self.relu1(output)\n",
    "            \n",
    "        output=self.pool(output)\n",
    "            \n",
    "        output=self.conv2(output)\n",
    "        output=self.relu2(output)\n",
    "            \n",
    "        output=self.conv3(output)\n",
    "        output=self.bn3(output)\n",
    "        output=self.relu3(output)\n",
    "            \n",
    "            #Above output will be in matrix form, with shape (256,32,75,75)\n",
    "            \n",
    "        output=output.view(-1,32*75*75)\n",
    "        output=self.fc(output)            \n",
    "        return output"
   ]
  },
  {
   "cell_type": "code",
   "execution_count": 7,
   "id": "1db3b67f",
   "metadata": {},
   "outputs": [],
   "source": [
    "model=ConvNet(num_classes=2).to(device)"
   ]
  },
  {
   "cell_type": "code",
   "execution_count": 8,
   "id": "1d997e0d",
   "metadata": {},
   "outputs": [],
   "source": [
    "optimizer=Adam(model.parameters(),lr=0.001,weight_decay=0.0001)\n",
    "loss_function=nn.CrossEntropyLoss()"
   ]
  },
  {
   "cell_type": "code",
   "execution_count": 10,
   "id": "916b622f",
   "metadata": {},
   "outputs": [],
   "source": [
    "num_epochs=100"
   ]
  },
  {
   "cell_type": "code",
   "execution_count": 11,
   "id": "3888ac6e",
   "metadata": {},
   "outputs": [],
   "source": [
    "train_count=len(glob.glob(train_path+'/**/*.jpg'))\n",
    "test_count=len(glob.glob(test_path+'/**/*.jpg'))"
   ]
  },
  {
   "cell_type": "code",
   "execution_count": 12,
   "id": "58b95219",
   "metadata": {},
   "outputs": [],
   "source": [
    "ta = [0]*100\n",
    "tl = [0]*100\n",
    "tea = [0]*100\n",
    "tel = [0]*100"
   ]
  },
  {
   "cell_type": "code",
   "execution_count": 14,
   "id": "79aa498c",
   "metadata": {},
   "outputs": [
    {
     "name": "stdout",
     "output_type": "stream",
     "text": [
      "Epoch: 0 Train Loss: tensor(4.0153) Train Accuracy: 0.7686765263557073 Test Accuracy: 0.7666666666666667\n",
      "Epoch: 1 Train Loss: tensor(2.4808) Train Accuracy: 0.7876374668183542 Test Accuracy: 0.7363636363636363\n",
      "Epoch: 2 Train Loss: tensor(2.9008) Train Accuracy: 0.7720894956389837 Test Accuracy: 0.75\n",
      "Epoch: 3 Train Loss: tensor(3.4313) Train Accuracy: 0.7914296549108836 Test Accuracy: 0.7712121212121212\n",
      "Epoch: 4 Train Loss: tensor(2.5352) Train Accuracy: 0.78839590443686 Test Accuracy: 0.7075757575757575\n",
      "Epoch: 5 Train Loss: tensor(2.0391) Train Accuracy: 0.8065984072810012 Test Accuracy: 0.7757575757575758\n",
      "Epoch: 6 Train Loss: tensor(1.4957) Train Accuracy: 0.8084945013272659 Test Accuracy: 0.7803030303030303\n",
      "Epoch: 7 Train Loss: tensor(2.3253) Train Accuracy: 0.7974971558589306 Test Accuracy: 0.7727272727272727\n",
      "Epoch: 8 Train Loss: tensor(2.1391) Train Accuracy: 0.8395904436860068 Test Accuracy: 0.7393939393939394\n",
      "Epoch: 9 Train Loss: tensor(1.6625) Train Accuracy: 0.8399696624952597 Test Accuracy: 0.7893939393939394\n",
      "Epoch: 10 Train Loss: tensor(1.6331) Train Accuracy: 0.8289723170269245 Test Accuracy: 0.7318181818181818\n",
      "Epoch: 11 Train Loss: tensor(1.4424) Train Accuracy: 0.8596890405764126 Test Accuracy: 0.7424242424242424\n",
      "Epoch: 12 Train Loss: tensor(1.2581) Train Accuracy: 0.8608266970041714 Test Accuracy: 0.7924242424242425\n",
      "Epoch: 13 Train Loss: tensor(0.9921) Train Accuracy: 0.8763746681835419 Test Accuracy: 0.8106060606060606\n",
      "Epoch: 14 Train Loss: tensor(0.7902) Train Accuracy: 0.8911642017444065 Test Accuracy: 0.7833333333333333\n",
      "Epoch: 15 Train Loss: tensor(0.4617) Train Accuracy: 0.9093667045885476 Test Accuracy: 0.796969696969697\n",
      "Epoch: 16 Train Loss: tensor(0.4184) Train Accuracy: 0.925673113386424 Test Accuracy: 0.8121212121212121\n",
      "Epoch: 17 Train Loss: tensor(0.2198) Train Accuracy: 0.9522184300341296 Test Accuracy: 0.7878787878787878\n",
      "Epoch: 18 Train Loss: tensor(0.2401) Train Accuracy: 0.9453924914675768 Test Accuracy: 0.7909090909090909\n",
      "Epoch: 19 Train Loss: tensor(0.2113) Train Accuracy: 0.9533560864618885 Test Accuracy: 0.7863636363636364\n",
      "Epoch: 20 Train Loss: tensor(0.4729) Train Accuracy: 0.9180887372013652 Test Accuracy: 0.8045454545454546\n",
      "Epoch: 21 Train Loss: tensor(0.3386) Train Accuracy: 0.9302237390974593 Test Accuracy: 0.7924242424242425\n",
      "Epoch: 22 Train Loss: tensor(0.1976) Train Accuracy: 0.9514599924156238 Test Accuracy: 0.8075757575757576\n",
      "Epoch: 23 Train Loss: tensor(0.1211) Train Accuracy: 0.9658703071672355 Test Accuracy: 0.7848484848484848\n",
      "Epoch: 24 Train Loss: tensor(0.0925) Train Accuracy: 0.9708001516875236 Test Accuracy: 0.793939393939394\n",
      "Epoch: 25 Train Loss: tensor(0.0711) Train Accuracy: 0.9799014031095943 Test Accuracy: 0.7818181818181819\n",
      "Epoch: 26 Train Loss: tensor(0.0685) Train Accuracy: 0.9791429654910884 Test Accuracy: 0.746969696969697\n",
      "Epoch: 27 Train Loss: tensor(1.1939) Train Accuracy: 0.8866135760333712 Test Accuracy: 0.7439393939393939\n",
      "Epoch: 28 Train Loss: tensor(0.6899) Train Accuracy: 0.913158892681077 Test Accuracy: 0.7560606060606061\n",
      "Epoch: 29 Train Loss: tensor(0.3374) Train Accuracy: 0.943875616230565 Test Accuracy: 0.7984848484848485\n",
      "Epoch: 30 Train Loss: tensor(0.1382) Train Accuracy: 0.9692832764505119 Test Accuracy: 0.7848484848484848\n",
      "Epoch: 31 Train Loss: tensor(0.3270) Train Accuracy: 0.9423587409935533 Test Accuracy: 0.7893939393939394\n",
      "Epoch: 32 Train Loss: tensor(0.2385) Train Accuracy: 0.9525976488433826 Test Accuracy: 0.7772727272727272\n",
      "Epoch: 33 Train Loss: tensor(0.1389) Train Accuracy: 0.9711793704967766 Test Accuracy: 0.7484848484848485\n",
      "Epoch: 34 Train Loss: tensor(0.4440) Train Accuracy: 0.9362912400455062 Test Accuracy: 0.7757575757575758\n",
      "Epoch: 35 Train Loss: tensor(0.7534) Train Accuracy: 0.9203640500568828 Test Accuracy: 0.7787878787878788\n",
      "Epoch: 36 Train Loss: tensor(0.5211) Train Accuracy: 0.9393249905195298 Test Accuracy: 0.7681818181818182\n",
      "Epoch: 37 Train Loss: tensor(1.1556) Train Accuracy: 0.9036784224497535 Test Accuracy: 0.7545454545454545\n",
      "Epoch: 38 Train Loss: tensor(0.4954) Train Accuracy: 0.9400834281380357 Test Accuracy: 0.7666666666666667\n",
      "Epoch: 39 Train Loss: tensor(0.8300) Train Accuracy: 0.9196056124383769 Test Accuracy: 0.7515151515151515\n",
      "Epoch: 40 Train Loss: tensor(0.5840) Train Accuracy: 0.9408418657565415 Test Accuracy: 0.7484848484848485\n",
      "Epoch: 41 Train Loss: tensor(0.1811) Train Accuracy: 0.9704209328782708 Test Accuracy: 0.7621212121212121\n",
      "Epoch: 42 Train Loss: tensor(0.1005) Train Accuracy: 0.9825559347743648 Test Accuracy: 0.7621212121212121\n",
      "Epoch: 43 Train Loss: tensor(0.1021) Train Accuracy: 0.9829351535836177 Test Accuracy: 0.7727272727272727\n",
      "Epoch: 44 Train Loss: tensor(0.1261) Train Accuracy: 0.9768676526355707 Test Accuracy: 0.7621212121212121\n",
      "Epoch: 45 Train Loss: tensor(0.1162) Train Accuracy: 0.9780053090633295 Test Accuracy: 0.7757575757575758\n",
      "Epoch: 46 Train Loss: tensor(0.0750) Train Accuracy: 0.9867273416761472 Test Accuracy: 0.7878787878787878\n",
      "Epoch: 47 Train Loss: tensor(0.0313) Train Accuracy: 0.9912779673871824 Test Accuracy: 0.7696969696969697\n",
      "Epoch: 48 Train Loss: tensor(0.0173) Train Accuracy: 0.9950701554797118 Test Accuracy: 0.7772727272727272\n",
      "Epoch: 49 Train Loss: tensor(0.0745) Train Accuracy: 0.9863481228668942 Test Accuracy: 0.7696969696969697\n",
      "Epoch: 50 Train Loss: tensor(0.0367) Train Accuracy: 0.9916571861964354 Test Accuracy: 0.7787878787878788\n",
      "Epoch: 51 Train Loss: tensor(0.0138) Train Accuracy: 0.9958285930982177 Test Accuracy: 0.7772727272727272\n",
      "Epoch: 52 Train Loss: tensor(0.0023) Train Accuracy: 0.9988623435722411 Test Accuracy: 0.7696969696969697\n",
      "Epoch: 53 Train Loss: tensor(0.0023) Train Accuracy: 0.9988623435722411 Test Accuracy: 0.7787878787878788\n",
      "Epoch: 54 Train Loss: tensor(0.0031) Train Accuracy: 0.9988623435722411 Test Accuracy: 0.7878787878787878\n",
      "Epoch: 55 Train Loss: tensor(0.0026) Train Accuracy: 0.9992415623814941 Test Accuracy: 0.7803030303030303\n",
      "Epoch: 56 Train Loss: tensor(0.0020) Train Accuracy: 0.9992415623814941 Test Accuracy: 0.7636363636363637\n",
      "Epoch: 57 Train Loss: tensor(0.0009) Train Accuracy: 0.999620781190747 Test Accuracy: 0.7833333333333333\n",
      "Epoch: 58 Train Loss: tensor(0.0002) Train Accuracy: 1.0 Test Accuracy: 0.7772727272727272\n",
      "Epoch: 59 Train Loss: tensor(0.0002) Train Accuracy: 1.0 Test Accuracy: 0.7727272727272727\n",
      "Epoch: 60 Train Loss: tensor(0.0001) Train Accuracy: 1.0 Test Accuracy: 0.7803030303030303\n",
      "Epoch: 61 Train Loss: tensor(8.0892e-05) Train Accuracy: 1.0 Test Accuracy: 0.7833333333333333\n",
      "Epoch: 62 Train Loss: tensor(8.3944e-05) Train Accuracy: 1.0 Test Accuracy: 0.7878787878787878\n",
      "Epoch: 63 Train Loss: tensor(6.7379e-05) Train Accuracy: 1.0 Test Accuracy: 0.7727272727272727\n",
      "Epoch: 64 Train Loss: tensor(5.5661e-05) Train Accuracy: 1.0 Test Accuracy: 0.7863636363636364\n",
      "Epoch: 65 Train Loss: tensor(4.4142e-05) Train Accuracy: 1.0 Test Accuracy: 0.7772727272727272\n",
      "Epoch: 66 Train Loss: tensor(5.2395e-05) Train Accuracy: 1.0 Test Accuracy: 0.7636363636363637\n",
      "Epoch: 67 Train Loss: tensor(5.7743e-05) Train Accuracy: 1.0 Test Accuracy: 0.7803030303030303\n",
      "Epoch: 68 Train Loss: tensor(4.6530e-05) Train Accuracy: 1.0 Test Accuracy: 0.7833333333333333\n",
      "Epoch: 69 Train Loss: tensor(3.2399e-05) Train Accuracy: 1.0 Test Accuracy: 0.7803030303030303\n",
      "Epoch: 70 Train Loss: tensor(4.8023e-05) Train Accuracy: 1.0 Test Accuracy: 0.7833333333333333\n",
      "Epoch: 71 Train Loss: tensor(6.5654e-05) Train Accuracy: 1.0 Test Accuracy: 0.7984848484848485\n",
      "Epoch: 72 Train Loss: tensor(2.9224e-05) Train Accuracy: 1.0 Test Accuracy: 0.7787878787878788\n",
      "Epoch: 73 Train Loss: tensor(3.6735e-05) Train Accuracy: 1.0 Test Accuracy: 0.7666666666666667\n",
      "Epoch: 74 Train Loss: tensor(2.9818e-05) Train Accuracy: 1.0 Test Accuracy: 0.7803030303030303\n",
      "Epoch: 75 Train Loss: tensor(3.5580e-05) Train Accuracy: 1.0 Test Accuracy: 0.7696969696969697\n",
      "Epoch: 76 Train Loss: tensor(3.7967e-05) Train Accuracy: 1.0 Test Accuracy: 0.7863636363636364\n",
      "Epoch: 77 Train Loss: tensor(3.2867e-05) Train Accuracy: 1.0 Test Accuracy: 0.7787878787878788\n",
      "Epoch: 78 Train Loss: tensor(4.3544e-05) Train Accuracy: 1.0 Test Accuracy: 0.7757575757575758\n",
      "Epoch: 79 Train Loss: tensor(2.9958e-05) Train Accuracy: 1.0 Test Accuracy: 0.7878787878787878\n"
     ]
    },
    {
     "name": "stdout",
     "output_type": "stream",
     "text": [
      "Epoch: 80 Train Loss: tensor(2.5400e-05) Train Accuracy: 1.0 Test Accuracy: 0.7787878787878788\n",
      "Epoch: 81 Train Loss: tensor(2.8330e-05) Train Accuracy: 1.0 Test Accuracy: 0.7757575757575758\n",
      "Epoch: 82 Train Loss: tensor(2.4874e-05) Train Accuracy: 1.0 Test Accuracy: 0.7833333333333333\n",
      "Epoch: 83 Train Loss: tensor(2.5785e-05) Train Accuracy: 1.0 Test Accuracy: 0.7681818181818182\n",
      "Epoch: 84 Train Loss: tensor(2.6871e-05) Train Accuracy: 1.0 Test Accuracy: 0.7712121212121212\n",
      "Epoch: 85 Train Loss: tensor(3.3339e-05) Train Accuracy: 1.0 Test Accuracy: 0.7772727272727272\n",
      "Epoch: 86 Train Loss: tensor(3.0664e-05) Train Accuracy: 1.0 Test Accuracy: 0.7696969696969697\n",
      "Epoch: 87 Train Loss: tensor(2.5016e-05) Train Accuracy: 1.0 Test Accuracy: 0.7772727272727272\n",
      "Epoch: 88 Train Loss: tensor(4.3302e-05) Train Accuracy: 1.0 Test Accuracy: 0.7803030303030303\n",
      "Epoch: 89 Train Loss: tensor(0.0001) Train Accuracy: 1.0 Test Accuracy: 0.7681818181818182\n",
      "Epoch: 90 Train Loss: tensor(0.0015) Train Accuracy: 0.999620781190747 Test Accuracy: 0.7772727272727272\n",
      "Epoch: 91 Train Loss: tensor(0.0896) Train Accuracy: 0.9821767159651119 Test Accuracy: 0.7454545454545455\n",
      "Epoch: 92 Train Loss: tensor(0.2262) Train Accuracy: 0.9647326507394767 Test Accuracy: 0.7651515151515151\n",
      "Epoch: 93 Train Loss: tensor(0.1571) Train Accuracy: 0.975350777398559 Test Accuracy: 0.7727272727272727\n",
      "Epoch: 94 Train Loss: tensor(0.0919) Train Accuracy: 0.9859689040576413 Test Accuracy: 0.7787878787878788\n",
      "Epoch: 95 Train Loss: tensor(0.0897) Train Accuracy: 0.9852104664391353 Test Accuracy: 0.7651515151515151\n",
      "Epoch: 96 Train Loss: tensor(0.0342) Train Accuracy: 0.9927948426241942 Test Accuracy: 0.7696969696969697\n",
      "Epoch: 97 Train Loss: tensor(0.0482) Train Accuracy: 0.9893818733409178 Test Accuracy: 0.7863636363636364\n",
      "Epoch: 98 Train Loss: tensor(0.0221) Train Accuracy: 0.9946909366704588 Test Accuracy: 0.7712121212121212\n",
      "Epoch: 99 Train Loss: tensor(0.0312) Train Accuracy: 0.9920364050056882 Test Accuracy: 0.7848484848484848\n"
     ]
    }
   ],
   "source": [
    "best_accuracy=0.0\n",
    "\n",
    "for epoch in range(num_epochs):\n",
    "    \n",
    "    #Evaluation and training on training dataset\n",
    "    model.train()\n",
    "    train_accuracy=0.0\n",
    "    train_loss=0.0\n",
    "    \n",
    "    for i, (images,labels) in enumerate(train_loader):\n",
    "        if torch.cuda.is_available():\n",
    "            images=Variable(images.cuda())\n",
    "            labels=Variable(labels.cuda())\n",
    "            \n",
    "        optimizer.zero_grad()\n",
    "        \n",
    "        outputs=model(images)\n",
    "        loss=loss_function(outputs,labels)\n",
    "        loss.backward()\n",
    "        optimizer.step()\n",
    "        \n",
    "        \n",
    "        train_loss+= loss.cpu().data*images.size(0)\n",
    "        _,prediction=torch.max(outputs.data,1)\n",
    "        \n",
    "        train_accuracy+=int(torch.sum(prediction==labels.data))\n",
    "        \n",
    "    train_accuracy=train_accuracy/train_count\n",
    "    train_loss=train_loss/train_count\n",
    "    \n",
    "    \n",
    "    # Evaluation on testing dataset\n",
    "    model.eval()\n",
    "    test_accuracy=0.0\n",
    "    test_loss = 0.0\n",
    "    for i, (images,labels) in enumerate(test_loader):\n",
    "        if torch.cuda.is_available():\n",
    "            images=Variable(images.cuda())\n",
    "            labels=Variable(labels.cuda())\n",
    "            \n",
    "        outputs=model(images)\n",
    "        test_loss+= loss.cpu().data*images.size(0)\n",
    "        _,prediction=torch.max(outputs.data,1)\n",
    "        test_accuracy+=int(torch.sum(prediction==labels.data))\n",
    "    \n",
    "    test_accuracy=test_accuracy/test_count\n",
    "    test_loss= test_loss/test_count\n",
    "    \n",
    "    print('Epoch: '+str(epoch)+' Train Loss: '+str(train_loss)+' Train Accuracy: '+str(train_accuracy)+' Test Accuracy: '+str(test_accuracy))\n",
    "    ta[epoch] = train_accuracy\n",
    "    tl[epoch] = train_loss\n",
    "    tea[epoch] = test_accuracy\n",
    "    tel[epoch] = test_loss\n",
    "    \n",
    "    #Save the best model\n",
    "    if test_accuracy>best_accuracy:\n",
    "        torch.save(model.state_dict(),'best_checkpoint_elu.model')\n",
    "        best_accuracy=test_accuracy"
   ]
  },
  {
   "cell_type": "code",
   "execution_count": 18,
   "id": "5dadb4a1",
   "metadata": {},
   "outputs": [
    {
     "data": {
      "image/png": "[encoded data removed]",
      "text/plain": [
       "<Figure size 432x288 with 1 Axes>"
      ]
     },
     "metadata": {
      "needs_background": "light"
     },
     "output_type": "display_data"
    },
    {
     "data": {
      "image/png": "[encoded data removed]",
      "text/plain": [
       "<Figure size 432x288 with 1 Axes>"
      ]
     },
     "metadata": {
      "needs_background": "light"
     },
     "output_type": "display_data"
    }
   ],
   "source": [
    "plt.title('ELU Accuracy')\n",
    "plt.plot(ta)\n",
    "plt.plot(tea)\n",
    "plt.legend(['Train Accuracy', 'Test Accuracy'])\n",
    "plt.show()\n",
    "\n",
    "plt.title('ELU Loss')\n",
    "plt.plot(tl)\n",
    "plt.plot(tel)\n",
    "plt.legend(['Train Loss', 'Test Loss'])\n",
    "plt.show()"
   ]
  },
  {
   "cell_type": "code",
   "execution_count": 19,
   "id": "388c6ca2",
   "metadata": {},
   "outputs": [
    {
     "data": {
      "text/plain": [
       "<All keys matched successfully>"
      ]
     },
     "execution_count": 19,
     "metadata": {},
     "output_type": "execute_result"
    }
   ],
   "source": [
    "checkpoint = torch.load('best_checkpoint_elu.model')\n",
    "model = ConvNet(num_classes=2)\n",
    "model.load_state_dict(checkpoint)"
   ]
  },
  {
   "cell_type": "code",
   "execution_count": 20,
   "id": "2e9593b7",
   "metadata": {},
   "outputs": [],
   "source": [
    "import torchinfo"
   ]
  },
  {
   "cell_type": "code",
   "execution_count": 21,
   "id": "16f4ca6a",
   "metadata": {},
   "outputs": [
    {
     "data": {
      "text/plain": [
       "=====================================================================================================================================================================\n",
       "Layer (type:depth-idx)                   Input Shape               Output Shape              Param #                   Kernel Shape              Mult-Adds\n",
       "=====================================================================================================================================================================\n",
       "ConvNet                                  [1, 3, 150, 150]          [1, 2]                    --                        --                        --\n",
       "├─Conv2d: 1-1                            [1, 3, 150, 150]          [1, 12, 150, 150]         336                       [3, 3]                    7,560,000\n",
       "├─BatchNorm2d: 1-2                       [1, 12, 150, 150]         [1, 12, 150, 150]         24                        --                        24\n",
       "├─ELU: 1-3                               [1, 12, 150, 150]         [1, 12, 150, 150]         --                        --                        --\n",
       "├─MaxPool2d: 1-4                         [1, 12, 150, 150]         [1, 12, 75, 75]           --                        2                         --\n",
       "├─Conv2d: 1-5                            [1, 12, 75, 75]           [1, 20, 75, 75]           2,180                     [3, 3]                    12,262,500\n",
       "├─ELU: 1-6                               [1, 20, 75, 75]           [1, 20, 75, 75]           --                        --                        --\n",
       "├─Conv2d: 1-7                            [1, 20, 75, 75]           [1, 32, 75, 75]           5,792                     [3, 3]                    32,580,000\n",
       "├─BatchNorm2d: 1-8                       [1, 32, 75, 75]           [1, 32, 75, 75]           64                        --                        64\n",
       "├─ELU: 1-9                               [1, 32, 75, 75]           [1, 32, 75, 75]           --                        --                        --\n",
       "├─Linear: 1-10                           [1, 180000]               [1, 2]                    360,002                   --                        360,002\n",
       "=====================================================================================================================================================================\n",
       "Total params: 368,398\n",
       "Trainable params: 368,398\n",
       "Non-trainable params: 0\n",
       "Total mult-adds (M): 52.76\n",
       "=====================================================================================================================================================================\n",
       "Input size (MB): 0.27\n",
       "Forward/backward pass size (MB): 8.10\n",
       "Params size (MB): 1.47\n",
       "Estimated Total Size (MB): 9.84\n",
       "====================================================================================================================================================================="
      ]
     },
     "execution_count": 21,
     "metadata": {},
     "output_type": "execute_result"
    }
   ],
   "source": [
    "torchinfo.summary(model, (3, 150, 150), batch_dim = 0, col_names = ('input_size', 'output_size', 'num_params', \n",
    "                                                                    'kernel_size', 'mult_adds'), verbose = 0)"
   ]
  },
  {
   "cell_type": "code",
   "execution_count": null,
   "id": "0dfbfd98",
   "metadata": {},
   "outputs": [],
   "source": []
  }
 ],
 "metadata": {
  "kernelspec": {
   "display_name": "Python 3 (ipykernel)",
   "language": "python",
   "name": "python3"
  },
  "language_info": {
   "codemirror_mode": {
    "name": "ipython",
    "version": 3
   },
   "file_extension": ".py",
   "mimetype": "text/x-python",
   "name": "python",
   "nbconvert_exporter": "python",
   "pygments_lexer": "ipython3",
   "version": "3.9.7"
  }
 },
 "nbformat": 4,
 "nbformat_minor": 5
}
