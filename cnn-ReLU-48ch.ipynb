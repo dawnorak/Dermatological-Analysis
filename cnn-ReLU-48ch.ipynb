{
 "cells": [
  {
   "cell_type": "code",
   "execution_count": 1,
   "id": "aaf5fd84",
   "metadata": {},
   "outputs": [],
   "source": [
    "import os\n",
    "import numpy as np\n",
    "import torch\n",
    "import glob\n",
    "import torch.nn as nn\n",
    "from torchvision.transforms import transforms\n",
    "from torch.utils.data import DataLoader\n",
    "from torch.optim import Adam\n",
    "from torch.autograd import Variable\n",
    "import torchvision\n",
    "import pathlib\n",
    "import matplotlib.pyplot as plt"
   ]
  },
  {
   "cell_type": "code",
   "execution_count": 2,
   "id": "4c136282",
   "metadata": {},
   "outputs": [],
   "source": [
    "device=torch.device('cuda' if torch.cuda.is_available() else 'cpu')"
   ]
  },
  {
   "cell_type": "code",
   "execution_count": 3,
   "id": "d37fb6ca",
   "metadata": {},
   "outputs": [],
   "source": [
    "transformer=transforms.Compose([\n",
    "    transforms.Resize((150,150)),\n",
    "    transforms.RandomHorizontalFlip(),\n",
    "    transforms.ToTensor(),  #0-255 to 0-1, numpy to tensors\n",
    "    transforms.Normalize([0.5,0.5,0.5], # 0-1 to [-1,1] , formula (x-mean)/std\n",
    "                        [0.5,0.5,0.5])\n",
    "])"
   ]
  },
  {
   "cell_type": "code",
   "execution_count": 6,
   "id": "e385d229",
   "metadata": {},
   "outputs": [],
   "source": [
    "train_path= r'C:\\Users\\DAWN\\Documents\\Python Scripts\\python\\data\\train'\n",
    "test_path= r'C:\\Users\\DAWN\\Documents\\Python Scripts\\python\\data\\test'\n",
    "\n",
    "train_loader=DataLoader(\n",
    "    torchvision.datasets.ImageFolder(train_path,transform=transformer),\n",
    "    batch_size=128, shuffle=True\n",
    ")\n",
    "test_loader=DataLoader(\n",
    "    torchvision.datasets.ImageFolder(test_path,transform=transformer),\n",
    "    batch_size=128, shuffle=True\n",
    ")"
   ]
  },
  {
   "cell_type": "code",
   "execution_count": 7,
   "id": "55aff876",
   "metadata": {},
   "outputs": [],
   "source": [
    "root=pathlib.Path(train_path)\n",
    "classes=sorted([j.name.split('/')[-1] for j in root.iterdir()])"
   ]
  },
  {
   "cell_type": "code",
   "execution_count": 8,
   "id": "c822997e",
   "metadata": {},
   "outputs": [],
   "source": [
    "class ConvNet(nn.Module):\n",
    "    def __init__(self,num_classes=2):\n",
    "        super(ConvNet,self).__init__()\n",
    "        \n",
    "        #Output size after convolution filter\n",
    "        #Input shape= (256,3,150,150)\n",
    "        \n",
    "        self.conv1=nn.Conv2d(in_channels=3,out_channels=12,kernel_size=3,stride=1,padding=1)\n",
    "        #Shape= (256,12,150,150)\n",
    "        self.bn1=nn.BatchNorm2d(num_features=12)\n",
    "        #Shape= (256,12,150,150)\n",
    "        self.relu1=nn.ReLU()\n",
    "        #Shape= (256,12,150,150)\n",
    "        \n",
    "        self.pool=nn.MaxPool2d(kernel_size=2)\n",
    "        #Reduce the image size be factor 2\n",
    "        #Shape= (256,12,75,75)\n",
    "        \n",
    "        self.conv2=nn.Conv2d(in_channels=12,out_channels=24,kernel_size=3,stride=1,padding=1)\n",
    "        #Shape= (256,24,75,75)\n",
    "        self.relu2=nn.ReLU()\n",
    "        #Shape= (256,24,75,75)\n",
    "        \n",
    "        self.conv3=nn.Conv2d(in_channels=24,out_channels=48,kernel_size=3,stride=1,padding=1)\n",
    "        #Shape= (256,48,75,75)\n",
    "        self.bn3=nn.BatchNorm2d(num_features=48)\n",
    "        #Shape= (256,48,75,75)\n",
    "        self.relu3=nn.ReLU()\n",
    "        #Shape= (256,48,75,75)\n",
    "        \n",
    "        self.fc=nn.Linear(in_features=75 * 75 * 48,out_features=num_classes)\n",
    "        \n",
    "    def forward(self,input):\n",
    "        output=self.conv1(input)\n",
    "        output=self.bn1(output)\n",
    "        output=self.relu1(output)\n",
    "            \n",
    "        output=self.pool(output)\n",
    " \n",
    "        output=self.conv2(output)\n",
    "        output=self.relu2(output)\n",
    "            \n",
    "        output=self.conv3(output)\n",
    "        output=self.bn3(output)\n",
    "        output=self.relu3(output)\n",
    "        #Above output will be in matrix form, with shape (256,32,75,75)\n",
    "            \n",
    "        output=output.view(-1,48*75*75)\n",
    "        output=self.fc(output)\n",
    "        \n",
    "        return output"
   ]
  },
  {
   "cell_type": "code",
   "execution_count": 9,
   "id": "663c9233",
   "metadata": {},
   "outputs": [],
   "source": [
    "model=ConvNet(num_classes=2).to(device)"
   ]
  },
  {
   "cell_type": "code",
   "execution_count": 10,
   "id": "9103a75e",
   "metadata": {},
   "outputs": [],
   "source": [
    "optimizer=Adam(model.parameters(),lr=0.001,weight_decay=0.0001)\n",
    "loss_function=nn.CrossEntropyLoss()"
   ]
  },
  {
   "cell_type": "code",
   "execution_count": 11,
   "id": "3740bab3",
   "metadata": {},
   "outputs": [],
   "source": [
    "num_epochs=100"
   ]
  },
  {
   "cell_type": "code",
   "execution_count": 12,
   "id": "5b206147",
   "metadata": {},
   "outputs": [],
   "source": [
    "train_count=len(glob.glob(train_path+'/**/*.jpg'))\n",
    "test_count=len(glob.glob(test_path+'/**/*.jpg'))"
   ]
  },
  {
   "cell_type": "code",
   "execution_count": 13,
   "id": "4d0e4656",
   "metadata": {},
   "outputs": [],
   "source": [
    "ta = [0]*100\n",
    "tl = [0]*100\n",
    "tea = [0]*100\n",
    "tel = [0]*100"
   ]
  },
  {
   "cell_type": "code",
   "execution_count": 14,
   "id": "31e38426",
   "metadata": {},
   "outputs": [
    {
     "name": "stdout",
     "output_type": "stream",
     "text": [
      "Epoch: 0 Train Loss: tensor(11.3713) Train Accuracy: 0.7212741751990899 Test Accuracy: 0.6303030303030303\n",
      "Epoch: 1 Train Loss: tensor(5.1884) Train Accuracy: 0.745164960182025 Test Accuracy: 0.696969696969697\n",
      "Epoch: 2 Train Loss: tensor(2.9837) Train Accuracy: 0.7755024649222602 Test Accuracy: 0.7818181818181819\n",
      "Epoch: 3 Train Loss: tensor(1.2838) Train Accuracy: 0.8031854379977247 Test Accuracy: 0.8166666666666667\n",
      "Epoch: 4 Train Loss: tensor(1.0114) Train Accuracy: 0.8183541903678423 Test Accuracy: 0.7727272727272727\n",
      "Epoch: 5 Train Loss: tensor(1.6381) Train Accuracy: 0.8054607508532423 Test Accuracy: 0.7696969696969697\n",
      "Epoch: 6 Train Loss: tensor(0.9002) Train Accuracy: 0.8350398179749715 Test Accuracy: 0.8348484848484848\n",
      "Epoch: 7 Train Loss: tensor(0.4099) Train Accuracy: 0.8877512324611301 Test Accuracy: 0.8090909090909091\n",
      "Epoch: 8 Train Loss: tensor(3.2832) Train Accuracy: 0.7686765263557073 Test Accuracy: 0.6530303030303031\n",
      "Epoch: 9 Train Loss: tensor(1.6403) Train Accuracy: 0.8084945013272659 Test Accuracy: 0.7681818181818182\n",
      "Epoch: 10 Train Loss: tensor(1.3357) Train Accuracy: 0.8088737201365188 Test Accuracy: 0.7878787878787878\n",
      "Epoch: 11 Train Loss: tensor(0.6010) Train Accuracy: 0.8486916951080774 Test Accuracy: 0.7712121212121212\n",
      "Epoch: 12 Train Loss: tensor(0.3936) Train Accuracy: 0.8835798255593478 Test Accuracy: 0.8015151515151515\n",
      "Epoch: 13 Train Loss: tensor(0.3142) Train Accuracy: 0.8972317026924536 Test Accuracy: 0.7984848484848485\n",
      "Epoch: 14 Train Loss: tensor(0.2362) Train Accuracy: 0.913158892681077 Test Accuracy: 0.8151515151515152\n",
      "Epoch: 15 Train Loss: tensor(0.2028) Train Accuracy: 0.9215017064846417 Test Accuracy: 0.8136363636363636\n",
      "Epoch: 16 Train Loss: tensor(0.1633) Train Accuracy: 0.9397042093287827 Test Accuracy: 0.803030303030303\n",
      "Epoch: 17 Train Loss: tensor(0.1475) Train Accuracy: 0.9525976488433826 Test Accuracy: 0.8075757575757576\n",
      "Epoch: 18 Train Loss: tensor(0.1196) Train Accuracy: 0.9507015547971179 Test Accuracy: 0.8196969696969697\n",
      "Epoch: 19 Train Loss: tensor(0.1052) Train Accuracy: 0.9575274933636708 Test Accuracy: 0.8196969696969697\n",
      "Epoch: 20 Train Loss: tensor(0.1029) Train Accuracy: 0.9658703071672355 Test Accuracy: 0.8121212121212121\n",
      "Epoch: 21 Train Loss: tensor(0.0726) Train Accuracy: 0.975350777398559 Test Accuracy: 0.8227272727272728\n",
      "Epoch: 22 Train Loss: tensor(0.0604) Train Accuracy: 0.9795221843003413 Test Accuracy: 0.8151515151515152\n",
      "Epoch: 23 Train Loss: tensor(0.0535) Train Accuracy: 0.9821767159651119 Test Accuracy: 0.8196969696969697\n",
      "Epoch: 24 Train Loss: tensor(0.0429) Train Accuracy: 0.9890026545316648 Test Accuracy: 0.8318181818181818\n",
      "Epoch: 25 Train Loss: tensor(0.0429) Train Accuracy: 0.9863481228668942 Test Accuracy: 0.8227272727272728\n",
      "Epoch: 26 Train Loss: tensor(0.0385) Train Accuracy: 0.9920364050056882 Test Accuracy: 0.8196969696969697\n",
      "Epoch: 27 Train Loss: tensor(0.0317) Train Accuracy: 0.9931740614334471 Test Accuracy: 0.8166666666666667\n",
      "Epoch: 28 Train Loss: tensor(0.0500) Train Accuracy: 0.9855896852483883 Test Accuracy: 0.8242424242424242\n",
      "Epoch: 29 Train Loss: tensor(0.0360) Train Accuracy: 0.9927948426241942 Test Accuracy: 0.843939393939394\n",
      "Epoch: 30 Train Loss: tensor(0.0184) Train Accuracy: 0.9977246871444824 Test Accuracy: 0.8363636363636363\n",
      "Epoch: 31 Train Loss: tensor(0.0163) Train Accuracy: 0.9984831247629883 Test Accuracy: 0.8378787878787879\n",
      "Epoch: 32 Train Loss: tensor(0.0149) Train Accuracy: 0.9973454683352294 Test Accuracy: 0.8257575757575758\n",
      "Epoch: 33 Train Loss: tensor(0.0124) Train Accuracy: 0.9984831247629883 Test Accuracy: 0.8333333333333334\n",
      "Epoch: 34 Train Loss: tensor(0.0095) Train Accuracy: 1.0 Test Accuracy: 0.8318181818181818\n",
      "Epoch: 35 Train Loss: tensor(0.0077) Train Accuracy: 0.999620781190747 Test Accuracy: 0.8303030303030303\n",
      "Epoch: 36 Train Loss: tensor(0.0094) Train Accuracy: 0.9984831247629883 Test Accuracy: 0.8272727272727273\n",
      "Epoch: 37 Train Loss: tensor(0.0085) Train Accuracy: 0.9992415623814941 Test Accuracy: 0.843939393939394\n",
      "Epoch: 38 Train Loss: tensor(0.0069) Train Accuracy: 0.9992415623814941 Test Accuracy: 0.8257575757575758\n",
      "Epoch: 39 Train Loss: tensor(0.0057) Train Accuracy: 0.999620781190747 Test Accuracy: 0.8227272727272728\n",
      "Epoch: 40 Train Loss: tensor(0.0049) Train Accuracy: 1.0 Test Accuracy: 0.8348484848484848\n",
      "Epoch: 41 Train Loss: tensor(0.0039) Train Accuracy: 1.0 Test Accuracy: 0.8287878787878787\n",
      "Epoch: 42 Train Loss: tensor(0.0033) Train Accuracy: 1.0 Test Accuracy: 0.8287878787878787\n",
      "Epoch: 43 Train Loss: tensor(0.0031) Train Accuracy: 1.0 Test Accuracy: 0.8242424242424242\n",
      "Epoch: 44 Train Loss: tensor(0.0031) Train Accuracy: 1.0 Test Accuracy: 0.8393939393939394\n",
      "Epoch: 45 Train Loss: tensor(0.0029) Train Accuracy: 1.0 Test Accuracy: 0.8287878787878787\n",
      "Epoch: 46 Train Loss: tensor(0.0033) Train Accuracy: 0.999620781190747 Test Accuracy: 0.8181818181818182\n",
      "Epoch: 47 Train Loss: tensor(0.0034) Train Accuracy: 1.0 Test Accuracy: 0.8272727272727273\n",
      "Epoch: 48 Train Loss: tensor(0.0028) Train Accuracy: 0.999620781190747 Test Accuracy: 0.8181818181818182\n",
      "Epoch: 49 Train Loss: tensor(0.0031) Train Accuracy: 0.999620781190747 Test Accuracy: 0.8181818181818182\n",
      "Epoch: 50 Train Loss: tensor(0.0024) Train Accuracy: 1.0 Test Accuracy: 0.8378787878787879\n",
      "Epoch: 51 Train Loss: tensor(0.0027) Train Accuracy: 1.0 Test Accuracy: 0.8333333333333334\n",
      "Epoch: 52 Train Loss: tensor(0.0018) Train Accuracy: 1.0 Test Accuracy: 0.8227272727272728\n",
      "Epoch: 53 Train Loss: tensor(0.0016) Train Accuracy: 1.0 Test Accuracy: 0.8318181818181818\n",
      "Epoch: 54 Train Loss: tensor(0.0014) Train Accuracy: 1.0 Test Accuracy: 0.8227272727272728\n",
      "Epoch: 55 Train Loss: tensor(0.0014) Train Accuracy: 1.0 Test Accuracy: 0.8363636363636363\n",
      "Epoch: 56 Train Loss: tensor(0.0011) Train Accuracy: 1.0 Test Accuracy: 0.8196969696969697\n",
      "Epoch: 57 Train Loss: tensor(0.0011) Train Accuracy: 1.0 Test Accuracy: 0.8257575757575758\n",
      "Epoch: 58 Train Loss: tensor(0.0010) Train Accuracy: 1.0 Test Accuracy: 0.8212121212121212\n",
      "Epoch: 59 Train Loss: tensor(0.0022) Train Accuracy: 0.999620781190747 Test Accuracy: 0.8090909090909091\n",
      "Epoch: 60 Train Loss: tensor(0.0014) Train Accuracy: 1.0 Test Accuracy: 0.8196969696969697\n",
      "Epoch: 61 Train Loss: tensor(0.0021) Train Accuracy: 1.0 Test Accuracy: 0.8318181818181818\n",
      "Epoch: 62 Train Loss: tensor(0.0010) Train Accuracy: 1.0 Test Accuracy: 0.8212121212121212\n",
      "Epoch: 63 Train Loss: tensor(0.0010) Train Accuracy: 1.0 Test Accuracy: 0.8272727272727273\n",
      "Epoch: 64 Train Loss: tensor(0.0009) Train Accuracy: 1.0 Test Accuracy: 0.843939393939394\n",
      "Epoch: 65 Train Loss: tensor(0.0009) Train Accuracy: 1.0 Test Accuracy: 0.8272727272727273\n",
      "Epoch: 66 Train Loss: tensor(0.0009) Train Accuracy: 1.0 Test Accuracy: 0.8166666666666667\n",
      "Epoch: 67 Train Loss: tensor(0.0007) Train Accuracy: 1.0 Test Accuracy: 0.8212121212121212\n",
      "Epoch: 68 Train Loss: tensor(0.0008) Train Accuracy: 1.0 Test Accuracy: 0.8212121212121212\n",
      "Epoch: 69 Train Loss: tensor(0.0011) Train Accuracy: 1.0 Test Accuracy: 0.8212121212121212\n",
      "Epoch: 70 Train Loss: tensor(0.0008) Train Accuracy: 1.0 Test Accuracy: 0.8287878787878787\n",
      "Epoch: 71 Train Loss: tensor(0.0007) Train Accuracy: 1.0 Test Accuracy: 0.8257575757575758\n",
      "Epoch: 72 Train Loss: tensor(0.0006) Train Accuracy: 1.0 Test Accuracy: 0.8166666666666667\n",
      "Epoch: 73 Train Loss: tensor(0.0007) Train Accuracy: 1.0 Test Accuracy: 0.8363636363636363\n",
      "Epoch: 74 Train Loss: tensor(0.0010) Train Accuracy: 1.0 Test Accuracy: 0.8257575757575758\n",
      "Epoch: 75 Train Loss: tensor(0.0009) Train Accuracy: 1.0 Test Accuracy: 0.8242424242424242\n",
      "Epoch: 76 Train Loss: tensor(0.0008) Train Accuracy: 1.0 Test Accuracy: 0.8227272727272728\n",
      "Epoch: 77 Train Loss: tensor(0.0008) Train Accuracy: 1.0 Test Accuracy: 0.8303030303030303\n",
      "Epoch: 78 Train Loss: tensor(0.0006) Train Accuracy: 1.0 Test Accuracy: 0.8166666666666667\n",
      "Epoch: 79 Train Loss: tensor(0.0005) Train Accuracy: 1.0 Test Accuracy: 0.8196969696969697\n",
      "Epoch: 80 Train Loss: tensor(0.0005) Train Accuracy: 1.0 Test Accuracy: 0.8287878787878787\n",
      "Epoch: 81 Train Loss: tensor(0.0005) Train Accuracy: 1.0 Test Accuracy: 0.8257575757575758\n",
      "Epoch: 82 Train Loss: tensor(0.0004) Train Accuracy: 1.0 Test Accuracy: 0.8393939393939394\n",
      "Epoch: 83 Train Loss: tensor(0.0004) Train Accuracy: 1.0 Test Accuracy: 0.8303030303030303\n"
     ]
    },
    {
     "name": "stdout",
     "output_type": "stream",
     "text": [
      "Epoch: 84 Train Loss: tensor(0.0004) Train Accuracy: 1.0 Test Accuracy: 0.8257575757575758\n",
      "Epoch: 85 Train Loss: tensor(0.0004) Train Accuracy: 1.0 Test Accuracy: 0.8242424242424242\n",
      "Epoch: 86 Train Loss: tensor(0.0004) Train Accuracy: 1.0 Test Accuracy: 0.8348484848484848\n",
      "Epoch: 87 Train Loss: tensor(0.0003) Train Accuracy: 1.0 Test Accuracy: 0.8272727272727273\n",
      "Epoch: 88 Train Loss: tensor(0.0005) Train Accuracy: 1.0 Test Accuracy: 0.8151515151515152\n",
      "Epoch: 89 Train Loss: tensor(0.0004) Train Accuracy: 1.0 Test Accuracy: 0.8393939393939394\n",
      "Epoch: 90 Train Loss: tensor(0.0004) Train Accuracy: 1.0 Test Accuracy: 0.8242424242424242\n",
      "Epoch: 91 Train Loss: tensor(0.0004) Train Accuracy: 1.0 Test Accuracy: 0.8272727272727273\n",
      "Epoch: 92 Train Loss: tensor(0.0003) Train Accuracy: 1.0 Test Accuracy: 0.8227272727272728\n",
      "Epoch: 93 Train Loss: tensor(0.0003) Train Accuracy: 1.0 Test Accuracy: 0.8242424242424242\n",
      "Epoch: 94 Train Loss: tensor(0.0003) Train Accuracy: 1.0 Test Accuracy: 0.8363636363636363\n",
      "Epoch: 95 Train Loss: tensor(0.0003) Train Accuracy: 1.0 Test Accuracy: 0.8272727272727273\n",
      "Epoch: 96 Train Loss: tensor(0.0018) Train Accuracy: 0.999620781190747 Test Accuracy: 0.8227272727272728\n",
      "Epoch: 97 Train Loss: tensor(0.0026) Train Accuracy: 0.999620781190747 Test Accuracy: 0.8166666666666667\n",
      "Epoch: 98 Train Loss: tensor(0.0009) Train Accuracy: 1.0 Test Accuracy: 0.8196969696969697\n",
      "Epoch: 99 Train Loss: tensor(0.0007) Train Accuracy: 1.0 Test Accuracy: 0.8090909090909091\n"
     ]
    }
   ],
   "source": [
    "best_accuracy=0.0\n",
    "\n",
    "for epoch in range(num_epochs):\n",
    "    \n",
    "    #Evaluation and training on training dataset\n",
    "    model.train()\n",
    "    train_accuracy=0.0\n",
    "    train_loss=0.0\n",
    "    \n",
    "    for i, (images,labels) in enumerate(train_loader):\n",
    "        if torch.cuda.is_available():\n",
    "            images=Variable(images.cuda())\n",
    "            labels=Variable(labels.cuda())\n",
    "            \n",
    "        optimizer.zero_grad()\n",
    "        \n",
    "        outputs=model(images)\n",
    "        loss=loss_function(outputs,labels)\n",
    "        loss.backward()\n",
    "        optimizer.step()\n",
    "        train_loss+= loss.cpu().data*images.size(0)\n",
    "        _,prediction=torch.max(outputs.data,1)\n",
    "        train_accuracy+=int(torch.sum(prediction==labels.data))\n",
    "        \n",
    "    train_accuracy=train_accuracy/train_count\n",
    "    train_loss=train_loss/train_count\n",
    "    \n",
    "    # Evaluation on testing dataset\n",
    "    model.eval()\n",
    "    test_accuracy=0.0\n",
    "    test_loss=0.0\n",
    "    for i, (images,labels) in enumerate(test_loader):\n",
    "        if torch.cuda.is_available():\n",
    "            images=Variable(images.cuda())\n",
    "            labels=Variable(labels.cuda())\n",
    "        outputs=model(images)\n",
    "        loss=loss_function(outputs,labels)\n",
    "        loss.backward()\n",
    "        test_loss+= loss.cpu().data*images.size(0)        \n",
    "        _,prediction=torch.max(outputs.data,1)\n",
    "        test_accuracy+=int(torch.sum(prediction==labels.data))\n",
    "    \n",
    "    test_accuracy=test_accuracy/test_count\n",
    "    test_loss=test_loss/test_count\n",
    "    \n",
    "    print('Epoch: '+str(epoch)+' Train Loss: '+str(train_loss)+' Train Accuracy: '+str(train_accuracy)+' Test Accuracy: '+str(test_accuracy))\n",
    "    ta[epoch] = train_accuracy\n",
    "    tl[epoch] = train_loss\n",
    "    tea[epoch] = test_accuracy\n",
    "    tel[epoch] = test_loss\n",
    "    \n",
    "    #Save the best model\n",
    "    if test_accuracy>best_accuracy:\n",
    "        torch.save(model.state_dict(),'best_checkpoint_relu_48channel.model')\n",
    "        best_accuracy=test_accuracy"
   ]
  },
  {
   "cell_type": "code",
   "execution_count": 15,
   "id": "7580ac34",
   "metadata": {},
   "outputs": [
    {
     "data": {
      "image/png": "[encoded data removed]",
      "text/plain": [
       "<Figure size 432x288 with 1 Axes>"
      ]
     },
     "metadata": {
      "needs_background": "light"
     },
     "output_type": "display_data"
    },
    {
     "data": {
      "image/png": "[encoded data removed]",
      "text/plain": [
       "<Figure size 432x288 with 1 Axes>"
      ]
     },
     "metadata": {
      "needs_background": "light"
     },
     "output_type": "display_data"
    }
   ],
   "source": [
    "plt.title('ReLU Accuracy')\n",
    "plt.plot(ta)\n",
    "plt.plot(tea)\n",
    "plt.legend(['Train Accuracy', 'Test Accuracy'])\n",
    "plt.show()\n",
    "\n",
    "plt.title('ReLU Loss')\n",
    "plt.plot(tl)\n",
    "plt.plot(tel)\n",
    "plt.legend(['Train Loss', 'Test Loss'])\n",
    "plt.show()"
   ]
  },
  {
   "cell_type": "code",
   "execution_count": 16,
   "id": "0154d06a",
   "metadata": {},
   "outputs": [],
   "source": [
    "checkpoint = torch.load('best_checkpoint_relu_48channel.model')"
   ]
  },
  {
   "cell_type": "code",
   "execution_count": 17,
   "id": "c9c60d44",
   "metadata": {},
   "outputs": [
    {
     "data": {
      "text/plain": [
       "<All keys matched successfully>"
      ]
     },
     "execution_count": 17,
     "metadata": {},
     "output_type": "execute_result"
    }
   ],
   "source": [
    "model = ConvNet(num_classes=2)\n",
    "model.load_state_dict(checkpoint)"
   ]
  },
  {
   "cell_type": "code",
   "execution_count": 18,
   "id": "5b8159dd",
   "metadata": {},
   "outputs": [],
   "source": [
    "from prettytable import PrettyTable\n",
    "import torchinfo"
   ]
  },
  {
   "cell_type": "code",
   "execution_count": 19,
   "id": "292b2570",
   "metadata": {},
   "outputs": [],
   "source": [
    "def count_parameters(model):\n",
    "    table = PrettyTable(['Modules', 'Parameters'])\n",
    "    total_params = 0\n",
    "    for name, parameter in model.named_parameters():\n",
    "        if not parameter.requires_grad: continue\n",
    "        params = parameter.numel()\n",
    "        table.add_row([name, params])\n",
    "        total_params+=params\n",
    "    print(table)\n",
    "    print(f\"Total Trainable Params: {total_params}\")\n",
    "    return total_params"
   ]
  },
  {
   "cell_type": "code",
   "execution_count": 20,
   "id": "2f50aac3",
   "metadata": {},
   "outputs": [
    {
     "name": "stdout",
     "output_type": "stream",
     "text": [
      "+--------------+------------+\n",
      "|   Modules    | Parameters |\n",
      "+--------------+------------+\n",
      "| conv1.weight |    324     |\n",
      "|  conv1.bias  |     12     |\n",
      "|  bn1.weight  |     12     |\n",
      "|   bn1.bias   |     12     |\n",
      "| conv2.weight |    2592    |\n",
      "|  conv2.bias  |     24     |\n",
      "| conv3.weight |   10368    |\n",
      "|  conv3.bias  |     48     |\n",
      "|  bn3.weight  |     48     |\n",
      "|   bn3.bias   |     48     |\n",
      "|  fc.weight   |   540000   |\n",
      "|   fc.bias    |     2      |\n",
      "+--------------+------------+\n",
      "Total Trainable Params: 553490\n"
     ]
    },
    {
     "data": {
      "text/plain": [
       "553490"
      ]
     },
     "execution_count": 20,
     "metadata": {},
     "output_type": "execute_result"
    }
   ],
   "source": [
    "count_parameters(model)"
   ]
  },
  {
   "cell_type": "code",
   "execution_count": 21,
   "id": "04c32d4e",
   "metadata": {},
   "outputs": [
    {
     "data": {
      "text/plain": [
       "=====================================================================================================================================================================\n",
       "Layer (type:depth-idx)                   Input Shape               Output Shape              Param #                   Kernel Shape              Mult-Adds\n",
       "=====================================================================================================================================================================\n",
       "ConvNet                                  [1, 3, 150, 150]          [1, 2]                    --                        --                        --\n",
       "├─Conv2d: 1-1                            [1, 3, 150, 150]          [1, 12, 150, 150]         336                       [3, 3]                    7,560,000\n",
       "├─BatchNorm2d: 1-2                       [1, 12, 150, 150]         [1, 12, 150, 150]         24                        --                        24\n",
       "├─ReLU: 1-3                              [1, 12, 150, 150]         [1, 12, 150, 150]         --                        --                        --\n",
       "├─MaxPool2d: 1-4                         [1, 12, 150, 150]         [1, 12, 75, 75]           --                        2                         --\n",
       "├─Conv2d: 1-5                            [1, 12, 75, 75]           [1, 24, 75, 75]           2,616                     [3, 3]                    14,715,000\n",
       "├─ReLU: 1-6                              [1, 24, 75, 75]           [1, 24, 75, 75]           --                        --                        --\n",
       "├─Conv2d: 1-7                            [1, 24, 75, 75]           [1, 48, 75, 75]           10,416                    [3, 3]                    58,590,000\n",
       "├─BatchNorm2d: 1-8                       [1, 48, 75, 75]           [1, 48, 75, 75]           96                        --                        96\n",
       "├─ReLU: 1-9                              [1, 48, 75, 75]           [1, 48, 75, 75]           --                        --                        --\n",
       "├─Linear: 1-10                           [1, 270000]               [1, 2]                    540,002                   --                        540,002\n",
       "=====================================================================================================================================================================\n",
       "Total params: 553,490\n",
       "Trainable params: 553,490\n",
       "Non-trainable params: 0\n",
       "Total mult-adds (M): 81.41\n",
       "=====================================================================================================================================================================\n",
       "Input size (MB): 0.27\n",
       "Forward/backward pass size (MB): 9.72\n",
       "Params size (MB): 2.21\n",
       "Estimated Total Size (MB): 12.20\n",
       "====================================================================================================================================================================="
      ]
     },
     "execution_count": 21,
     "metadata": {},
     "output_type": "execute_result"
    }
   ],
   "source": [
    "torchinfo.summary(model, (3, 150, 150), batch_dim = 0, col_names = ('input_size', 'output_size', 'num_params', \n",
    "                                                                    'kernel_size', 'mult_adds'), verbose = 0)"
   ]
  },
  {
   "cell_type": "code",
   "execution_count": null,
   "id": "4070bdc8",
   "metadata": {},
   "outputs": [],
   "source": []
  }
 ],
 "metadata": {
  "kernelspec": {
   "display_name": "Python 3 (ipykernel)",
   "language": "python",
   "name": "python3"
  },
  "language_info": {
   "codemirror_mode": {
    "name": "ipython",
    "version": 3
   },
   "file_extension": ".py",
   "mimetype": "text/x-python",
   "name": "python",
   "nbconvert_exporter": "python",
   "pygments_lexer": "ipython3",
   "version": "3.9.7"
  }
 },
 "nbformat": 4,
 "nbformat_minor": 5
}
