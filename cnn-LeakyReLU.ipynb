{
 "cells": [
  {
   "cell_type": "code",
   "execution_count": 1,
   "id": "6bd25bab",
   "metadata": {},
   "outputs": [],
   "source": [
    "import os\n",
    "import numpy as np\n",
    "import torch\n",
    "import glob\n",
    "import torch.nn as nn\n",
    "from torchvision.transforms import transforms\n",
    "from torch.utils.data import DataLoader\n",
    "from torch.optim import Adam\n",
    "from torch.autograd import Variable\n",
    "import torchvision\n",
    "import pathlib"
   ]
  },
  {
   "cell_type": "code",
   "execution_count": 2,
   "id": "671f85c2",
   "metadata": {},
   "outputs": [],
   "source": [
    "device=torch.device('cuda' if torch.cuda.is_available() else 'cpu')"
   ]
  },
  {
   "cell_type": "code",
   "execution_count": 3,
   "id": "58c967ee",
   "metadata": {},
   "outputs": [
    {
     "name": "stdout",
     "output_type": "stream",
     "text": [
      "cuda\n"
     ]
    }
   ],
   "source": [
    "print(device)"
   ]
  },
  {
   "cell_type": "code",
   "execution_count": 4,
   "id": "db792453",
   "metadata": {},
   "outputs": [],
   "source": [
    "transformer=transforms.Compose([\n",
    "    transforms.Resize((150,150)),\n",
    "    transforms.RandomHorizontalFlip(),\n",
    "    transforms.ToTensor(),  #0-255 to 0-1, numpy to tensors\n",
    "    transforms.Normalize([0.5,0.5,0.5], # 0-1 to [-1,1] , formula (x-mean)/std\n",
    "                        [0.5,0.5,0.5])\n",
    "])"
   ]
  },
  {
   "cell_type": "code",
   "execution_count": 5,
   "id": "c9f5b83b",
   "metadata": {},
   "outputs": [],
   "source": [
    "train_path= r'C:\\Users\\DAWN\\Documents\\Python Scripts\\python\\data\\train'\n",
    "test_path= r'C:\\Users\\DAWN\\Documents\\Python Scripts\\python\\data\\test'\n",
    "\n",
    "train_loader=DataLoader(\n",
    "    torchvision.datasets.ImageFolder(train_path,transform=transformer),\n",
    "    batch_size=128, shuffle=True\n",
    ")\n",
    "test_loader=DataLoader(\n",
    "    torchvision.datasets.ImageFolder(test_path,transform=transformer),\n",
    "    batch_size=64, shuffle=True\n",
    ")"
   ]
  },
  {
   "cell_type": "code",
   "execution_count": 6,
   "id": "db337a41",
   "metadata": {},
   "outputs": [],
   "source": [
    "root=pathlib.Path(train_path)\n",
    "classes=sorted([j.name.split('/')[-1] for j in root.iterdir()])"
   ]
  },
  {
   "cell_type": "code",
   "execution_count": 7,
   "id": "6bc4552d",
   "metadata": {},
   "outputs": [
    {
     "name": "stdout",
     "output_type": "stream",
     "text": [
      "['benign', 'malignant']\n"
     ]
    }
   ],
   "source": [
    "print(classes)"
   ]
  },
  {
   "cell_type": "code",
   "execution_count": 8,
   "id": "0c5ac880",
   "metadata": {},
   "outputs": [],
   "source": [
    "class ConvNet(nn.Module):\n",
    "    def __init__(self,num_classes=2):\n",
    "        super(ConvNet,self).__init__()\n",
    "        \n",
    "        #Output size after convolution filter\n",
    "        #Input shape= (256,3,150,150)\n",
    "        \n",
    "        self.conv1=nn.Conv2d(in_channels=3,out_channels=12,kernel_size=3,stride=1,padding=1)\n",
    "        #Shape= (256,12,150,150)\n",
    "        self.bn1=nn.BatchNorm2d(num_features=12)\n",
    "        #Shape= (256,12,150,150)\n",
    "        self.relu1=nn.LeakyReLU()\n",
    "        #Shape= (256,12,150,150)\n",
    "        \n",
    "        self.pool=nn.MaxPool2d(kernel_size=2)\n",
    "        #Reduce the image size be factor 2\n",
    "        #Shape= (256,12,75,75)\n",
    "        \n",
    "        self.conv2=nn.Conv2d(in_channels=12,out_channels=20,kernel_size=3,stride=1,padding=1)\n",
    "        #Shape= (256,20,75,75)\n",
    "        self.relu2=nn.LeakyReLU()\n",
    "        #Shape= (256,20,75,75)\n",
    "        \n",
    "        self.conv3=nn.Conv2d(in_channels=20,out_channels=32,kernel_size=3,stride=1,padding=1)\n",
    "        #Shape= (256,32,75,75)\n",
    "        self.bn3=nn.BatchNorm2d(num_features=32)\n",
    "        #Shape= (256,32,75,75)\n",
    "        self.relu3=nn.LeakyReLU()\n",
    "        #Shape= (256,32,75,75)\n",
    "        \n",
    "        self.fc=nn.Linear(in_features=75 * 75 * 32,out_features=num_classes)\n",
    "        \n",
    "    def forward(self,input):\n",
    "        output=self.conv1(input)\n",
    "        output=self.bn1(output)\n",
    "        output=self.relu1(output)\n",
    "            \n",
    "        output=self.pool(output)\n",
    "            \n",
    "        output=self.conv2(output)\n",
    "        output=self.relu2(output)\n",
    "            \n",
    "        output=self.conv3(output)\n",
    "        output=self.bn3(output)\n",
    "        output=self.relu3(output)\n",
    "            \n",
    "            #Above output will be in matrix form, with shape (256,32,75,75)\n",
    "            \n",
    "        output=output.view(-1,32*75*75)\n",
    "        output=self.fc(output)            \n",
    "        return output"
   ]
  },
  {
   "cell_type": "code",
   "execution_count": 9,
   "id": "951e30cb",
   "metadata": {},
   "outputs": [],
   "source": [
    "model=ConvNet(num_classes=2).to(device)"
   ]
  },
  {
   "cell_type": "code",
   "execution_count": 10,
   "id": "5e6a4f69",
   "metadata": {},
   "outputs": [],
   "source": [
    "optimizer=Adam(model.parameters(),lr=0.001,weight_decay=0.0001)\n",
    "loss_function=nn.CrossEntropyLoss()"
   ]
  },
  {
   "cell_type": "code",
   "execution_count": 29,
   "id": "1d991d5d",
   "metadata": {},
   "outputs": [],
   "source": [
    "num_epochs=100"
   ]
  },
  {
   "cell_type": "code",
   "execution_count": 12,
   "id": "67e4679c",
   "metadata": {},
   "outputs": [],
   "source": [
    "train_count=len(glob.glob(train_path+'/**/*.jpg'))\n",
    "test_count=len(glob.glob(test_path+'/**/*.jpg'))"
   ]
  },
  {
   "cell_type": "code",
   "execution_count": 13,
   "id": "af661ad8",
   "metadata": {},
   "outputs": [
    {
     "name": "stdout",
     "output_type": "stream",
     "text": [
      "2637 660\n"
     ]
    }
   ],
   "source": [
    "print(train_count,test_count)"
   ]
  },
  {
   "cell_type": "code",
   "execution_count": 30,
   "id": "ab16e80a",
   "metadata": {},
   "outputs": [],
   "source": [
    "ta = [0]*100\n",
    "tl = [0]*100\n",
    "tea = [0]*100\n",
    "tel = [0]*100"
   ]
  },
  {
   "cell_type": "code",
   "execution_count": 31,
   "id": "55e1f558",
   "metadata": {},
   "outputs": [
    {
     "name": "stdout",
     "output_type": "stream",
     "text": [
      "Epoch: 0 Train Loss: tensor(0.0007) Train Accuracy: 1.0 Test Accuracy: 0.8348484848484848\n",
      "Epoch: 1 Train Loss: tensor(0.0006) Train Accuracy: 1.0 Test Accuracy: 0.8287878787878787\n",
      "Epoch: 2 Train Loss: tensor(0.0006) Train Accuracy: 1.0 Test Accuracy: 0.8333333333333334\n",
      "Epoch: 3 Train Loss: tensor(0.0006) Train Accuracy: 1.0 Test Accuracy: 0.8318181818181818\n",
      "Epoch: 4 Train Loss: tensor(0.0006) Train Accuracy: 1.0 Test Accuracy: 0.8363636363636363\n",
      "Epoch: 5 Train Loss: tensor(0.0005) Train Accuracy: 1.0 Test Accuracy: 0.8196969696969697\n",
      "Epoch: 6 Train Loss: tensor(0.0007) Train Accuracy: 1.0 Test Accuracy: 0.8333333333333334\n",
      "Epoch: 7 Train Loss: tensor(0.0006) Train Accuracy: 1.0 Test Accuracy: 0.8303030303030303\n",
      "Epoch: 8 Train Loss: tensor(0.0005) Train Accuracy: 1.0 Test Accuracy: 0.8272727272727273\n",
      "Epoch: 9 Train Loss: tensor(0.0005) Train Accuracy: 1.0 Test Accuracy: 0.8242424242424242\n",
      "Epoch: 10 Train Loss: tensor(0.0005) Train Accuracy: 1.0 Test Accuracy: 0.8363636363636363\n",
      "Epoch: 11 Train Loss: tensor(0.0005) Train Accuracy: 1.0 Test Accuracy: 0.8303030303030303\n",
      "Epoch: 12 Train Loss: tensor(0.0005) Train Accuracy: 1.0 Test Accuracy: 0.8318181818181818\n",
      "Epoch: 13 Train Loss: tensor(0.0005) Train Accuracy: 1.0 Test Accuracy: 0.8272727272727273\n",
      "Epoch: 14 Train Loss: tensor(0.0004) Train Accuracy: 1.0 Test Accuracy: 0.8348484848484848\n",
      "Epoch: 15 Train Loss: tensor(0.0004) Train Accuracy: 1.0 Test Accuracy: 0.8303030303030303\n",
      "Epoch: 16 Train Loss: tensor(0.0004) Train Accuracy: 1.0 Test Accuracy: 0.8333333333333334\n",
      "Epoch: 17 Train Loss: tensor(0.0004) Train Accuracy: 1.0 Test Accuracy: 0.8378787878787879\n",
      "Epoch: 18 Train Loss: tensor(0.0004) Train Accuracy: 1.0 Test Accuracy: 0.8333333333333334\n",
      "Epoch: 19 Train Loss: tensor(0.0004) Train Accuracy: 1.0 Test Accuracy: 0.8363636363636363\n",
      "Epoch: 20 Train Loss: tensor(0.0004) Train Accuracy: 1.0 Test Accuracy: 0.8348484848484848\n",
      "Epoch: 21 Train Loss: tensor(0.0004) Train Accuracy: 1.0 Test Accuracy: 0.8212121212121212\n",
      "Epoch: 22 Train Loss: tensor(0.0004) Train Accuracy: 1.0 Test Accuracy: 0.8303030303030303\n",
      "Epoch: 23 Train Loss: tensor(0.0005) Train Accuracy: 1.0 Test Accuracy: 0.8393939393939394\n",
      "Epoch: 24 Train Loss: tensor(0.0004) Train Accuracy: 1.0 Test Accuracy: 0.843939393939394\n",
      "Epoch: 25 Train Loss: tensor(0.0003) Train Accuracy: 1.0 Test Accuracy: 0.843939393939394\n",
      "Epoch: 26 Train Loss: tensor(0.0004) Train Accuracy: 1.0 Test Accuracy: 0.8303030303030303\n",
      "Epoch: 27 Train Loss: tensor(0.0003) Train Accuracy: 1.0 Test Accuracy: 0.8242424242424242\n",
      "Epoch: 28 Train Loss: tensor(0.0004) Train Accuracy: 1.0 Test Accuracy: 0.8409090909090909\n",
      "Epoch: 29 Train Loss: tensor(0.0003) Train Accuracy: 1.0 Test Accuracy: 0.8560606060606061\n",
      "Epoch: 30 Train Loss: tensor(0.0003) Train Accuracy: 1.0 Test Accuracy: 0.8303030303030303\n",
      "Epoch: 31 Train Loss: tensor(0.0003) Train Accuracy: 1.0 Test Accuracy: 0.8378787878787879\n",
      "Epoch: 32 Train Loss: tensor(0.0003) Train Accuracy: 1.0 Test Accuracy: 0.8393939393939394\n",
      "Epoch: 33 Train Loss: tensor(0.0003) Train Accuracy: 1.0 Test Accuracy: 0.8409090909090909\n",
      "Epoch: 34 Train Loss: tensor(0.0003) Train Accuracy: 1.0 Test Accuracy: 0.8318181818181818\n",
      "Epoch: 35 Train Loss: tensor(0.0003) Train Accuracy: 1.0 Test Accuracy: 0.8303030303030303\n",
      "Epoch: 36 Train Loss: tensor(0.0003) Train Accuracy: 1.0 Test Accuracy: 0.8272727272727273\n",
      "Epoch: 37 Train Loss: tensor(0.0002) Train Accuracy: 1.0 Test Accuracy: 0.8318181818181818\n",
      "Epoch: 38 Train Loss: tensor(0.0003) Train Accuracy: 1.0 Test Accuracy: 0.8469696969696969\n",
      "Epoch: 39 Train Loss: tensor(0.0002) Train Accuracy: 1.0 Test Accuracy: 0.8393939393939394\n",
      "Epoch: 40 Train Loss: tensor(0.0003) Train Accuracy: 1.0 Test Accuracy: 0.843939393939394\n",
      "Epoch: 41 Train Loss: tensor(0.0003) Train Accuracy: 1.0 Test Accuracy: 0.8287878787878787\n",
      "Epoch: 42 Train Loss: tensor(0.0002) Train Accuracy: 1.0 Test Accuracy: 0.8363636363636363\n",
      "Epoch: 43 Train Loss: tensor(0.0002) Train Accuracy: 1.0 Test Accuracy: 0.8333333333333334\n",
      "Epoch: 44 Train Loss: tensor(0.0002) Train Accuracy: 1.0 Test Accuracy: 0.8257575757575758\n",
      "Epoch: 45 Train Loss: tensor(0.0003) Train Accuracy: 1.0 Test Accuracy: 0.8257575757575758\n",
      "Epoch: 46 Train Loss: tensor(0.0003) Train Accuracy: 1.0 Test Accuracy: 0.8363636363636363\n",
      "Epoch: 47 Train Loss: tensor(0.0002) Train Accuracy: 1.0 Test Accuracy: 0.8196969696969697\n",
      "Epoch: 48 Train Loss: tensor(0.0002) Train Accuracy: 1.0 Test Accuracy: 0.8393939393939394\n",
      "Epoch: 49 Train Loss: tensor(0.0002) Train Accuracy: 1.0 Test Accuracy: 0.8272727272727273\n",
      "Epoch: 50 Train Loss: tensor(0.0002) Train Accuracy: 1.0 Test Accuracy: 0.8333333333333334\n",
      "Epoch: 51 Train Loss: tensor(0.0002) Train Accuracy: 1.0 Test Accuracy: 0.8424242424242424\n",
      "Epoch: 52 Train Loss: tensor(0.0002) Train Accuracy: 1.0 Test Accuracy: 0.8287878787878787\n",
      "Epoch: 53 Train Loss: tensor(0.0002) Train Accuracy: 1.0 Test Accuracy: 0.8166666666666667\n",
      "Epoch: 54 Train Loss: tensor(0.0002) Train Accuracy: 1.0 Test Accuracy: 0.8424242424242424\n",
      "Epoch: 55 Train Loss: tensor(0.0002) Train Accuracy: 1.0 Test Accuracy: 0.8393939393939394\n",
      "Epoch: 56 Train Loss: tensor(0.0002) Train Accuracy: 1.0 Test Accuracy: 0.8393939393939394\n",
      "Epoch: 57 Train Loss: tensor(0.0002) Train Accuracy: 1.0 Test Accuracy: 0.8318181818181818\n",
      "Epoch: 58 Train Loss: tensor(0.0002) Train Accuracy: 1.0 Test Accuracy: 0.8303030303030303\n",
      "Epoch: 59 Train Loss: tensor(0.0002) Train Accuracy: 1.0 Test Accuracy: 0.8424242424242424\n",
      "Epoch: 60 Train Loss: tensor(0.0002) Train Accuracy: 1.0 Test Accuracy: 0.8318181818181818\n",
      "Epoch: 61 Train Loss: tensor(0.0002) Train Accuracy: 1.0 Test Accuracy: 0.8393939393939394\n",
      "Epoch: 62 Train Loss: tensor(0.0002) Train Accuracy: 1.0 Test Accuracy: 0.8303030303030303\n",
      "Epoch: 63 Train Loss: tensor(0.0002) Train Accuracy: 1.0 Test Accuracy: 0.8484848484848485\n",
      "Epoch: 64 Train Loss: tensor(0.0002) Train Accuracy: 1.0 Test Accuracy: 0.8227272727272728\n",
      "Epoch: 65 Train Loss: tensor(0.0002) Train Accuracy: 1.0 Test Accuracy: 0.8409090909090909\n",
      "Epoch: 66 Train Loss: tensor(0.0002) Train Accuracy: 1.0 Test Accuracy: 0.8348484848484848\n",
      "Epoch: 67 Train Loss: tensor(0.0001) Train Accuracy: 1.0 Test Accuracy: 0.8348484848484848\n",
      "Epoch: 68 Train Loss: tensor(0.0002) Train Accuracy: 1.0 Test Accuracy: 0.8303030303030303\n",
      "Epoch: 69 Train Loss: tensor(0.0002) Train Accuracy: 1.0 Test Accuracy: 0.8363636363636363\n",
      "Epoch: 70 Train Loss: tensor(0.0002) Train Accuracy: 1.0 Test Accuracy: 0.8318181818181818\n",
      "Epoch: 71 Train Loss: tensor(0.0001) Train Accuracy: 1.0 Test Accuracy: 0.8333333333333334\n",
      "Epoch: 72 Train Loss: tensor(0.0001) Train Accuracy: 1.0 Test Accuracy: 0.8318181818181818\n",
      "Epoch: 73 Train Loss: tensor(0.0001) Train Accuracy: 1.0 Test Accuracy: 0.8333333333333334\n",
      "Epoch: 74 Train Loss: tensor(0.0002) Train Accuracy: 1.0 Test Accuracy: 0.8378787878787879\n",
      "Epoch: 75 Train Loss: tensor(0.0005) Train Accuracy: 1.0 Test Accuracy: 0.8242424242424242\n",
      "Epoch: 76 Train Loss: tensor(0.0003) Train Accuracy: 1.0 Test Accuracy: 0.8318181818181818\n",
      "Epoch: 77 Train Loss: tensor(0.0002) Train Accuracy: 1.0 Test Accuracy: 0.8333333333333334\n",
      "Epoch: 78 Train Loss: tensor(0.0002) Train Accuracy: 1.0 Test Accuracy: 0.8303030303030303\n",
      "Epoch: 79 Train Loss: tensor(0.0001) Train Accuracy: 1.0 Test Accuracy: 0.843939393939394\n",
      "Epoch: 80 Train Loss: tensor(0.0002) Train Accuracy: 1.0 Test Accuracy: 0.8257575757575758\n",
      "Epoch: 81 Train Loss: tensor(0.0001) Train Accuracy: 1.0 Test Accuracy: 0.8318181818181818\n",
      "Epoch: 82 Train Loss: tensor(0.0002) Train Accuracy: 1.0 Test Accuracy: 0.843939393939394\n",
      "Epoch: 83 Train Loss: tensor(0.0002) Train Accuracy: 1.0 Test Accuracy: 0.8303030303030303\n",
      "Epoch: 84 Train Loss: tensor(0.0002) Train Accuracy: 1.0 Test Accuracy: 0.8378787878787879\n",
      "Epoch: 85 Train Loss: tensor(0.0001) Train Accuracy: 1.0 Test Accuracy: 0.8545454545454545\n",
      "Epoch: 86 Train Loss: tensor(0.0001) Train Accuracy: 1.0 Test Accuracy: 0.8242424242424242\n",
      "Epoch: 87 Train Loss: tensor(0.0001) Train Accuracy: 1.0 Test Accuracy: 0.8303030303030303\n",
      "Epoch: 88 Train Loss: tensor(0.0001) Train Accuracy: 1.0 Test Accuracy: 0.8348484848484848\n",
      "Epoch: 89 Train Loss: tensor(0.0001) Train Accuracy: 1.0 Test Accuracy: 0.8469696969696969\n",
      "Epoch: 90 Train Loss: tensor(0.0001) Train Accuracy: 1.0 Test Accuracy: 0.8242424242424242\n"
     ]
    },
    {
     "name": "stdout",
     "output_type": "stream",
     "text": [
      "Epoch: 91 Train Loss: tensor(0.0001) Train Accuracy: 1.0 Test Accuracy: 0.8212121212121212\n",
      "Epoch: 92 Train Loss: tensor(0.0001) Train Accuracy: 1.0 Test Accuracy: 0.8424242424242424\n",
      "Epoch: 93 Train Loss: tensor(0.0001) Train Accuracy: 1.0 Test Accuracy: 0.8393939393939394\n",
      "Epoch: 94 Train Loss: tensor(0.0001) Train Accuracy: 1.0 Test Accuracy: 0.8318181818181818\n",
      "Epoch: 95 Train Loss: tensor(0.0001) Train Accuracy: 1.0 Test Accuracy: 0.8348484848484848\n",
      "Epoch: 96 Train Loss: tensor(0.0001) Train Accuracy: 1.0 Test Accuracy: 0.8287878787878787\n",
      "Epoch: 97 Train Loss: tensor(0.0001) Train Accuracy: 1.0 Test Accuracy: 0.8348484848484848\n",
      "Epoch: 98 Train Loss: tensor(0.0001) Train Accuracy: 1.0 Test Accuracy: 0.8378787878787879\n",
      "Epoch: 99 Train Loss: tensor(0.0001) Train Accuracy: 1.0 Test Accuracy: 0.8393939393939394\n"
     ]
    }
   ],
   "source": [
    "best_accuracy=0.0\n",
    "\n",
    "for epoch in range(num_epochs):\n",
    "    \n",
    "    #Evaluation and training on training dataset\n",
    "    model.train()\n",
    "    train_accuracy=0.0\n",
    "    train_loss=0.0\n",
    "    \n",
    "    for i, (images,labels) in enumerate(train_loader):\n",
    "        if torch.cuda.is_available():\n",
    "            images=Variable(images.cuda())\n",
    "            labels=Variable(labels.cuda())\n",
    "            \n",
    "        optimizer.zero_grad()\n",
    "        \n",
    "        outputs=model(images)\n",
    "        loss=loss_function(outputs,labels)\n",
    "        loss.backward()\n",
    "        optimizer.step()\n",
    "        \n",
    "        train_loss+= loss.cpu().data*images.size(0)\n",
    "        _,prediction=torch.max(outputs.data,1)\n",
    "        train_accuracy+=int(torch.sum(prediction==labels.data))\n",
    "        \n",
    "    train_accuracy=train_accuracy/train_count\n",
    "    train_loss=train_loss/train_count\n",
    "    \n",
    "    \n",
    "    # Evaluation on testing dataset\n",
    "    model.eval()\n",
    "    test_accuracy=0.0\n",
    "    test_loss=0.0\n",
    "    for i, (images,labels) in enumerate(test_loader):\n",
    "        if torch.cuda.is_available():\n",
    "            images=Variable(images.cuda())\n",
    "            labels=Variable(labels.cuda())\n",
    "            \n",
    "        outputs=model(images)\n",
    "        test_loss+= loss.cpu().data*images.size(0)\n",
    "        _,prediction=torch.max(outputs.data,1)\n",
    "        test_accuracy+=int(torch.sum(prediction==labels.data))\n",
    "    \n",
    "    test_accuracy=test_accuracy/test_count\n",
    "    test_loss= test_loss/test_count\n",
    "    \n",
    "    print('Epoch: '+str(epoch)+' Train Loss: '+str(train_loss)+' Train Accuracy: '+str(train_accuracy)+' Test Accuracy: '+str(test_accuracy))\n",
    "    ta[epoch] = train_accuracy\n",
    "    tl[epoch] = train_loss\n",
    "    tea[epoch] = test_accuracy\n",
    "    tel[epoch] = test_loss\n",
    "    \n",
    "    #Save the best model\n",
    "    if test_accuracy>best_accuracy:\n",
    "        torch.save(model.state_dict(),'best_checkpoint_leakyrelu.model')\n",
    "        best_accuracy=test_accuracy"
   ]
  },
  {
   "cell_type": "code",
   "execution_count": 16,
   "id": "9b27feb3",
   "metadata": {},
   "outputs": [],
   "source": [
    "import matplotlib.pyplot as plt"
   ]
  },
  {
   "cell_type": "code",
   "execution_count": 59,
   "id": "3df97969",
   "metadata": {},
   "outputs": [
    {
     "data": {
      "image/png": "[encoded data removed]",
      "text/plain": [
       "<Figure size 432x288 with 1 Axes>"
      ]
     },
     "metadata": {
      "needs_background": "light"
     },
     "output_type": "display_data"
    },
    {
     "data": {
      "image/png": "[encoded data removed]",
      "text/plain": [
       "<Figure size 432x288 with 1 Axes>"
      ]
     },
     "metadata": {
      "needs_background": "light"
     },
     "output_type": "display_data"
    }
   ],
   "source": [
    "plt.title(\"Leaky ReLU Train Accuracy\")\n",
    "plt.plot(ta)\n",
    "plt.show()\n",
    "\n",
    "plt.title(\"Leaky ReLU Train Loss\")\n",
    "plt.ylim([0,0.001])\n",
    "plt.plot(tl)\n",
    "plt.show()"
   ]
  },
  {
   "cell_type": "code",
   "execution_count": 60,
   "id": "bb6465b0",
   "metadata": {},
   "outputs": [
    {
     "data": {
      "image/png": "[encoded data removed]",
      "text/plain": [
       "<Figure size 432x288 with 1 Axes>"
      ]
     },
     "metadata": {
      "needs_background": "light"
     },
     "output_type": "display_data"
    },
    {
     "data": {
      "image/png": "[encoded data removed]",
      "text/plain": [
       "<Figure size 432x288 with 1 Axes>"
      ]
     },
     "metadata": {
      "needs_background": "light"
     },
     "output_type": "display_data"
    }
   ],
   "source": [
    "plt.title(\"Leaky ReLU Test Accuracy\")\n",
    "plt.xlim([0,1])\n",
    "plt.plot(tea)\n",
    "plt.show()\n",
    "\n",
    "plt.title(\"Leaky ReLU Test Loss\")\n",
    "plt.ylim([0,0.005])\n",
    "plt.plot(tel)\n",
    "plt.show()"
   ]
  },
  {
   "cell_type": "code",
   "execution_count": 61,
   "id": "7fb0689c",
   "metadata": {},
   "outputs": [
    {
     "data": {
      "image/png": "[encoded data removed]",
      "text/plain": [
       "<Figure size 432x288 with 1 Axes>"
      ]
     },
     "metadata": {
      "needs_background": "light"
     },
     "output_type": "display_data"
    },
    {
     "data": {
      "image/png": "[encoded data removed]",
      "text/plain": [
       "<Figure size 432x288 with 1 Axes>"
      ]
     },
     "metadata": {
      "needs_background": "light"
     },
     "output_type": "display_data"
    }
   ],
   "source": [
    "plt.title('Leaky ReLU Accuracy')\n",
    "plt.plot(ta)\n",
    "plt.plot(tea)\n",
    "plt.legend(['Train Accuracy', 'Test Accuracy'])\n",
    "plt.show()\n",
    "\n",
    "plt.title('Leaky ReLU Loss')\n",
    "plt.plot(tl)\n",
    "plt.plot(tel)\n",
    "plt.legend(['Train Loss', 'Test Loss'])\n",
    "plt.show()"
   ]
  },
  {
   "cell_type": "code",
   "execution_count": 49,
   "id": "702832ce",
   "metadata": {},
   "outputs": [],
   "source": [
    "checkpoint = torch.load('best_checkpoint_leakyrelu.model')"
   ]
  },
  {
   "cell_type": "code",
   "execution_count": 50,
   "id": "69db8080",
   "metadata": {},
   "outputs": [
    {
     "data": {
      "text/plain": [
       "<All keys matched successfully>"
      ]
     },
     "execution_count": 50,
     "metadata": {},
     "output_type": "execute_result"
    }
   ],
   "source": [
    "model = ConvNet(num_classes=2)\n",
    "model.load_state_dict(checkpoint)"
   ]
  },
  {
   "cell_type": "code",
   "execution_count": 51,
   "id": "04116dbe",
   "metadata": {},
   "outputs": [],
   "source": [
    "from prettytable import PrettyTable\n",
    "def count_parameters(model):\n",
    "    table = PrettyTable(['Modules', 'Parameters'])\n",
    "    total_params = 0\n",
    "    for name, parameter in model.named_parameters():\n",
    "        if not parameter.requires_grad: continue\n",
    "        params = parameter.numel()\n",
    "        table.add_row([name, params])\n",
    "        total_params+=params\n",
    "    print(table)\n",
    "    print(f\"Total Trainable Params: {total_params}\")\n",
    "    return total_params"
   ]
  },
  {
   "cell_type": "code",
   "execution_count": 54,
   "id": "281d59e0",
   "metadata": {},
   "outputs": [
    {
     "name": "stdout",
     "output_type": "stream",
     "text": [
      "+--------------+------------+\n",
      "|   Modules    | Parameters |\n",
      "+--------------+------------+\n",
      "| conv1.weight |    324     |\n",
      "|  conv1.bias  |     12     |\n",
      "|  bn1.weight  |     12     |\n",
      "|   bn1.bias   |     12     |\n",
      "| conv2.weight |    2160    |\n",
      "|  conv2.bias  |     20     |\n",
      "| conv3.weight |    5760    |\n",
      "|  conv3.bias  |     32     |\n",
      "|  bn3.weight  |     32     |\n",
      "|   bn3.bias   |     32     |\n",
      "|  fc.weight   |   360000   |\n",
      "|   fc.bias    |     2      |\n",
      "+--------------+------------+\n",
      "Total Trainable Params: 368398\n"
     ]
    },
    {
     "data": {
      "text/plain": [
       "368398"
      ]
     },
     "execution_count": 54,
     "metadata": {},
     "output_type": "execute_result"
    }
   ],
   "source": [
    "count_parameters(model)"
   ]
  },
  {
   "cell_type": "code",
   "execution_count": 57,
   "id": "fbf63c2c",
   "metadata": {},
   "outputs": [
    {
     "data": {
      "text/plain": [
       "=====================================================================================================================================================================\n",
       "Layer (type:depth-idx)                   Input Shape               Output Shape              Param #                   Kernel Shape              Mult-Adds\n",
       "=====================================================================================================================================================================\n",
       "ConvNet                                  [1, 3, 150, 150]          [1, 2]                    --                        --                        --\n",
       "├─Conv2d: 1-1                            [1, 3, 150, 150]          [1, 12, 150, 150]         336                       [3, 3]                    7,560,000\n",
       "├─BatchNorm2d: 1-2                       [1, 12, 150, 150]         [1, 12, 150, 150]         24                        --                        24\n",
       "├─LeakyReLU: 1-3                         [1, 12, 150, 150]         [1, 12, 150, 150]         --                        --                        --\n",
       "├─MaxPool2d: 1-4                         [1, 12, 150, 150]         [1, 12, 75, 75]           --                        2                         --\n",
       "├─Conv2d: 1-5                            [1, 12, 75, 75]           [1, 20, 75, 75]           2,180                     [3, 3]                    12,262,500\n",
       "├─LeakyReLU: 1-6                         [1, 20, 75, 75]           [1, 20, 75, 75]           --                        --                        --\n",
       "├─Conv2d: 1-7                            [1, 20, 75, 75]           [1, 32, 75, 75]           5,792                     [3, 3]                    32,580,000\n",
       "├─BatchNorm2d: 1-8                       [1, 32, 75, 75]           [1, 32, 75, 75]           64                        --                        64\n",
       "├─LeakyReLU: 1-9                         [1, 32, 75, 75]           [1, 32, 75, 75]           --                        --                        --\n",
       "├─Linear: 1-10                           [1, 180000]               [1, 2]                    360,002                   --                        360,002\n",
       "=====================================================================================================================================================================\n",
       "Total params: 368,398\n",
       "Trainable params: 368,398\n",
       "Non-trainable params: 0\n",
       "Total mult-adds (M): 52.76\n",
       "=====================================================================================================================================================================\n",
       "Input size (MB): 0.27\n",
       "Forward/backward pass size (MB): 8.10\n",
       "Params size (MB): 1.47\n",
       "Estimated Total Size (MB): 9.84\n",
       "====================================================================================================================================================================="
      ]
     },
     "execution_count": 57,
     "metadata": {},
     "output_type": "execute_result"
    }
   ],
   "source": [
    "import torchinfo\n",
    "torchinfo.summary(model, (3, 150, 150), batch_dim = 0, col_names = ('input_size', 'output_size', 'num_params', 'kernel_size', 'mult_adds'), verbose = 0)"
   ]
  },
  {
   "cell_type": "code",
   "execution_count": null,
   "id": "5dca960a",
   "metadata": {},
   "outputs": [],
   "source": []
  }
 ],
 "metadata": {
  "kernelspec": {
   "display_name": "Python 3 (ipykernel)",
   "language": "python",
   "name": "python3"
  },
  "language_info": {
   "codemirror_mode": {
    "name": "ipython",
    "version": 3
   },
   "file_extension": ".py",
   "mimetype": "text/x-python",
   "name": "python",
   "nbconvert_exporter": "python",
   "pygments_lexer": "ipython3",
   "version": "3.9.7"
  }
 },
 "nbformat": 4,
 "nbformat_minor": 5
}
